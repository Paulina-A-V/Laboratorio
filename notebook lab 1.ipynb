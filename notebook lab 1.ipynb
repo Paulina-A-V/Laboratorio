{
 "cells": [
  {
   "cell_type": "markdown",
   "metadata": {},
   "source": [
    "# LABORATORIO 1\n"
   ]
  },
  {
   "cell_type": "markdown",
   "metadata": {},
   "source": [
    "## Entendimiento de los Datos"
   ]
  },
  {
   "cell_type": "code",
   "execution_count": 15,
   "metadata": {},
   "outputs": [],
   "source": [
    "#Carga de librerias\n",
    "\n",
    "import numpy as np\n",
    "import pandas as pd\n",
    "\n",
    "#from joblib import dump, load\n",
    "\n",
    "import matplotlib.pyplot as plt\n",
    "import seaborn as sns\n",
    "\n",
    "from sklearn.model_selection import train_test_split\n",
    "from sklearn.linear_model import LinearRegression\n",
    "from sklearn.pipeline import Pipeline\n",
    "from sklearn.compose import ColumnTransformer\n",
    "from sklearn.preprocessing import StandardScaler\n",
    "from sklearn.preprocessing import PolynomialFeatures\n",
    "from sklearn.metrics import mean_absolute_error, mean_squared_error, r2_score\n",
    "\n",
    "import scipy.stats as stats"
   ]
  },
  {
   "cell_type": "markdown",
   "metadata": {},
   "source": [
    "1.2 Carga de los Datos"
   ]
  },
  {
   "cell_type": "code",
   "execution_count": 16,
   "metadata": {},
   "outputs": [],
   "source": [
    "#Carga de datos\n",
    "\n",
    "df = pd.read_csv('./training_data.csv')\n",
    "data= df.copy()\n",
    "\n"
   ]
  },
  {
   "cell_type": "markdown",
   "metadata": {},
   "source": [
    "1.3 Información Basica de los Datos"
   ]
  },
  {
   "cell_type": "code",
   "execution_count": 20,
   "metadata": {},
   "outputs": [
    {
     "name": "stdout",
     "output_type": "stream",
     "text": [
      "<class 'pandas.core.frame.DataFrame'>\n",
      "RangeIndex: 4000 entries, 0 to 3999\n",
      "Data columns (total 18 columns):\n",
      " #   Column    Non-Null Count  Dtype  \n",
      "---  ------    --------------  -----  \n",
      " 0   objid     4000 non-null   int64  \n",
      " 1   ra        4000 non-null   float64\n",
      " 2   dec       4000 non-null   float64\n",
      " 3   u         4000 non-null   float64\n",
      " 4   g         4000 non-null   float64\n",
      " 5   r         4000 non-null   float64\n",
      " 6   i         4000 non-null   float64\n",
      " 7   z         4000 non-null   float64\n",
      " 8   run       4000 non-null   int64  \n",
      " 9   camcol    4000 non-null   int64  \n",
      " 10  field     4000 non-null   int64  \n",
      " 11  score     4000 non-null   float64\n",
      " 12  clean     4000 non-null   int64  \n",
      " 13  class     4000 non-null   object \n",
      " 14  redshift  4000 non-null   float64\n",
      " 15  mjd       4000 non-null   int64  \n",
      " 16  rowv      4000 non-null   float64\n",
      " 17  colv      4000 non-null   float64\n",
      "dtypes: float64(11), int64(6), object(1)\n",
      "memory usage: 562.6+ KB\n"
     ]
    },
    {
     "data": {
      "text/html": [
       "<div>\n",
       "<style scoped>\n",
       "    .dataframe tbody tr th:only-of-type {\n",
       "        vertical-align: middle;\n",
       "    }\n",
       "\n",
       "    .dataframe tbody tr th {\n",
       "        vertical-align: top;\n",
       "    }\n",
       "\n",
       "    .dataframe thead th {\n",
       "        text-align: right;\n",
       "    }\n",
       "</style>\n",
       "<table border=\"1\" class=\"dataframe\">\n",
       "  <thead>\n",
       "    <tr style=\"text-align: right;\">\n",
       "      <th></th>\n",
       "      <th>objid</th>\n",
       "      <th>ra</th>\n",
       "      <th>dec</th>\n",
       "      <th>u</th>\n",
       "      <th>g</th>\n",
       "      <th>r</th>\n",
       "      <th>i</th>\n",
       "      <th>z</th>\n",
       "      <th>run</th>\n",
       "      <th>camcol</th>\n",
       "      <th>field</th>\n",
       "      <th>score</th>\n",
       "      <th>clean</th>\n",
       "      <th>class</th>\n",
       "      <th>redshift</th>\n",
       "      <th>mjd</th>\n",
       "      <th>rowv</th>\n",
       "      <th>colv</th>\n",
       "    </tr>\n",
       "  </thead>\n",
       "  <tbody>\n",
       "    <tr>\n",
       "      <th>0</th>\n",
       "      <td>1237648722306924571</td>\n",
       "      <td>185.574486</td>\n",
       "      <td>0.701402</td>\n",
       "      <td>19.11034</td>\n",
       "      <td>17.62099</td>\n",
       "      <td>17.03464</td>\n",
       "      <td>16.82993</td>\n",
       "      <td>16.71711</td>\n",
       "      <td>756</td>\n",
       "      <td>5</td>\n",
       "      <td>466</td>\n",
       "      <td>0.864145</td>\n",
       "      <td>1</td>\n",
       "      <td>STAR</td>\n",
       "      <td>8.780529e-05</td>\n",
       "      <td>54140</td>\n",
       "      <td>0.002418</td>\n",
       "      <td>0.001363</td>\n",
       "    </tr>\n",
       "    <tr>\n",
       "      <th>1</th>\n",
       "      <td>1237648720167436418</td>\n",
       "      <td>203.801841</td>\n",
       "      <td>-0.853906</td>\n",
       "      <td>18.90957</td>\n",
       "      <td>17.62940</td>\n",
       "      <td>17.01465</td>\n",
       "      <td>16.62059</td>\n",
       "      <td>16.35239</td>\n",
       "      <td>756</td>\n",
       "      <td>1</td>\n",
       "      <td>588</td>\n",
       "      <td>0.816541</td>\n",
       "      <td>1</td>\n",
       "      <td>GALAXY</td>\n",
       "      <td>8.619995e-02</td>\n",
       "      <td>51955</td>\n",
       "      <td>0.008650</td>\n",
       "      <td>0.007056</td>\n",
       "    </tr>\n",
       "    <tr>\n",
       "      <th>2</th>\n",
       "      <td>1237648720685105352</td>\n",
       "      <td>160.034264</td>\n",
       "      <td>-0.421626</td>\n",
       "      <td>19.26340</td>\n",
       "      <td>17.67693</td>\n",
       "      <td>16.82551</td>\n",
       "      <td>16.42307</td>\n",
       "      <td>16.13864</td>\n",
       "      <td>756</td>\n",
       "      <td>2</td>\n",
       "      <td>295</td>\n",
       "      <td>0.870381</td>\n",
       "      <td>1</td>\n",
       "      <td>GALAXY</td>\n",
       "      <td>1.330486e-01</td>\n",
       "      <td>51913</td>\n",
       "      <td>0.003938</td>\n",
       "      <td>-0.002028</td>\n",
       "    </tr>\n",
       "    <tr>\n",
       "      <th>3</th>\n",
       "      <td>1237648703510937836</td>\n",
       "      <td>200.807373</td>\n",
       "      <td>-0.682024</td>\n",
       "      <td>18.82022</td>\n",
       "      <td>17.77765</td>\n",
       "      <td>17.38575</td>\n",
       "      <td>17.11128</td>\n",
       "      <td>16.93540</td>\n",
       "      <td>752</td>\n",
       "      <td>2</td>\n",
       "      <td>382</td>\n",
       "      <td>0.867801</td>\n",
       "      <td>1</td>\n",
       "      <td>GALAXY</td>\n",
       "      <td>8.636355e-02</td>\n",
       "      <td>51959</td>\n",
       "      <td>0.001839</td>\n",
       "      <td>0.001160</td>\n",
       "    </tr>\n",
       "    <tr>\n",
       "      <th>4</th>\n",
       "      <td>1237648720161275992</td>\n",
       "      <td>189.792404</td>\n",
       "      <td>-1.001480</td>\n",
       "      <td>18.91391</td>\n",
       "      <td>19.05355</td>\n",
       "      <td>19.46278</td>\n",
       "      <td>19.75660</td>\n",
       "      <td>20.09613</td>\n",
       "      <td>756</td>\n",
       "      <td>1</td>\n",
       "      <td>494</td>\n",
       "      <td>0.833824</td>\n",
       "      <td>1</td>\n",
       "      <td>STAR</td>\n",
       "      <td>-4.090000e-08</td>\n",
       "      <td>54562</td>\n",
       "      <td>0.001929</td>\n",
       "      <td>-0.000465</td>\n",
       "    </tr>\n",
       "  </tbody>\n",
       "</table>\n",
       "</div>"
      ],
      "text/plain": [
       "                 objid          ra       dec         u         g         r  \\\n",
       "0  1237648722306924571  185.574486  0.701402  19.11034  17.62099  17.03464   \n",
       "1  1237648720167436418  203.801841 -0.853906  18.90957  17.62940  17.01465   \n",
       "2  1237648720685105352  160.034264 -0.421626  19.26340  17.67693  16.82551   \n",
       "3  1237648703510937836  200.807373 -0.682024  18.82022  17.77765  17.38575   \n",
       "4  1237648720161275992  189.792404 -1.001480  18.91391  19.05355  19.46278   \n",
       "\n",
       "          i         z  run  camcol  field     score  clean   class  \\\n",
       "0  16.82993  16.71711  756       5    466  0.864145      1    STAR   \n",
       "1  16.62059  16.35239  756       1    588  0.816541      1  GALAXY   \n",
       "2  16.42307  16.13864  756       2    295  0.870381      1  GALAXY   \n",
       "3  17.11128  16.93540  752       2    382  0.867801      1  GALAXY   \n",
       "4  19.75660  20.09613  756       1    494  0.833824      1    STAR   \n",
       "\n",
       "       redshift    mjd      rowv      colv  \n",
       "0  8.780529e-05  54140  0.002418  0.001363  \n",
       "1  8.619995e-02  51955  0.008650  0.007056  \n",
       "2  1.330486e-01  51913  0.003938 -0.002028  \n",
       "3  8.636355e-02  51959  0.001839  0.001160  \n",
       "4 -4.090000e-08  54562  0.001929 -0.000465  "
      ]
     },
     "execution_count": 20,
     "metadata": {},
     "output_type": "execute_result"
    }
   ],
   "source": [
    "\n",
    "#info\n",
    "data.info()\n",
    "\n",
    "#Muestra de primeros datos\n",
    "data.head()"
   ]
  },
  {
   "cell_type": "code",
   "execution_count": null,
   "metadata": {},
   "outputs": [
    {
     "data": {
      "text/plain": [
       "(4000, 18)"
      ]
     },
     "execution_count": 21,
     "metadata": {},
     "output_type": "execute_result"
    }
   ],
   "source": [
    "#Dimension de los datos\n",
    "data.shape\n"
   ]
  },
  {
   "cell_type": "markdown",
   "metadata": {},
   "source": [
    "1.4 Estadisticas/Distribución de los Datos"
   ]
  },
  {
   "cell_type": "code",
   "execution_count": 7,
   "metadata": {},
   "outputs": [
    {
     "data": {
      "text/html": [
       "<div>\n",
       "<style scoped>\n",
       "    .dataframe tbody tr th:only-of-type {\n",
       "        vertical-align: middle;\n",
       "    }\n",
       "\n",
       "    .dataframe tbody tr th {\n",
       "        vertical-align: top;\n",
       "    }\n",
       "\n",
       "    .dataframe thead th {\n",
       "        text-align: right;\n",
       "    }\n",
       "</style>\n",
       "<table border=\"1\" class=\"dataframe\">\n",
       "  <thead>\n",
       "    <tr style=\"text-align: right;\">\n",
       "      <th></th>\n",
       "      <th>objid</th>\n",
       "      <th>ra</th>\n",
       "      <th>dec</th>\n",
       "      <th>u</th>\n",
       "      <th>g</th>\n",
       "      <th>r</th>\n",
       "      <th>i</th>\n",
       "      <th>z</th>\n",
       "      <th>run</th>\n",
       "      <th>camcol</th>\n",
       "      <th>field</th>\n",
       "      <th>score</th>\n",
       "      <th>clean</th>\n",
       "      <th>redshift</th>\n",
       "      <th>mjd</th>\n",
       "      <th>rowv</th>\n",
       "      <th>colv</th>\n",
       "    </tr>\n",
       "  </thead>\n",
       "  <tbody>\n",
       "    <tr>\n",
       "      <th>count</th>\n",
       "      <td>4.000000e+03</td>\n",
       "      <td>4000.000000</td>\n",
       "      <td>4000.000000</td>\n",
       "      <td>4000.000000</td>\n",
       "      <td>4000.000000</td>\n",
       "      <td>4000.000000</td>\n",
       "      <td>4000.000000</td>\n",
       "      <td>4000.000000</td>\n",
       "      <td>4000.000000</td>\n",
       "      <td>4000.00000</td>\n",
       "      <td>4000.000000</td>\n",
       "      <td>4000.000000</td>\n",
       "      <td>4000.000000</td>\n",
       "      <td>4000.000000</td>\n",
       "      <td>4000.000000</td>\n",
       "      <td>4000.000000</td>\n",
       "      <td>4000.000000</td>\n",
       "    </tr>\n",
       "    <tr>\n",
       "      <th>mean</th>\n",
       "      <td>1.237649e+18</td>\n",
       "      <td>185.523295</td>\n",
       "      <td>0.248959</td>\n",
       "      <td>18.609049</td>\n",
       "      <td>17.363397</td>\n",
       "      <td>16.839856</td>\n",
       "      <td>16.597712</td>\n",
       "      <td>16.439392</td>\n",
       "      <td>743.829000</td>\n",
       "      <td>3.37625</td>\n",
       "      <td>419.602000</td>\n",
       "      <td>0.851765</td>\n",
       "      <td>0.895500</td>\n",
       "      <td>0.134015</td>\n",
       "      <td>52957.124750</td>\n",
       "      <td>0.000218</td>\n",
       "      <td>-0.000090</td>\n",
       "    </tr>\n",
       "    <tr>\n",
       "      <th>std</th>\n",
       "      <td>4.244222e+11</td>\n",
       "      <td>41.689446</td>\n",
       "      <td>2.001075</td>\n",
       "      <td>0.839431</td>\n",
       "      <td>0.950964</td>\n",
       "      <td>1.055343</td>\n",
       "      <td>1.141252</td>\n",
       "      <td>1.190502</td>\n",
       "      <td>98.865936</td>\n",
       "      <td>1.69909</td>\n",
       "      <td>167.162063</td>\n",
       "      <td>0.071311</td>\n",
       "      <td>0.305946</td>\n",
       "      <td>0.379742</td>\n",
       "      <td>1601.148131</td>\n",
       "      <td>0.008794</td>\n",
       "      <td>0.007457</td>\n",
       "    </tr>\n",
       "    <tr>\n",
       "      <th>min</th>\n",
       "      <td>1.237646e+18</td>\n",
       "      <td>10.469743</td>\n",
       "      <td>-1.252763</td>\n",
       "      <td>13.551780</td>\n",
       "      <td>12.974870</td>\n",
       "      <td>12.362850</td>\n",
       "      <td>12.010790</td>\n",
       "      <td>11.799530</td>\n",
       "      <td>211.000000</td>\n",
       "      <td>1.00000</td>\n",
       "      <td>19.000000</td>\n",
       "      <td>0.301912</td>\n",
       "      <td>0.000000</td>\n",
       "      <td>-0.003322</td>\n",
       "      <td>51608.000000</td>\n",
       "      <td>-0.264516</td>\n",
       "      <td>-0.168807</td>\n",
       "    </tr>\n",
       "    <tr>\n",
       "      <th>25%</th>\n",
       "      <td>1.237649e+18</td>\n",
       "      <td>162.474666</td>\n",
       "      <td>-0.631824</td>\n",
       "      <td>18.170375</td>\n",
       "      <td>16.796110</td>\n",
       "      <td>16.190785</td>\n",
       "      <td>15.870782</td>\n",
       "      <td>15.628205</td>\n",
       "      <td>752.000000</td>\n",
       "      <td>2.00000</td>\n",
       "      <td>311.000000</td>\n",
       "      <td>0.836866</td>\n",
       "      <td>1.000000</td>\n",
       "      <td>0.000106</td>\n",
       "      <td>51821.000000</td>\n",
       "      <td>-0.001212</td>\n",
       "      <td>-0.001609</td>\n",
       "    </tr>\n",
       "    <tr>\n",
       "      <th>50%</th>\n",
       "      <td>1.237649e+18</td>\n",
       "      <td>195.815451</td>\n",
       "      <td>0.053336</td>\n",
       "      <td>18.843745</td>\n",
       "      <td>17.472525</td>\n",
       "      <td>16.850835</td>\n",
       "      <td>16.571195</td>\n",
       "      <td>16.402665</td>\n",
       "      <td>756.000000</td>\n",
       "      <td>3.00000</td>\n",
       "      <td>434.000000</td>\n",
       "      <td>0.860675</td>\n",
       "      <td>1.000000</td>\n",
       "      <td>0.032038</td>\n",
       "      <td>51986.000000</td>\n",
       "      <td>0.000322</td>\n",
       "      <td>0.000125</td>\n",
       "    </tr>\n",
       "    <tr>\n",
       "      <th>75%</th>\n",
       "      <td>1.237649e+18</td>\n",
       "      <td>214.348425</td>\n",
       "      <td>0.593396</td>\n",
       "      <td>19.261563</td>\n",
       "      <td>17.997818</td>\n",
       "      <td>17.506640</td>\n",
       "      <td>17.258833</td>\n",
       "      <td>17.147037</td>\n",
       "      <td>756.000000</td>\n",
       "      <td>5.00000</td>\n",
       "      <td>527.000000</td>\n",
       "      <td>0.879834</td>\n",
       "      <td>1.000000</td>\n",
       "      <td>0.086479</td>\n",
       "      <td>54468.000000</td>\n",
       "      <td>0.001698</td>\n",
       "      <td>0.001672</td>\n",
       "    </tr>\n",
       "    <tr>\n",
       "      <th>max</th>\n",
       "      <td>1.237650e+18</td>\n",
       "      <td>249.758313</td>\n",
       "      <td>13.854010</td>\n",
       "      <td>19.599750</td>\n",
       "      <td>22.497450</td>\n",
       "      <td>22.265960</td>\n",
       "      <td>28.179630</td>\n",
       "      <td>20.847690</td>\n",
       "      <td>1035.000000</td>\n",
       "      <td>6.00000</td>\n",
       "      <td>812.000000</td>\n",
       "      <td>0.961145</td>\n",
       "      <td>1.000000</td>\n",
       "      <td>4.192597</td>\n",
       "      <td>58932.000000</td>\n",
       "      <td>0.181871</td>\n",
       "      <td>0.128814</td>\n",
       "    </tr>\n",
       "  </tbody>\n",
       "</table>\n",
       "</div>"
      ],
      "text/plain": [
       "              objid           ra          dec            u            g  \\\n",
       "count  4.000000e+03  4000.000000  4000.000000  4000.000000  4000.000000   \n",
       "mean   1.237649e+18   185.523295     0.248959    18.609049    17.363397   \n",
       "std    4.244222e+11    41.689446     2.001075     0.839431     0.950964   \n",
       "min    1.237646e+18    10.469743    -1.252763    13.551780    12.974870   \n",
       "25%    1.237649e+18   162.474666    -0.631824    18.170375    16.796110   \n",
       "50%    1.237649e+18   195.815451     0.053336    18.843745    17.472525   \n",
       "75%    1.237649e+18   214.348425     0.593396    19.261563    17.997818   \n",
       "max    1.237650e+18   249.758313    13.854010    19.599750    22.497450   \n",
       "\n",
       "                 r            i            z          run      camcol  \\\n",
       "count  4000.000000  4000.000000  4000.000000  4000.000000  4000.00000   \n",
       "mean     16.839856    16.597712    16.439392   743.829000     3.37625   \n",
       "std       1.055343     1.141252     1.190502    98.865936     1.69909   \n",
       "min      12.362850    12.010790    11.799530   211.000000     1.00000   \n",
       "25%      16.190785    15.870782    15.628205   752.000000     2.00000   \n",
       "50%      16.850835    16.571195    16.402665   756.000000     3.00000   \n",
       "75%      17.506640    17.258833    17.147037   756.000000     5.00000   \n",
       "max      22.265960    28.179630    20.847690  1035.000000     6.00000   \n",
       "\n",
       "             field        score        clean     redshift           mjd  \\\n",
       "count  4000.000000  4000.000000  4000.000000  4000.000000   4000.000000   \n",
       "mean    419.602000     0.851765     0.895500     0.134015  52957.124750   \n",
       "std     167.162063     0.071311     0.305946     0.379742   1601.148131   \n",
       "min      19.000000     0.301912     0.000000    -0.003322  51608.000000   \n",
       "25%     311.000000     0.836866     1.000000     0.000106  51821.000000   \n",
       "50%     434.000000     0.860675     1.000000     0.032038  51986.000000   \n",
       "75%     527.000000     0.879834     1.000000     0.086479  54468.000000   \n",
       "max     812.000000     0.961145     1.000000     4.192597  58932.000000   \n",
       "\n",
       "              rowv         colv  \n",
       "count  4000.000000  4000.000000  \n",
       "mean      0.000218    -0.000090  \n",
       "std       0.008794     0.007457  \n",
       "min      -0.264516    -0.168807  \n",
       "25%      -0.001212    -0.001609  \n",
       "50%       0.000322     0.000125  \n",
       "75%       0.001698     0.001672  \n",
       "max       0.181871     0.128814  "
      ]
     },
     "execution_count": 7,
     "metadata": {},
     "output_type": "execute_result"
    }
   ],
   "source": [
    "data.describe()"
   ]
  },
  {
   "cell_type": "code",
   "execution_count": 8,
   "metadata": {},
   "outputs": [
    {
     "data": {
      "text/plain": [
       "objid         int64\n",
       "ra          float64\n",
       "dec         float64\n",
       "u           float64\n",
       "g           float64\n",
       "r           float64\n",
       "i           float64\n",
       "z           float64\n",
       "run           int64\n",
       "camcol        int64\n",
       "field         int64\n",
       "score       float64\n",
       "clean         int64\n",
       "class        object\n",
       "redshift    float64\n",
       "mjd           int64\n",
       "rowv        float64\n",
       "colv        float64\n",
       "dtype: object"
      ]
     },
     "execution_count": 8,
     "metadata": {},
     "output_type": "execute_result"
    }
   ],
   "source": [
    "#Entendimiento del tipo de los datos\n",
    "data.dtypes"
   ]
  },
  {
   "cell_type": "markdown",
   "metadata": {},
   "source": [
    "1.5 Calidad de los Datos"
   ]
  },
  {
   "cell_type": "code",
   "execution_count": null,
   "metadata": {},
   "outputs": [
    {
     "data": {
      "text/plain": [
       "objid       0\n",
       "ra          0\n",
       "dec         0\n",
       "u           0\n",
       "g           0\n",
       "r           0\n",
       "i           0\n",
       "z           0\n",
       "run         0\n",
       "camcol      0\n",
       "field       0\n",
       "score       0\n",
       "clean       0\n",
       "class       0\n",
       "redshift    0\n",
       "mjd         0\n",
       "rowv        0\n",
       "colv        0\n",
       "dtype: int64"
      ]
     },
     "execution_count": 9,
     "metadata": {},
     "output_type": "execute_result"
    }
   ],
   "source": [
    "#Completitud \n",
    "data.isnull().sum()    "
   ]
  },
  {
   "cell_type": "code",
   "execution_count": 24,
   "metadata": {},
   "outputs": [
    {
     "data": {
      "text/plain": [
       "np.int64(17)"
      ]
     },
     "execution_count": 24,
     "metadata": {},
     "output_type": "execute_result"
    }
   ],
   "source": [
    "#Filas duplicadas\n",
    "data.duplicated().sum()"
   ]
  },
  {
   "cell_type": "code",
   "execution_count": 27,
   "metadata": {},
   "outputs": [
    {
     "name": "stdout",
     "output_type": "stream",
     "text": [
      "Redshift negativos: 648\n",
      "Score fuera de rango: 0\n",
      "Valores únicos en 'clean': [1 0]\n"
     ]
    }
   ],
   "source": [
    "#Verifación de Valores Fuera de Rango\n",
    "\n",
    "#Redshift es una distancia, no puede ser negativa\n",
    "print(\"Redshift negativos:\", (data[\"redshift\"] < 0).sum())\n",
    "#El score debe estar entre 0 y 1\n",
    "print(\"Score fuera de rango:\", ((data[\"score\"] < 0) | (data[\"score\"] > 1)).sum())\n",
    "#clean solo puede tener dos valores 1 y 0 (Es confiable o no)\n",
    "print(\"Valores únicos en 'clean':\", data[\"clean\"].unique())"
   ]
  },
  {
   "cell_type": "markdown",
   "metadata": {},
   "source": [
    "1.6 Datos Categoricos"
   ]
  },
  {
   "cell_type": "code",
   "execution_count": null,
   "metadata": {},
   "outputs": [
    {
     "data": {
      "text/plain": [
       "clean\n",
       "1    3582\n",
       "0     418\n",
       "Name: count, dtype: int64"
      ]
     },
     "execution_count": 25,
     "metadata": {},
     "output_type": "execute_result"
    }
   ],
   "source": [
    "#indica cantidad de variables confiables (1) o no (0)\n",
    "data[\"clean\"].value_counts()"
   ]
  },
  {
   "cell_type": "code",
   "execution_count": null,
   "metadata": {},
   "outputs": [
    {
     "data": {
      "text/plain": [
       "class\n",
       "GALAXY    1857\n",
       "STAR      1629\n",
       "QSO        292\n",
       "S          177\n",
       "G           44\n",
       "QUASAR       1\n",
       "Name: count, dtype: int64"
      ]
     },
     "execution_count": 26,
     "metadata": {},
     "output_type": "execute_result"
    }
   ],
   "source": [
    "#Indicando la cantidad de tipos de cuerpos celestes\n",
    "data[\"class\"].value_counts()"
   ]
  },
  {
   "cell_type": "markdown",
   "metadata": {},
   "source": [
    "1.7 Correlación de datos"
   ]
  },
  {
   "cell_type": "code",
   "execution_count": 31,
   "metadata": {},
   "outputs": [
    {
     "data": {
      "text/plain": [
       "<Axes: >"
      ]
     },
     "execution_count": 31,
     "metadata": {},
     "output_type": "execute_result"
    },
    {
     "data": {
      "image/png": "[encoded data removed]",
      "text/plain": [
       "<Figure size 1200x1000 with 2 Axes>"
      ]
     },
     "metadata": {},
     "output_type": "display_data"
    }
   ],
   "source": [
    "#Correlación de intensidad de luz capturada en los diferentes filtros de color\n",
    "features = [\"u\",\"g\",\"r\",\"i\",\"z\",\"redshift\",\"mjd\",\"rowv\",\"colv\", \"run\",\"camcol\",\"field\",\"score\",\"clean\"]\n",
    "plt.figure(figsize=(12, 10))\n",
    "sns.heatmap(data[features].corr(), cmap=\"Blues\", vmin=0, vmax=1)"
   ]
  }
 ],
 "metadata": {
  "kernelspec": {
   "display_name": "Python 3 (ipykernel)",
   "language": "python",
   "name": "python3"
  },
  "language_info": {
   "codemirror_mode": {
    "name": "ipython",
    "version": 3
   },
   "file_extension": ".py",
   "mimetype": "text/x-python",
   "name": "python",
   "nbconvert_exporter": "python",
   "pygments_lexer": "ipython3",
   "version": "3.13.1"
  }
 },
 "nbformat": 4,
 "nbformat_minor": 2
}
