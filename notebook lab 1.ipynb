{
 "cells": [
  {
   "cell_type": "markdown",
   "metadata": {},
   "source": [
    "# LABORATORIO 1\n"
   ]
  },
  {
   "cell_type": "markdown",
   "metadata": {},
   "source": [
    "## 1. Carga de los Datos"
   ]
  },
  {
   "cell_type": "markdown",
   "metadata": {},
   "source": [
    "1.1 Carga de librerias"
   ]
  },
  {
   "cell_type": "code",
   "execution_count": 2,
   "metadata": {},
   "outputs": [],
   "source": [
    "import numpy as np\n",
    "import pandas as pd\n",
    "\n",
    "#from joblib import dump, load\n",
    "\n",
    "import matplotlib.pyplot as plt\n",
    "import seaborn as sns\n",
    "\n",
    "from sklearn.model_selection import train_test_split\n",
    "from sklearn.linear_model import LinearRegression\n",
    "from sklearn.pipeline import Pipeline\n",
    "from sklearn.compose import ColumnTransformer\n",
    "from sklearn.preprocessing import StandardScaler\n",
    "from sklearn.preprocessing import PolynomialFeatures\n",
    "from sklearn.metrics import mean_absolute_error, mean_squared_error, r2_score\n",
    "\n",
    "import scipy.stats as stats"
   ]
  },
  {
   "cell_type": "markdown",
   "metadata": {},
   "source": [
    "1.2 Carga Datos"
   ]
  },
  {
   "cell_type": "code",
   "execution_count": 3,
   "metadata": {},
   "outputs": [],
   "source": [
    "#Carga de datos\n",
    "pd.set_option(\"display.max_columns\", None)\n",
    "pd.set_option(\"display.max_rows\", 50)\n",
    "\n",
    "df = pd.read_csv('./training_data.csv')\n"
   ]
  },
  {
   "cell_type": "markdown",
   "metadata": {},
   "source": [
    "1.3 Información Basica de los Datos"
   ]
  },
  {
   "cell_type": "code",
   "execution_count": 4,
   "metadata": {},
   "outputs": [
    {
     "name": "stdout",
     "output_type": "stream",
     "text": [
      ">> El dataset estructurado contiene 18 columnas y 4000 filas.\n",
      "\n",
      ">> La estructura de los datos es la siguiente: \n"
     ]
    },
    {
     "data": {
      "text/html": [
       "<div>\n",
       "<style scoped>\n",
       "    .dataframe tbody tr th:only-of-type {\n",
       "        vertical-align: middle;\n",
       "    }\n",
       "\n",
       "    .dataframe tbody tr th {\n",
       "        vertical-align: top;\n",
       "    }\n",
       "\n",
       "    .dataframe thead th {\n",
       "        text-align: right;\n",
       "    }\n",
       "</style>\n",
       "<table border=\"1\" class=\"dataframe\">\n",
       "  <thead>\n",
       "    <tr style=\"text-align: right;\">\n",
       "      <th></th>\n",
       "      <th>objid</th>\n",
       "      <th>ra</th>\n",
       "      <th>dec</th>\n",
       "      <th>u</th>\n",
       "      <th>g</th>\n",
       "      <th>r</th>\n",
       "      <th>i</th>\n",
       "      <th>z</th>\n",
       "      <th>run</th>\n",
       "      <th>camcol</th>\n",
       "      <th>field</th>\n",
       "      <th>score</th>\n",
       "      <th>clean</th>\n",
       "      <th>class</th>\n",
       "      <th>redshift</th>\n",
       "      <th>mjd</th>\n",
       "      <th>rowv</th>\n",
       "      <th>colv</th>\n",
       "    </tr>\n",
       "  </thead>\n",
       "  <tbody>\n",
       "    <tr>\n",
       "      <th>0</th>\n",
       "      <td>1237648722306924571</td>\n",
       "      <td>185.574486</td>\n",
       "      <td>0.701402</td>\n",
       "      <td>19.11034</td>\n",
       "      <td>17.62099</td>\n",
       "      <td>17.03464</td>\n",
       "      <td>16.82993</td>\n",
       "      <td>16.71711</td>\n",
       "      <td>756</td>\n",
       "      <td>5</td>\n",
       "      <td>466</td>\n",
       "      <td>0.864145</td>\n",
       "      <td>1</td>\n",
       "      <td>STAR</td>\n",
       "      <td>8.780529e-05</td>\n",
       "      <td>54140</td>\n",
       "      <td>0.002418</td>\n",
       "      <td>0.001363</td>\n",
       "    </tr>\n",
       "    <tr>\n",
       "      <th>1</th>\n",
       "      <td>1237648720167436418</td>\n",
       "      <td>203.801841</td>\n",
       "      <td>-0.853906</td>\n",
       "      <td>18.90957</td>\n",
       "      <td>17.62940</td>\n",
       "      <td>17.01465</td>\n",
       "      <td>16.62059</td>\n",
       "      <td>16.35239</td>\n",
       "      <td>756</td>\n",
       "      <td>1</td>\n",
       "      <td>588</td>\n",
       "      <td>0.816541</td>\n",
       "      <td>1</td>\n",
       "      <td>GALAXY</td>\n",
       "      <td>8.619995e-02</td>\n",
       "      <td>51955</td>\n",
       "      <td>0.008650</td>\n",
       "      <td>0.007056</td>\n",
       "    </tr>\n",
       "    <tr>\n",
       "      <th>2</th>\n",
       "      <td>1237648720685105352</td>\n",
       "      <td>160.034264</td>\n",
       "      <td>-0.421626</td>\n",
       "      <td>19.26340</td>\n",
       "      <td>17.67693</td>\n",
       "      <td>16.82551</td>\n",
       "      <td>16.42307</td>\n",
       "      <td>16.13864</td>\n",
       "      <td>756</td>\n",
       "      <td>2</td>\n",
       "      <td>295</td>\n",
       "      <td>0.870381</td>\n",
       "      <td>1</td>\n",
       "      <td>GALAXY</td>\n",
       "      <td>1.330486e-01</td>\n",
       "      <td>51913</td>\n",
       "      <td>0.003938</td>\n",
       "      <td>-0.002028</td>\n",
       "    </tr>\n",
       "    <tr>\n",
       "      <th>3</th>\n",
       "      <td>1237648703510937836</td>\n",
       "      <td>200.807373</td>\n",
       "      <td>-0.682024</td>\n",
       "      <td>18.82022</td>\n",
       "      <td>17.77765</td>\n",
       "      <td>17.38575</td>\n",
       "      <td>17.11128</td>\n",
       "      <td>16.93540</td>\n",
       "      <td>752</td>\n",
       "      <td>2</td>\n",
       "      <td>382</td>\n",
       "      <td>0.867801</td>\n",
       "      <td>1</td>\n",
       "      <td>GALAXY</td>\n",
       "      <td>8.636355e-02</td>\n",
       "      <td>51959</td>\n",
       "      <td>0.001839</td>\n",
       "      <td>0.001160</td>\n",
       "    </tr>\n",
       "    <tr>\n",
       "      <th>4</th>\n",
       "      <td>1237648720161275992</td>\n",
       "      <td>189.792404</td>\n",
       "      <td>-1.001480</td>\n",
       "      <td>18.91391</td>\n",
       "      <td>19.05355</td>\n",
       "      <td>19.46278</td>\n",
       "      <td>19.75660</td>\n",
       "      <td>20.09613</td>\n",
       "      <td>756</td>\n",
       "      <td>1</td>\n",
       "      <td>494</td>\n",
       "      <td>0.833824</td>\n",
       "      <td>1</td>\n",
       "      <td>STAR</td>\n",
       "      <td>-4.090000e-08</td>\n",
       "      <td>54562</td>\n",
       "      <td>0.001929</td>\n",
       "      <td>-0.000465</td>\n",
       "    </tr>\n",
       "  </tbody>\n",
       "</table>\n",
       "</div>"
      ],
      "text/plain": [
       "                 objid          ra       dec         u         g         r  \\\n",
       "0  1237648722306924571  185.574486  0.701402  19.11034  17.62099  17.03464   \n",
       "1  1237648720167436418  203.801841 -0.853906  18.90957  17.62940  17.01465   \n",
       "2  1237648720685105352  160.034264 -0.421626  19.26340  17.67693  16.82551   \n",
       "3  1237648703510937836  200.807373 -0.682024  18.82022  17.77765  17.38575   \n",
       "4  1237648720161275992  189.792404 -1.001480  18.91391  19.05355  19.46278   \n",
       "\n",
       "          i         z  run  camcol  field     score  clean   class  \\\n",
       "0  16.82993  16.71711  756       5    466  0.864145      1    STAR   \n",
       "1  16.62059  16.35239  756       1    588  0.816541      1  GALAXY   \n",
       "2  16.42307  16.13864  756       2    295  0.870381      1  GALAXY   \n",
       "3  17.11128  16.93540  752       2    382  0.867801      1  GALAXY   \n",
       "4  19.75660  20.09613  756       1    494  0.833824      1    STAR   \n",
       "\n",
       "       redshift    mjd      rowv      colv  \n",
       "0  8.780529e-05  54140  0.002418  0.001363  \n",
       "1  8.619995e-02  51955  0.008650  0.007056  \n",
       "2  1.330486e-01  51913  0.003938 -0.002028  \n",
       "3  8.636355e-02  51959  0.001839  0.001160  \n",
       "4 -4.090000e-08  54562  0.001929 -0.000465  "
      ]
     },
     "execution_count": 4,
     "metadata": {},
     "output_type": "execute_result"
    }
   ],
   "source": [
    "df_dim = df.shape\n",
    "print(\">> El dataset estructurado contiene \" + str(df_dim[1]) + \" columnas y \"+ str(df_dim[0]) +\" filas.\\n\")\n",
    "print(\">> La estructura de los datos es la siguiente: \")\n",
    "\n",
    "#Muestra de primeros datos\n",
    "df.head() \n"
   ]
  },
  {
   "cell_type": "markdown",
   "metadata": {},
   "source": [
    "## 2. Entendimiento de los Datos"
   ]
  },
  {
   "cell_type": "markdown",
   "metadata": {},
   "source": [
    "Se genera una réplica del Dataset que contiene los datos, esto con la finalidad de prevenir la sobrescritura de la información y modificaciones no deseadas en el conjunto original, garantizando así su integridad. "
   ]
  },
  {
   "cell_type": "code",
   "execution_count": 5,
   "metadata": {},
   "outputs": [],
   "source": [
    "data = df.copy()"
   ]
  },
  {
   "cell_type": "markdown",
   "metadata": {},
   "source": [
    "Los tipos de datos en cada una de las columnas son los siguientes:"
   ]
  },
  {
   "cell_type": "code",
   "execution_count": 6,
   "metadata": {},
   "outputs": [
    {
     "data": {
      "text/plain": [
       "objid         int64\n",
       "ra          float64\n",
       "dec         float64\n",
       "u           float64\n",
       "g           float64\n",
       "r           float64\n",
       "i           float64\n",
       "z           float64\n",
       "run           int64\n",
       "camcol        int64\n",
       "field         int64\n",
       "score       float64\n",
       "clean         int64\n",
       "class        object\n",
       "redshift    float64\n",
       "mjd           int64\n",
       "rowv        float64\n",
       "colv        float64\n",
       "dtype: object"
      ]
     },
     "execution_count": 6,
     "metadata": {},
     "output_type": "execute_result"
    }
   ],
   "source": [
    "data.dtypes"
   ]
  },
  {
   "cell_type": "markdown",
   "metadata": {},
   "source": [
    "Como se puede observar, solo una columna representa una variable en formato de texto, mientras que las demás corresponden a variables numéricas."
   ]
  },
  {
   "cell_type": "markdown",
   "metadata": {},
   "source": [
    "**Perfilamiento de datos**"
   ]
  },
  {
   "cell_type": "markdown",
   "metadata": {},
   "source": [
    "Se emplea el método describe() de Pandas para obtener una descripción de las columnas del dataset. A continuación, se analizan medidas de tendencia central, dispersión y otras características relevantes."
   ]
  },
  {
   "cell_type": "code",
   "execution_count": 7,
   "metadata": {},
   "outputs": [
    {
     "data": {
      "text/html": [
       "<div>\n",
       "<style scoped>\n",
       "    .dataframe tbody tr th:only-of-type {\n",
       "        vertical-align: middle;\n",
       "    }\n",
       "\n",
       "    .dataframe tbody tr th {\n",
       "        vertical-align: top;\n",
       "    }\n",
       "\n",
       "    .dataframe thead th {\n",
       "        text-align: right;\n",
       "    }\n",
       "</style>\n",
       "<table border=\"1\" class=\"dataframe\">\n",
       "  <thead>\n",
       "    <tr style=\"text-align: right;\">\n",
       "      <th></th>\n",
       "      <th>objid</th>\n",
       "      <th>ra</th>\n",
       "      <th>dec</th>\n",
       "      <th>u</th>\n",
       "      <th>g</th>\n",
       "      <th>r</th>\n",
       "      <th>i</th>\n",
       "      <th>z</th>\n",
       "      <th>run</th>\n",
       "      <th>camcol</th>\n",
       "      <th>field</th>\n",
       "      <th>score</th>\n",
       "      <th>clean</th>\n",
       "      <th>redshift</th>\n",
       "      <th>mjd</th>\n",
       "      <th>rowv</th>\n",
       "      <th>colv</th>\n",
       "    </tr>\n",
       "  </thead>\n",
       "  <tbody>\n",
       "    <tr>\n",
       "      <th>count</th>\n",
       "      <td>4.000000e+03</td>\n",
       "      <td>4000.000000</td>\n",
       "      <td>4000.000000</td>\n",
       "      <td>4000.000000</td>\n",
       "      <td>4000.000000</td>\n",
       "      <td>4000.000000</td>\n",
       "      <td>4000.000000</td>\n",
       "      <td>4000.000000</td>\n",
       "      <td>4000.000000</td>\n",
       "      <td>4000.00000</td>\n",
       "      <td>4000.000000</td>\n",
       "      <td>4000.000000</td>\n",
       "      <td>4000.000000</td>\n",
       "      <td>4000.000000</td>\n",
       "      <td>4000.000000</td>\n",
       "      <td>4000.000000</td>\n",
       "      <td>4000.000000</td>\n",
       "    </tr>\n",
       "    <tr>\n",
       "      <th>mean</th>\n",
       "      <td>1.237649e+18</td>\n",
       "      <td>185.523295</td>\n",
       "      <td>0.248959</td>\n",
       "      <td>18.609049</td>\n",
       "      <td>17.363397</td>\n",
       "      <td>16.839856</td>\n",
       "      <td>16.597712</td>\n",
       "      <td>16.439392</td>\n",
       "      <td>743.829000</td>\n",
       "      <td>3.37625</td>\n",
       "      <td>419.602000</td>\n",
       "      <td>0.851765</td>\n",
       "      <td>0.895500</td>\n",
       "      <td>0.134015</td>\n",
       "      <td>52957.124750</td>\n",
       "      <td>0.000218</td>\n",
       "      <td>-0.000090</td>\n",
       "    </tr>\n",
       "    <tr>\n",
       "      <th>std</th>\n",
       "      <td>4.244222e+11</td>\n",
       "      <td>41.689446</td>\n",
       "      <td>2.001075</td>\n",
       "      <td>0.839431</td>\n",
       "      <td>0.950964</td>\n",
       "      <td>1.055343</td>\n",
       "      <td>1.141252</td>\n",
       "      <td>1.190502</td>\n",
       "      <td>98.865936</td>\n",
       "      <td>1.69909</td>\n",
       "      <td>167.162063</td>\n",
       "      <td>0.071311</td>\n",
       "      <td>0.305946</td>\n",
       "      <td>0.379742</td>\n",
       "      <td>1601.148131</td>\n",
       "      <td>0.008794</td>\n",
       "      <td>0.007457</td>\n",
       "    </tr>\n",
       "    <tr>\n",
       "      <th>min</th>\n",
       "      <td>1.237646e+18</td>\n",
       "      <td>10.469743</td>\n",
       "      <td>-1.252763</td>\n",
       "      <td>13.551780</td>\n",
       "      <td>12.974870</td>\n",
       "      <td>12.362850</td>\n",
       "      <td>12.010790</td>\n",
       "      <td>11.799530</td>\n",
       "      <td>211.000000</td>\n",
       "      <td>1.00000</td>\n",
       "      <td>19.000000</td>\n",
       "      <td>0.301912</td>\n",
       "      <td>0.000000</td>\n",
       "      <td>-0.003322</td>\n",
       "      <td>51608.000000</td>\n",
       "      <td>-0.264516</td>\n",
       "      <td>-0.168807</td>\n",
       "    </tr>\n",
       "    <tr>\n",
       "      <th>25%</th>\n",
       "      <td>1.237649e+18</td>\n",
       "      <td>162.474666</td>\n",
       "      <td>-0.631824</td>\n",
       "      <td>18.170375</td>\n",
       "      <td>16.796110</td>\n",
       "      <td>16.190785</td>\n",
       "      <td>15.870782</td>\n",
       "      <td>15.628205</td>\n",
       "      <td>752.000000</td>\n",
       "      <td>2.00000</td>\n",
       "      <td>311.000000</td>\n",
       "      <td>0.836866</td>\n",
       "      <td>1.000000</td>\n",
       "      <td>0.000106</td>\n",
       "      <td>51821.000000</td>\n",
       "      <td>-0.001212</td>\n",
       "      <td>-0.001609</td>\n",
       "    </tr>\n",
       "    <tr>\n",
       "      <th>50%</th>\n",
       "      <td>1.237649e+18</td>\n",
       "      <td>195.815451</td>\n",
       "      <td>0.053336</td>\n",
       "      <td>18.843745</td>\n",
       "      <td>17.472525</td>\n",
       "      <td>16.850835</td>\n",
       "      <td>16.571195</td>\n",
       "      <td>16.402665</td>\n",
       "      <td>756.000000</td>\n",
       "      <td>3.00000</td>\n",
       "      <td>434.000000</td>\n",
       "      <td>0.860675</td>\n",
       "      <td>1.000000</td>\n",
       "      <td>0.032038</td>\n",
       "      <td>51986.000000</td>\n",
       "      <td>0.000322</td>\n",
       "      <td>0.000125</td>\n",
       "    </tr>\n",
       "    <tr>\n",
       "      <th>75%</th>\n",
       "      <td>1.237649e+18</td>\n",
       "      <td>214.348425</td>\n",
       "      <td>0.593396</td>\n",
       "      <td>19.261563</td>\n",
       "      <td>17.997818</td>\n",
       "      <td>17.506640</td>\n",
       "      <td>17.258833</td>\n",
       "      <td>17.147037</td>\n",
       "      <td>756.000000</td>\n",
       "      <td>5.00000</td>\n",
       "      <td>527.000000</td>\n",
       "      <td>0.879834</td>\n",
       "      <td>1.000000</td>\n",
       "      <td>0.086479</td>\n",
       "      <td>54468.000000</td>\n",
       "      <td>0.001698</td>\n",
       "      <td>0.001672</td>\n",
       "    </tr>\n",
       "    <tr>\n",
       "      <th>max</th>\n",
       "      <td>1.237650e+18</td>\n",
       "      <td>249.758313</td>\n",
       "      <td>13.854010</td>\n",
       "      <td>19.599750</td>\n",
       "      <td>22.497450</td>\n",
       "      <td>22.265960</td>\n",
       "      <td>28.179630</td>\n",
       "      <td>20.847690</td>\n",
       "      <td>1035.000000</td>\n",
       "      <td>6.00000</td>\n",
       "      <td>812.000000</td>\n",
       "      <td>0.961145</td>\n",
       "      <td>1.000000</td>\n",
       "      <td>4.192597</td>\n",
       "      <td>58932.000000</td>\n",
       "      <td>0.181871</td>\n",
       "      <td>0.128814</td>\n",
       "    </tr>\n",
       "  </tbody>\n",
       "</table>\n",
       "</div>"
      ],
      "text/plain": [
       "              objid           ra          dec            u            g  \\\n",
       "count  4.000000e+03  4000.000000  4000.000000  4000.000000  4000.000000   \n",
       "mean   1.237649e+18   185.523295     0.248959    18.609049    17.363397   \n",
       "std    4.244222e+11    41.689446     2.001075     0.839431     0.950964   \n",
       "min    1.237646e+18    10.469743    -1.252763    13.551780    12.974870   \n",
       "25%    1.237649e+18   162.474666    -0.631824    18.170375    16.796110   \n",
       "50%    1.237649e+18   195.815451     0.053336    18.843745    17.472525   \n",
       "75%    1.237649e+18   214.348425     0.593396    19.261563    17.997818   \n",
       "max    1.237650e+18   249.758313    13.854010    19.599750    22.497450   \n",
       "\n",
       "                 r            i            z          run      camcol  \\\n",
       "count  4000.000000  4000.000000  4000.000000  4000.000000  4000.00000   \n",
       "mean     16.839856    16.597712    16.439392   743.829000     3.37625   \n",
       "std       1.055343     1.141252     1.190502    98.865936     1.69909   \n",
       "min      12.362850    12.010790    11.799530   211.000000     1.00000   \n",
       "25%      16.190785    15.870782    15.628205   752.000000     2.00000   \n",
       "50%      16.850835    16.571195    16.402665   756.000000     3.00000   \n",
       "75%      17.506640    17.258833    17.147037   756.000000     5.00000   \n",
       "max      22.265960    28.179630    20.847690  1035.000000     6.00000   \n",
       "\n",
       "             field        score        clean     redshift           mjd  \\\n",
       "count  4000.000000  4000.000000  4000.000000  4000.000000   4000.000000   \n",
       "mean    419.602000     0.851765     0.895500     0.134015  52957.124750   \n",
       "std     167.162063     0.071311     0.305946     0.379742   1601.148131   \n",
       "min      19.000000     0.301912     0.000000    -0.003322  51608.000000   \n",
       "25%     311.000000     0.836866     1.000000     0.000106  51821.000000   \n",
       "50%     434.000000     0.860675     1.000000     0.032038  51986.000000   \n",
       "75%     527.000000     0.879834     1.000000     0.086479  54468.000000   \n",
       "max     812.000000     0.961145     1.000000     4.192597  58932.000000   \n",
       "\n",
       "              rowv         colv  \n",
       "count  4000.000000  4000.000000  \n",
       "mean      0.000218    -0.000090  \n",
       "std       0.008794     0.007457  \n",
       "min      -0.264516    -0.168807  \n",
       "25%      -0.001212    -0.001609  \n",
       "50%       0.000322     0.000125  \n",
       "75%       0.001698     0.001672  \n",
       "max       0.181871     0.128814  "
      ]
     },
     "execution_count": 7,
     "metadata": {},
     "output_type": "execute_result"
    }
   ],
   "source": [
    "data.describe()"
   ]
  },
  {
   "cell_type": "markdown",
   "metadata": {},
   "source": [
    "## 2.1 Exploración de Datos"
   ]
  },
  {
   "cell_type": "markdown",
   "metadata": {},
   "source": [
    "Para realizar la exploración de datos, se optó por el uso de la librería Pandas Profiling. Primero, se instala y se importa el reporte."
   ]
  },
  {
   "cell_type": "code",
   "execution_count": null,
   "metadata": {},
   "outputs": [
    {
     "name": "stderr",
     "output_type": "stream",
     "text": [
      "C:\\Users\\Mariana\\.pyenv\\pyenv-win\\versions\\3.9.12\\lib\\site-packages\\tqdm\\auto.py:21: TqdmWarning: IProgress not found. Please update jupyter and ipywidgets. See https://ipywidgets.readthedocs.io/en/stable/user_install.html\n",
      "  from .autonotebook import tqdm as notebook_tqdm\n",
      "Summarize dataset:  81%|█████████████████████████████▉       | 227/281 [01:10<00:19,  2.80it/s, scatter rowv, redshift]"
     ]
    }
   ],
   "source": [
    "import pandas as pd\n",
    "from ydata_profiling import ProfileReport\n",
    "\n",
    "# Generar el informe de exploración\n",
    "profile = ProfileReport(data, explorative=True)\n",
    "report_file = \"data_report.html\"\n",
    "profile.to_file(report_file)\n",
    "\n",
    "import webbrowser\n",
    "webbrowser.open(report_file)\n",
    "\n",
    "print(f\"El informe ha sido guardado en {report_file}.\")\n"
   ]
  },
  {
   "cell_type": "markdown",
   "metadata": {},
   "source": [
    "## 2.2 Verificación calidad de datos"
   ]
  },
  {
   "cell_type": "markdown",
   "metadata": {},
   "source": [
    "A partir de los datos obtenidos podemos observar que se encontraron duplicados, correlaciones altas y desbalance de clases, a continuacion vamos a explicar y detallar cada uno de estos reporte para poder abordar los datos de la mejor manera.\n",
    "\n",
    "Se detectaron 17 filas duplicadas, lo que representa el 0.4% del dataset. Para esto, se procedera a revisar estos registros y considerar su eliminación o consolidación, dependiendo de la naturaleza de los datos.\n",
    "\n",
    "Se identificaron múltiples variables con alta correlación entre sí, lo que puede indicar redundancia en los datos y posibles problemas de colinealidad en modelos futuros. Se analizarán estas correlaciones y se evaluará su conservacion dependiendo de la importancia que tenga para realizar el calculo del redshift."
   ]
  },
  {
   "cell_type": "markdown",
   "metadata": {},
   "source": [
    "## 3. Limpieza de Datos \n",
    "Este proceso de limpieza se relizará en 4 pasos Completitud, Duplicidad, Consistencia y Estadarización."
   ]
  },
  {
   "cell_type": "markdown",
   "metadata": {},
   "source": [
    "**3.1 Completitud** \n",
    "\n",
    "Es importante identificar si existen filas con valores vacíos y determinar si las variables presentan un porcentaje significativo de datos faltantes."
   ]
  },
  {
   "cell_type": "code",
   "execution_count": null,
   "metadata": {},
   "outputs": [],
   "source": [
    "#Completitud \n",
    "data.isnull().sum()    "
   ]
  },
  {
   "cell_type": "markdown",
   "metadata": {},
   "source": [
    "Se toma la decisión de no eliminar ninguna variable bajo este criterio, ya que ninguna presenta un nivel de significancía importante."
   ]
  },
  {
   "cell_type": "markdown",
   "metadata": {},
   "source": [
    "**3.2 Duplicidad**\n",
    "\n",
    "Se buscarán registros duplicados y se eliminan."
   ]
  },
  {
   "cell_type": "code",
   "execution_count": null,
   "metadata": {},
   "outputs": [],
   "source": [
    "#Filas duplicadas\n",
    "data.duplicated().sum()"
   ]
  },
  {
   "cell_type": "markdown",
   "metadata": {},
   "source": [
    "Observamos que existen 17 registros duplicados"
   ]
  },
  {
   "cell_type": "code",
   "execution_count": null,
   "metadata": {},
   "outputs": [],
   "source": [
    "data = data.drop_duplicates()\n",
    "data=data.dropna()\n",
    "duplicates = data.duplicated()\n",
    "num_duplicates = duplicates.sum()\n",
    "print(\"Number of duplicates: \", num_duplicates)"
   ]
  },
  {
   "cell_type": "markdown",
   "metadata": {},
   "source": [
    "Como se observa, al momento de generar los elemenos duplicado esos se reducen a 0."
   ]
  },
  {
   "cell_type": "markdown",
   "metadata": {},
   "source": [
    "**3.3 Consistencia**\n",
    "\n",
    "Para este caso analizamos las restricciones en ciertas variables y evaluamos la mejor desición a tomar para cada caso en especifico.\n",
    "Considerando las actualizaciones del experto: "
   ]
  },
  {
   "cell_type": "code",
   "execution_count": null,
   "metadata": {},
   "outputs": [],
   "source": [
    "#Verificación de Valores Fuera de Rango\n",
    "\n",
    "#Redshift es una distancia, no puede ser negativa\n",
    "print(\"Redshift negativos:\", (data[\"redshift\"] < 0).sum())\n",
    "#El score debe estar entre 0 y 1\n",
    "print(\"Score fuera de rango:\", ((data[\"score\"] < 0) | (data[\"score\"] > 1)).sum())\n",
    "#clean solo puede tener dos valores 1 y 0 (Es confiable o no)\n",
    "print(\"Valores únicos en 'clean':\", data[\"clean\"].unique())\n",
    "#Indicando la cantidad de tipos de cuerpos celestes\n",
    "data[\"class\"].value_counts()"
   ]
  },
  {
   "cell_type": "markdown",
   "metadata": {},
   "source": [
    "Como observamos encontramos 648 registros con la variable redshift negativa, sin score fuera de rango y valores dispersos únicos en clean. Por otro lado se debe recordar que el atributo clean lo que busca es decir si la medición es confiable o no. Con esto en mente, se procederá a modificar los datos de manera objetiva."
   ]
  },
  {
   "cell_type": "code",
   "execution_count": null,
   "metadata": {},
   "outputs": [],
   "source": [
    "# Eliminación de redshift negativo \n",
    "data.drop(data[data[\"redshift\"] < 0].index, inplace =True)\n",
    "#Eliminación mediciones no confiables\n",
    "data.drop(data[data[\"clean\"] == 0].index, inplace =True)\n",
    "\n",
    "#Corrección de valores atipicos de class\n",
    "data.loc[data[\"class\"] == \"G\", \"class\"] = \"GALAXY\"\n",
    "data.loc[data[\"class\"] == \"S\", \"class\"] = \"STAR\"\n",
    "data.loc[data[\"class\"] == \"QUASAR\", \"class\"] = \"QSO\"\n",
    "\n",
    "\n",
    "\n",
    "print(\"Redshift negativos:\", (data[\"redshift\"] < 0).sum())\n",
    "print(\"Score fuera de rango:\", ((data[\"score\"] < 0) | (data[\"score\"] > 1)).sum())\n",
    "print(\"Valores únicos en 'clean':\", data[\"clean\"].unique())"
   ]
  },
  {
   "cell_type": "markdown",
   "metadata": {},
   "source": [
    "**3.4 Estandarización**\n",
    "\n",
    "Seaborn se utiliza junto con Matplotlib para visualizar el conjunto de datos y detectar valores atípicos (outliers). Para ello, se emplea un diagrama de cajas, el cual representa la media, los cuartiles y destaca los valores atípicos de manera clara."
   ]
  },
  {
   "cell_type": "code",
   "execution_count": null,
   "metadata": {},
   "outputs": [],
   "source": [
    "fig = plt.figure(figsize=(50, 30))\n",
    "ax = sns.boxplot(data=data, orient=\"v\")\n",
    "print(\">> Se visualizan los datos en el siguiente grafico: \")\n",
    "plt.show()"
   ]
  },
  {
   "cell_type": "markdown",
   "metadata": {},
   "source": [
    "Como observamos, los datos se encuentran bastante consistentes a excepcion de la variable \"objid\" la cual tiene sentido debido al tipo de dato que maneja."
   ]
  },
  {
   "cell_type": "markdown",
   "metadata": {},
   "source": [
    "## 4. Análisis de datos"
   ]
  },
  {
   "cell_type": "markdown",
   "metadata": {},
   "source": [
    "4.1 Datos Categoricos"
   ]
  },
  {
   "cell_type": "code",
   "execution_count": null,
   "metadata": {},
   "outputs": [],
   "source": [
    "#indica cantidad de variables confiables (1) o no (0)\n",
    "data[\"clean\"].value_counts()"
   ]
  },
  {
   "cell_type": "code",
   "execution_count": null,
   "metadata": {},
   "outputs": [],
   "source": [
    "#Indicando la cantidad de tipos de cuerpos celestes\n",
    "data[\"class\"].value_counts()"
   ]
  },
  {
   "cell_type": "markdown",
   "metadata": {},
   "source": [
    "4.2 Correlación de datos y Visualización"
   ]
  },
  {
   "cell_type": "code",
   "execution_count": null,
   "metadata": {},
   "outputs": [],
   "source": [
    "from sklearn.decomposition import PCA\n",
    "from sklearn.preprocessing import StandardScaler\n",
    "\n",
    "# Normalizar datos antes de PCA\n",
    "scaler = StandardScaler()\n",
    "magnitudes_scaled = scaler.fit_transform(data[[\"u\", \"g\", \"r\", \"i\", \"z\"]])\n",
    "\n",
    "# Aplicar PCA para reducir las 5 variables a 1 componente principal\n",
    "pca = PCA(n_components=1)\n",
    "data[\"pca_mag\"] = pca.fit_transform(magnitudes_scaled)\n",
    "\n",
    "features = [\"redshift\", \"ra\",\"colv\",\"rowv\",\"dec\",\"score\",\"camcol\",\"field\",\"run\",'mjd',\"pca_mag\"]\n",
    "\n",
    "# SE QUITO CLASS, JUSTIFICAR\n",
    "\n",
    "# Verifica si las columnas existen en el DataFrame\n",
    "missing_features = [f for f in features if f not in data.columns]\n",
    "if missing_features:\n",
    "    print(f\"Advertencia: Faltan las siguientes columnas en 'data': {missing_features}\")\n",
    "\n",
    "# Generar la matriz de correlación\n",
    "corr_matrix = data[features].corr()\n",
    "\n",
    "# Crear el mapa de calor\n",
    "plt.figure(figsize=(12, 10))\n",
    "sns.heatmap(corr_matrix, cmap=\"Blues\", vmin=0, vmax=1, annot=True, fmt=\".2f\", linewidths=0.5)\n",
    "\n",
    "plt.title(\"Matriz de correlación\")\n",
    "plt.show()"
   ]
  },
  {
   "cell_type": "code",
   "execution_count": null,
   "metadata": {},
   "outputs": [],
   "source": [
    "# Visualización de distribución de variables importantes\n",
    "plt.figure(figsize=(12, 8))\n",
    "for i, col in enumerate([\"redshift\", \"score\", \"rowv\", \"colv\"]):\n",
    "    plt.subplot(2, 2, i+1)\n",
    "    sns.histplot(data[col], bins=30, kde=True)\n",
    "    plt.title(f\"Distribución de {col}\")\n",
    "plt.tight_layout()\n",
    "plt.show()\n"
   ]
  },
  {
   "cell_type": "code",
   "execution_count": 338,
   "metadata": {},
   "outputs": [
    {
     "data": {
      "text/html": [
       "<div>\n",
       "<style scoped>\n",
       "    .dataframe tbody tr th:only-of-type {\n",
       "        vertical-align: middle;\n",
       "    }\n",
       "\n",
       "    .dataframe tbody tr th {\n",
       "        vertical-align: top;\n",
       "    }\n",
       "\n",
       "    .dataframe thead th {\n",
       "        text-align: right;\n",
       "    }\n",
       "</style>\n",
       "<table border=\"1\" class=\"dataframe\">\n",
       "  <thead>\n",
       "    <tr style=\"text-align: right;\">\n",
       "      <th></th>\n",
       "      <th>redshift</th>\n",
       "      <th>score</th>\n",
       "      <th>ra</th>\n",
       "      <th>dec</th>\n",
       "    </tr>\n",
       "  </thead>\n",
       "  <tbody>\n",
       "    <tr>\n",
       "      <th>count</th>\n",
       "      <td>0.0</td>\n",
       "      <td>0.0</td>\n",
       "      <td>0.0</td>\n",
       "      <td>0.0</td>\n",
       "    </tr>\n",
       "    <tr>\n",
       "      <th>mean</th>\n",
       "      <td>NaN</td>\n",
       "      <td>NaN</td>\n",
       "      <td>NaN</td>\n",
       "      <td>NaN</td>\n",
       "    </tr>\n",
       "    <tr>\n",
       "      <th>std</th>\n",
       "      <td>NaN</td>\n",
       "      <td>NaN</td>\n",
       "      <td>NaN</td>\n",
       "      <td>NaN</td>\n",
       "    </tr>\n",
       "    <tr>\n",
       "      <th>min</th>\n",
       "      <td>NaN</td>\n",
       "      <td>NaN</td>\n",
       "      <td>NaN</td>\n",
       "      <td>NaN</td>\n",
       "    </tr>\n",
       "    <tr>\n",
       "      <th>25%</th>\n",
       "      <td>NaN</td>\n",
       "      <td>NaN</td>\n",
       "      <td>NaN</td>\n",
       "      <td>NaN</td>\n",
       "    </tr>\n",
       "    <tr>\n",
       "      <th>50%</th>\n",
       "      <td>NaN</td>\n",
       "      <td>NaN</td>\n",
       "      <td>NaN</td>\n",
       "      <td>NaN</td>\n",
       "    </tr>\n",
       "    <tr>\n",
       "      <th>75%</th>\n",
       "      <td>NaN</td>\n",
       "      <td>NaN</td>\n",
       "      <td>NaN</td>\n",
       "      <td>NaN</td>\n",
       "    </tr>\n",
       "    <tr>\n",
       "      <th>max</th>\n",
       "      <td>NaN</td>\n",
       "      <td>NaN</td>\n",
       "      <td>NaN</td>\n",
       "      <td>NaN</td>\n",
       "    </tr>\n",
       "  </tbody>\n",
       "</table>\n",
       "</div>"
      ],
      "text/plain": [
       "       redshift  score   ra  dec\n",
       "count       0.0    0.0  0.0  0.0\n",
       "mean        NaN    NaN  NaN  NaN\n",
       "std         NaN    NaN  NaN  NaN\n",
       "min         NaN    NaN  NaN  NaN\n",
       "25%         NaN    NaN  NaN  NaN\n",
       "50%         NaN    NaN  NaN  NaN\n",
       "75%         NaN    NaN  NaN  NaN\n",
       "max         NaN    NaN  NaN  NaN"
      ]
     },
     "execution_count": 338,
     "metadata": {},
     "output_type": "execute_result"
    }
   ],
   "source": [
    "#ver variables relevantes cuando no es confiable \n",
    "data_filtrado = data[data[\"clean\"] == 0]\n",
    "a= data_filtrado[[\"redshift\",\"score\",\"ra\",\"dec\"]]\n",
    "a.describe()"
   ]
  },
  {
   "cell_type": "code",
   "execution_count": 339,
   "metadata": {},
   "outputs": [
    {
     "data": {
      "text/html": [
       "<div>\n",
       "<style scoped>\n",
       "    .dataframe tbody tr th:only-of-type {\n",
       "        vertical-align: middle;\n",
       "    }\n",
       "\n",
       "    .dataframe tbody tr th {\n",
       "        vertical-align: top;\n",
       "    }\n",
       "\n",
       "    .dataframe thead th {\n",
       "        text-align: right;\n",
       "    }\n",
       "</style>\n",
       "<table border=\"1\" class=\"dataframe\">\n",
       "  <thead>\n",
       "    <tr style=\"text-align: right;\">\n",
       "      <th></th>\n",
       "      <th>redshift</th>\n",
       "      <th>ra</th>\n",
       "      <th>colv</th>\n",
       "      <th>i</th>\n",
       "      <th>rowv</th>\n",
       "      <th>dec</th>\n",
       "      <th>score</th>\n",
       "      <th>camcol</th>\n",
       "      <th>field</th>\n",
       "      <th>r</th>\n",
       "      <th>z</th>\n",
       "      <th>g</th>\n",
       "      <th>run</th>\n",
       "      <th>u</th>\n",
       "      <th>mjd</th>\n",
       "    </tr>\n",
       "  </thead>\n",
       "  <tbody>\n",
       "    <tr>\n",
       "      <th>count</th>\n",
       "      <td>2950.000000</td>\n",
       "      <td>2950.000000</td>\n",
       "      <td>2950.000000</td>\n",
       "      <td>2950.000000</td>\n",
       "      <td>2950.000000</td>\n",
       "      <td>2950.000000</td>\n",
       "      <td>2950.000000</td>\n",
       "      <td>2950.000000</td>\n",
       "      <td>2950.000000</td>\n",
       "      <td>2950.000000</td>\n",
       "      <td>2950.000000</td>\n",
       "      <td>2950.000000</td>\n",
       "      <td>2950.000000</td>\n",
       "      <td>2950.000000</td>\n",
       "      <td>2950.000000</td>\n",
       "    </tr>\n",
       "    <tr>\n",
       "      <th>mean</th>\n",
       "      <td>0.167385</td>\n",
       "      <td>183.682748</td>\n",
       "      <td>-0.000040</td>\n",
       "      <td>16.600726</td>\n",
       "      <td>0.000203</td>\n",
       "      <td>0.191911</td>\n",
       "      <td>0.854912</td>\n",
       "      <td>3.342712</td>\n",
       "      <td>411.323729</td>\n",
       "      <td>16.863261</td>\n",
       "      <td>16.434732</td>\n",
       "      <td>17.405990</td>\n",
       "      <td>741.915932</td>\n",
       "      <td>18.659604</td>\n",
       "      <td>52867.229153</td>\n",
       "    </tr>\n",
       "    <tr>\n",
       "      <th>std</th>\n",
       "      <td>0.426854</td>\n",
       "      <td>40.330982</td>\n",
       "      <td>0.004933</td>\n",
       "      <td>1.112108</td>\n",
       "      <td>0.006935</td>\n",
       "      <td>1.858646</td>\n",
       "      <td>0.058140</td>\n",
       "      <td>1.698794</td>\n",
       "      <td>166.108851</td>\n",
       "      <td>1.045488</td>\n",
       "      <td>1.184986</td>\n",
       "      <td>0.931180</td>\n",
       "      <td>101.015386</td>\n",
       "      <td>0.804319</td>\n",
       "      <td>1556.902264</td>\n",
       "    </tr>\n",
       "    <tr>\n",
       "      <th>min</th>\n",
       "      <td>0.000000</td>\n",
       "      <td>10.469743</td>\n",
       "      <td>-0.103396</td>\n",
       "      <td>12.010790</td>\n",
       "      <td>-0.264516</td>\n",
       "      <td>-1.252763</td>\n",
       "      <td>0.301912</td>\n",
       "      <td>1.000000</td>\n",
       "      <td>19.000000</td>\n",
       "      <td>12.362850</td>\n",
       "      <td>11.799530</td>\n",
       "      <td>12.974870</td>\n",
       "      <td>211.000000</td>\n",
       "      <td>14.271480</td>\n",
       "      <td>51608.000000</td>\n",
       "    </tr>\n",
       "    <tr>\n",
       "      <th>25%</th>\n",
       "      <td>0.000271</td>\n",
       "      <td>161.628596</td>\n",
       "      <td>-0.001605</td>\n",
       "      <td>15.873965</td>\n",
       "      <td>-0.001202</td>\n",
       "      <td>-0.648158</td>\n",
       "      <td>0.837283</td>\n",
       "      <td>2.000000</td>\n",
       "      <td>307.000000</td>\n",
       "      <td>16.209782</td>\n",
       "      <td>15.613565</td>\n",
       "      <td>16.874327</td>\n",
       "      <td>752.000000</td>\n",
       "      <td>18.264512</td>\n",
       "      <td>51821.000000</td>\n",
       "    </tr>\n",
       "    <tr>\n",
       "      <th>50%</th>\n",
       "      <td>0.052522</td>\n",
       "      <td>192.786291</td>\n",
       "      <td>0.000146</td>\n",
       "      <td>16.561920</td>\n",
       "      <td>0.000308</td>\n",
       "      <td>0.013618</td>\n",
       "      <td>0.860631</td>\n",
       "      <td>3.000000</td>\n",
       "      <td>419.500000</td>\n",
       "      <td>16.858325</td>\n",
       "      <td>16.393540</td>\n",
       "      <td>17.501230</td>\n",
       "      <td>756.000000</td>\n",
       "      <td>18.889870</td>\n",
       "      <td>51984.000000</td>\n",
       "    </tr>\n",
       "    <tr>\n",
       "      <th>75%</th>\n",
       "      <td>0.095670</td>\n",
       "      <td>211.186747</td>\n",
       "      <td>0.001645</td>\n",
       "      <td>17.266295</td>\n",
       "      <td>0.001687</td>\n",
       "      <td>0.585553</td>\n",
       "      <td>0.879875</td>\n",
       "      <td>5.000000</td>\n",
       "      <td>519.000000</td>\n",
       "      <td>17.522635</td>\n",
       "      <td>17.151240</td>\n",
       "      <td>18.013785</td>\n",
       "      <td>756.000000</td>\n",
       "      <td>19.276780</td>\n",
       "      <td>54208.000000</td>\n",
       "    </tr>\n",
       "    <tr>\n",
       "      <th>max</th>\n",
       "      <td>4.192597</td>\n",
       "      <td>249.723574</td>\n",
       "      <td>0.046058</td>\n",
       "      <td>20.598250</td>\n",
       "      <td>0.086376</td>\n",
       "      <td>13.812148</td>\n",
       "      <td>0.961145</td>\n",
       "      <td>6.000000</td>\n",
       "      <td>812.000000</td>\n",
       "      <td>20.118660</td>\n",
       "      <td>20.747790</td>\n",
       "      <td>20.204270</td>\n",
       "      <td>1035.000000</td>\n",
       "      <td>19.599750</td>\n",
       "      <td>58932.000000</td>\n",
       "    </tr>\n",
       "  </tbody>\n",
       "</table>\n",
       "</div>"
      ],
      "text/plain": [
       "          redshift           ra         colv            i         rowv  \\\n",
       "count  2950.000000  2950.000000  2950.000000  2950.000000  2950.000000   \n",
       "mean      0.167385   183.682748    -0.000040    16.600726     0.000203   \n",
       "std       0.426854    40.330982     0.004933     1.112108     0.006935   \n",
       "min       0.000000    10.469743    -0.103396    12.010790    -0.264516   \n",
       "25%       0.000271   161.628596    -0.001605    15.873965    -0.001202   \n",
       "50%       0.052522   192.786291     0.000146    16.561920     0.000308   \n",
       "75%       0.095670   211.186747     0.001645    17.266295     0.001687   \n",
       "max       4.192597   249.723574     0.046058    20.598250     0.086376   \n",
       "\n",
       "               dec        score       camcol        field            r  \\\n",
       "count  2950.000000  2950.000000  2950.000000  2950.000000  2950.000000   \n",
       "mean      0.191911     0.854912     3.342712   411.323729    16.863261   \n",
       "std       1.858646     0.058140     1.698794   166.108851     1.045488   \n",
       "min      -1.252763     0.301912     1.000000    19.000000    12.362850   \n",
       "25%      -0.648158     0.837283     2.000000   307.000000    16.209782   \n",
       "50%       0.013618     0.860631     3.000000   419.500000    16.858325   \n",
       "75%       0.585553     0.879875     5.000000   519.000000    17.522635   \n",
       "max      13.812148     0.961145     6.000000   812.000000    20.118660   \n",
       "\n",
       "                 z            g          run            u           mjd  \n",
       "count  2950.000000  2950.000000  2950.000000  2950.000000   2950.000000  \n",
       "mean     16.434732    17.405990   741.915932    18.659604  52867.229153  \n",
       "std       1.184986     0.931180   101.015386     0.804319   1556.902264  \n",
       "min      11.799530    12.974870   211.000000    14.271480  51608.000000  \n",
       "25%      15.613565    16.874327   752.000000    18.264512  51821.000000  \n",
       "50%      16.393540    17.501230   756.000000    18.889870  51984.000000  \n",
       "75%      17.151240    18.013785   756.000000    19.276780  54208.000000  \n",
       "max      20.747790    20.204270  1035.000000    19.599750  58932.000000  "
      ]
     },
     "execution_count": 339,
     "metadata": {},
     "output_type": "execute_result"
    }
   ],
   "source": [
    "#ver variables relevantes cuando es confiable \n",
    "data_filtrado = data[data[\"clean\"] == 1]\n",
    "a= data_filtrado[[\"redshift\", \"ra\",\"colv\",\"i\",\"rowv\",\"dec\",\"score\",\"camcol\",\"field\",\"r\",\"z\",\"g\",\"run\",\"u\",'mjd']]\n",
    "a.describe()"
   ]
  },
  {
   "cell_type": "markdown",
   "metadata": {},
   "source": [
    "# 5. Modelo de regresión lineal\n",
    "\n",
    "#### 5.1 El primer paso para crear el modelo es dividir los datos en dos grupos: un conjunto de entrenamiento y un conjunto de prueba. Para lograr esto, dividimos aleatoriamente el conjunto de datos procesados en un 80% para entrenamiento y un 20% para prueba. Es importante tener en cuenta que la columna objetivo (redshift) se separó de los datos de entrenamiento y prueba, dejando solo los features anteriormente escogidos en estos conjuntos de datos"
   ]
  },
  {
   "cell_type": "code",
   "execution_count": 340,
   "metadata": {},
   "outputs": [
    {
     "data": {
      "text/plain": [
       "((590, 5), (590,))"
      ]
     },
     "execution_count": 340,
     "metadata": {},
     "output_type": "execute_result"
    }
   ],
   "source": [
    "# Separamos el conjunto de datos etiquetado en dos partes: entrenamiento y prueba\n",
    "features2 =[ \"i\", \"r\", \"z\", \"g\", \"u\"]\n",
    "X_train, X_test, y_train, y_test = train_test_split(a[features2], a['redshift'], test_size = 0.2, random_state = 1)\n",
    "\n",
    "# Visualizamos las dimensiones de los conjuntos de datos\n",
    "X_train.shape, y_train.shape\n",
    "X_test.shape, y_test.shape"
   ]
  },
  {
   "cell_type": "markdown",
   "metadata": {},
   "source": [
    "Entrenamiento del primer modelo. Se hace uso de sklearn para entrenar el modelo de regresión lineal visto en el curso. Además se sacan las predicciones del modelo sobre el conjunto de entrenamiento (y_pred)"
   ]
  },
  {
   "cell_type": "code",
   "execution_count": 341,
   "metadata": {},
   "outputs": [],
   "source": [
    "regression = LinearRegression()\n",
    "regression.fit(X_train, y_train)\n",
    "y_pred = regression.predict(X_train)"
   ]
  },
  {
   "cell_type": "markdown",
   "metadata": {},
   "source": [
    "### 5.2 Coeficientes\n",
    "\n",
    "##### A partir de los coeficientes se entiende el impacto de las diferentes variables sobre el redshift "
   ]
  },
  {
   "cell_type": "code",
   "execution_count": 342,
   "metadata": {},
   "outputs": [
    {
     "data": {
      "text/html": [
       "<div>\n",
       "<style scoped>\n",
       "    .dataframe tbody tr th:only-of-type {\n",
       "        vertical-align: middle;\n",
       "    }\n",
       "\n",
       "    .dataframe tbody tr th {\n",
       "        vertical-align: top;\n",
       "    }\n",
       "\n",
       "    .dataframe thead th {\n",
       "        text-align: right;\n",
       "    }\n",
       "</style>\n",
       "<table border=\"1\" class=\"dataframe\">\n",
       "  <thead>\n",
       "    <tr style=\"text-align: right;\">\n",
       "      <th></th>\n",
       "      <th>columns</th>\n",
       "      <th>coef</th>\n",
       "    </tr>\n",
       "  </thead>\n",
       "  <tbody>\n",
       "    <tr>\n",
       "      <th>0</th>\n",
       "      <td>i</td>\n",
       "      <td>0.868206</td>\n",
       "    </tr>\n",
       "    <tr>\n",
       "      <th>1</th>\n",
       "      <td>r</td>\n",
       "      <td>0.357807</td>\n",
       "    </tr>\n",
       "    <tr>\n",
       "      <th>2</th>\n",
       "      <td>z</td>\n",
       "      <td>-1.061810</td>\n",
       "    </tr>\n",
       "    <tr>\n",
       "      <th>3</th>\n",
       "      <td>g</td>\n",
       "      <td>0.464424</td>\n",
       "    </tr>\n",
       "    <tr>\n",
       "      <th>4</th>\n",
       "      <td>u</td>\n",
       "      <td>-0.561299</td>\n",
       "    </tr>\n",
       "  </tbody>\n",
       "</table>\n",
       "</div>"
      ],
      "text/plain": [
       "  columns      coef\n",
       "0       i  0.868206\n",
       "1       r  0.357807\n",
       "2       z -1.061810\n",
       "3       g  0.464424\n",
       "4       u -0.561299"
      ]
     },
     "execution_count": 342,
     "metadata": {},
     "output_type": "execute_result"
    }
   ],
   "source": [
    "pd.DataFrame({'columns': features2, 'coef': regression.coef_})"
   ]
  },
  {
   "cell_type": "markdown",
   "metadata": {},
   "source": [
    "El análisis de los coeficientes del modelo de regresión revela que los atributos con valores absolutos más altos (INSERTAR ATRIBUTOS) son los que tienen mayor impacto en el resultado de la regresión. Específicamente, los atributos con coeficientes positivos contribuyen a aumentar el valor de la regresión, mientras que aquellos con coeficientes negativos lo disminuyen.\""
   ]
  },
  {
   "cell_type": "code",
   "execution_count": 343,
   "metadata": {},
   "outputs": [
    {
     "name": "stdout",
     "output_type": "stream",
     "text": [
      "El intercepto del modelo es:  -0.43902299312970927\n"
     ]
    },
    {
     "data": {
      "image/png": "[encoded data removed]",
      "text/plain": [
       "<Figure size 2000x400 with 5 Axes>"
      ]
     },
     "metadata": {},
     "output_type": "display_data"
    }
   ],
   "source": [
    "# Se obtiene el intercepto de la regresión\n",
    "\n",
    "print(\"El intercepto del modelo es: \", regression.intercept_)\n",
    "f, axs = plt.subplots(1, len(features2), sharey=True, figsize=(20, 4))\n",
    "\n",
    "for i in range(len(features2)):\n",
    "    col = features2[i]\n",
    "    x = X_train[col].astype(float)\n",
    "    m = regression.coef_[i]\n",
    "    b = regression.intercept_\n",
    "\n",
    "    axs[i].plot(x, y_train, \"o\", alpha=0.1)\n",
    "    axs[i].plot(x, x * m + b)\n",
    "    axs[i].set_title(col)\n"
   ]
  },
  {
   "cell_type": "markdown",
   "metadata": {},
   "source": [
    "### 5.3 Validación y métricas del modelo"
   ]
  },
  {
   "cell_type": "markdown",
   "metadata": {},
   "source": [
    "Para validar el modelo se calcula:\n",
    "- El error mínimo cuadrado RMSE porque nos da la diferencia entre el estimador y lo que estamos estimando\n",
    "- El error mínimo absoluto (MAE) porque nos da el tamaño promedio de los errores en nuestro conjunto de predicciones\n",
    "- El coeficiente de determinación (R^2) porque nos indica qué tan bien el modelo nos está prediciendo las variable de resultado\n",
    "#"
   ]
  },
  {
   "cell_type": "code",
   "execution_count": 344,
   "metadata": {},
   "outputs": [
    {
     "name": "stdout",
     "output_type": "stream",
     "text": [
      "MAE for train data: 0.21463293099058986\n",
      "MAE for test data: 0.2221297226381775\n",
      "RMSE for train data: 0.32733450797018826\n",
      "RMSE for test data: 0.36238244856785357\n",
      "R² for train dara: 0.40\n",
      "R² for test data: 0.32\n"
     ]
    }
   ],
   "source": [
    "print('MAE for train data:', mean_absolute_error(y_train, regression.predict(X_train)))\n",
    "print('MAE for test data:', mean_absolute_error(y_test, regression.predict(X_test)))\n",
    "\n",
    "print('RMSE for train data:', np.sqrt(mean_squared_error(y_train, regression.predict(X_train))))\n",
    "print('RMSE for test data:', np.sqrt(mean_squared_error(y_test, regression.predict(X_test))))\n",
    "\n",
    "print('R² for train dara: %.2f' % r2_score(y_train, y_pred))\n",
    "print('R² for test data: %.2f' % r2_score(y_test, regression.predict(X_test)))"
   ]
  }
 ],
 "metadata": {
  "kernelspec": {
   "display_name": "Python 3 (ipykernel)",
   "language": "python",
   "name": "python3"
  },
  "language_info": {
   "codemirror_mode": {
    "name": "ipython",
    "version": 3
   },
   "file_extension": ".py",
   "mimetype": "text/x-python",
   "name": "python",
   "nbconvert_exporter": "python",
   "pygments_lexer": "ipython3",
   "version": "3.9.12"
  }
 },
 "nbformat": 4,
 "nbformat_minor": 4
}
