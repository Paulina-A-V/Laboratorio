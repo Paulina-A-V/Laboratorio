{
 "cells": [
  {
   "cell_type": "markdown",
   "metadata": {},
   "source": [
    "# LABORATORIO 1\n"
   ]
  },
  {
   "cell_type": "markdown",
   "metadata": {},
   "source": [
    "## 1. Carga de los Datos"
   ]
  },
  {
   "cell_type": "markdown",
   "metadata": {},
   "source": [
    "1.1 Carga de librerias"
   ]
  },
  {
   "cell_type": "code",
   "execution_count": 1847,
   "metadata": {},
   "outputs": [],
   "source": [
    "import numpy as np\n",
    "import pandas as pd\n",
    "\n",
    "from joblib import dump, load\n",
    "\n",
    "import matplotlib.pyplot as plt\n",
    "import seaborn as sns\n",
    "\n",
    "from sklearn.model_selection import train_test_split\n",
    "from sklearn.linear_model import LinearRegression\n",
    "from sklearn.pipeline import Pipeline\n",
    "from sklearn.compose import ColumnTransformer\n",
    "from sklearn.preprocessing import StandardScaler\n",
    "from sklearn.preprocessing import PolynomialFeatures\n",
    "from sklearn.metrics import mean_absolute_error, mean_squared_error, r2_score\n",
    "\n",
    "import scipy.stats as stats"
   ]
  },
  {
   "cell_type": "markdown",
   "metadata": {},
   "source": [
    "1.2 Carga Datos"
   ]
  },
  {
   "cell_type": "code",
   "execution_count": 1848,
   "metadata": {},
   "outputs": [],
   "source": [
    "#Carga de datos\n",
    "pd.set_option(\"display.max_columns\", None)\n",
    "pd.set_option(\"display.max_rows\", 50)\n",
    "\n",
    "df = pd.read_csv('./training_data.csv')\n"
   ]
  },
  {
   "cell_type": "markdown",
   "metadata": {},
   "source": [
    "1.3 Información Basica de los Datos"
   ]
  },
  {
   "cell_type": "code",
   "execution_count": 1849,
   "metadata": {},
   "outputs": [
    {
     "name": "stdout",
     "output_type": "stream",
     "text": [
      ">> El dataset estructurado contiene 18 columnas y 4000 filas.\n",
      "\n",
      ">> La estructura de los datos es la siguiente: \n"
     ]
    },
    {
     "data": {
      "text/html": [
       "<div>\n",
       "<style scoped>\n",
       "    .dataframe tbody tr th:only-of-type {\n",
       "        vertical-align: middle;\n",
       "    }\n",
       "\n",
       "    .dataframe tbody tr th {\n",
       "        vertical-align: top;\n",
       "    }\n",
       "\n",
       "    .dataframe thead th {\n",
       "        text-align: right;\n",
       "    }\n",
       "</style>\n",
       "<table border=\"1\" class=\"dataframe\">\n",
       "  <thead>\n",
       "    <tr style=\"text-align: right;\">\n",
       "      <th></th>\n",
       "      <th>objid</th>\n",
       "      <th>ra</th>\n",
       "      <th>dec</th>\n",
       "      <th>u</th>\n",
       "      <th>g</th>\n",
       "      <th>r</th>\n",
       "      <th>i</th>\n",
       "      <th>z</th>\n",
       "      <th>run</th>\n",
       "      <th>camcol</th>\n",
       "      <th>field</th>\n",
       "      <th>score</th>\n",
       "      <th>clean</th>\n",
       "      <th>class</th>\n",
       "      <th>redshift</th>\n",
       "      <th>mjd</th>\n",
       "      <th>rowv</th>\n",
       "      <th>colv</th>\n",
       "    </tr>\n",
       "  </thead>\n",
       "  <tbody>\n",
       "    <tr>\n",
       "      <th>0</th>\n",
       "      <td>1237648722306924571</td>\n",
       "      <td>185.574486</td>\n",
       "      <td>0.701402</td>\n",
       "      <td>19.11034</td>\n",
       "      <td>17.62099</td>\n",
       "      <td>17.03464</td>\n",
       "      <td>16.82993</td>\n",
       "      <td>16.71711</td>\n",
       "      <td>756</td>\n",
       "      <td>5</td>\n",
       "      <td>466</td>\n",
       "      <td>0.864145</td>\n",
       "      <td>1</td>\n",
       "      <td>STAR</td>\n",
       "      <td>8.780529e-05</td>\n",
       "      <td>54140</td>\n",
       "      <td>0.002418</td>\n",
       "      <td>0.001363</td>\n",
       "    </tr>\n",
       "    <tr>\n",
       "      <th>1</th>\n",
       "      <td>1237648720167436418</td>\n",
       "      <td>203.801841</td>\n",
       "      <td>-0.853906</td>\n",
       "      <td>18.90957</td>\n",
       "      <td>17.62940</td>\n",
       "      <td>17.01465</td>\n",
       "      <td>16.62059</td>\n",
       "      <td>16.35239</td>\n",
       "      <td>756</td>\n",
       "      <td>1</td>\n",
       "      <td>588</td>\n",
       "      <td>0.816541</td>\n",
       "      <td>1</td>\n",
       "      <td>GALAXY</td>\n",
       "      <td>8.619995e-02</td>\n",
       "      <td>51955</td>\n",
       "      <td>0.008650</td>\n",
       "      <td>0.007056</td>\n",
       "    </tr>\n",
       "    <tr>\n",
       "      <th>2</th>\n",
       "      <td>1237648720685105352</td>\n",
       "      <td>160.034264</td>\n",
       "      <td>-0.421626</td>\n",
       "      <td>19.26340</td>\n",
       "      <td>17.67693</td>\n",
       "      <td>16.82551</td>\n",
       "      <td>16.42307</td>\n",
       "      <td>16.13864</td>\n",
       "      <td>756</td>\n",
       "      <td>2</td>\n",
       "      <td>295</td>\n",
       "      <td>0.870381</td>\n",
       "      <td>1</td>\n",
       "      <td>GALAXY</td>\n",
       "      <td>1.330486e-01</td>\n",
       "      <td>51913</td>\n",
       "      <td>0.003938</td>\n",
       "      <td>-0.002028</td>\n",
       "    </tr>\n",
       "    <tr>\n",
       "      <th>3</th>\n",
       "      <td>1237648703510937836</td>\n",
       "      <td>200.807373</td>\n",
       "      <td>-0.682024</td>\n",
       "      <td>18.82022</td>\n",
       "      <td>17.77765</td>\n",
       "      <td>17.38575</td>\n",
       "      <td>17.11128</td>\n",
       "      <td>16.93540</td>\n",
       "      <td>752</td>\n",
       "      <td>2</td>\n",
       "      <td>382</td>\n",
       "      <td>0.867801</td>\n",
       "      <td>1</td>\n",
       "      <td>GALAXY</td>\n",
       "      <td>8.636355e-02</td>\n",
       "      <td>51959</td>\n",
       "      <td>0.001839</td>\n",
       "      <td>0.001160</td>\n",
       "    </tr>\n",
       "    <tr>\n",
       "      <th>4</th>\n",
       "      <td>1237648720161275992</td>\n",
       "      <td>189.792404</td>\n",
       "      <td>-1.001480</td>\n",
       "      <td>18.91391</td>\n",
       "      <td>19.05355</td>\n",
       "      <td>19.46278</td>\n",
       "      <td>19.75660</td>\n",
       "      <td>20.09613</td>\n",
       "      <td>756</td>\n",
       "      <td>1</td>\n",
       "      <td>494</td>\n",
       "      <td>0.833824</td>\n",
       "      <td>1</td>\n",
       "      <td>STAR</td>\n",
       "      <td>-4.090000e-08</td>\n",
       "      <td>54562</td>\n",
       "      <td>0.001929</td>\n",
       "      <td>-0.000465</td>\n",
       "    </tr>\n",
       "  </tbody>\n",
       "</table>\n",
       "</div>"
      ],
      "text/plain": [
       "                 objid          ra       dec         u         g         r  \\\n",
       "0  1237648722306924571  185.574486  0.701402  19.11034  17.62099  17.03464   \n",
       "1  1237648720167436418  203.801841 -0.853906  18.90957  17.62940  17.01465   \n",
       "2  1237648720685105352  160.034264 -0.421626  19.26340  17.67693  16.82551   \n",
       "3  1237648703510937836  200.807373 -0.682024  18.82022  17.77765  17.38575   \n",
       "4  1237648720161275992  189.792404 -1.001480  18.91391  19.05355  19.46278   \n",
       "\n",
       "          i         z  run  camcol  field     score  clean   class  \\\n",
       "0  16.82993  16.71711  756       5    466  0.864145      1    STAR   \n",
       "1  16.62059  16.35239  756       1    588  0.816541      1  GALAXY   \n",
       "2  16.42307  16.13864  756       2    295  0.870381      1  GALAXY   \n",
       "3  17.11128  16.93540  752       2    382  0.867801      1  GALAXY   \n",
       "4  19.75660  20.09613  756       1    494  0.833824      1    STAR   \n",
       "\n",
       "       redshift    mjd      rowv      colv  \n",
       "0  8.780529e-05  54140  0.002418  0.001363  \n",
       "1  8.619995e-02  51955  0.008650  0.007056  \n",
       "2  1.330486e-01  51913  0.003938 -0.002028  \n",
       "3  8.636355e-02  51959  0.001839  0.001160  \n",
       "4 -4.090000e-08  54562  0.001929 -0.000465  "
      ]
     },
     "execution_count": 1849,
     "metadata": {},
     "output_type": "execute_result"
    }
   ],
   "source": [
    "df_dim = df.shape\n",
    "print(\">> El dataset estructurado contiene \" + str(df_dim[1]) + \" columnas y \"+ str(df_dim[0]) +\" filas.\\n\")\n",
    "print(\">> La estructura de los datos es la siguiente: \")\n",
    "\n",
    "#Muestra de primeros datos\n",
    "df.head() \n"
   ]
  },
  {
   "cell_type": "markdown",
   "metadata": {},
   "source": [
    "## 2. Entendimiento de los Datos"
   ]
  },
  {
   "cell_type": "markdown",
   "metadata": {},
   "source": [
    "Se genera una réplica del Dataset que contiene los datos, esto con la finalidad de prevenir la sobrescritura de la información y modificaciones no deseadas en el conjunto original, garantizando así su integridad. "
   ]
  },
  {
   "cell_type": "code",
   "execution_count": 1850,
   "metadata": {},
   "outputs": [],
   "source": [
    "data = df.copy()"
   ]
  },
  {
   "cell_type": "markdown",
   "metadata": {},
   "source": [
    "Los tipos de datos en cada una de las columnas son los siguientes:"
   ]
  },
  {
   "cell_type": "code",
   "execution_count": 1851,
   "metadata": {},
   "outputs": [
    {
     "data": {
      "text/plain": [
       "objid         int64\n",
       "ra          float64\n",
       "dec         float64\n",
       "u           float64\n",
       "g           float64\n",
       "r           float64\n",
       "i           float64\n",
       "z           float64\n",
       "run           int64\n",
       "camcol        int64\n",
       "field         int64\n",
       "score       float64\n",
       "clean         int64\n",
       "class        object\n",
       "redshift    float64\n",
       "mjd           int64\n",
       "rowv        float64\n",
       "colv        float64\n",
       "dtype: object"
      ]
     },
     "execution_count": 1851,
     "metadata": {},
     "output_type": "execute_result"
    }
   ],
   "source": [
    "data.dtypes"
   ]
  },
  {
   "cell_type": "markdown",
   "metadata": {},
   "source": [
    "Como se puede observar, solo una columna representa una variable en formato de texto, mientras que las demás corresponden a variables numéricas."
   ]
  },
  {
   "cell_type": "markdown",
   "metadata": {},
   "source": [
    "**Perfilamiento de datos**"
   ]
  },
  {
   "cell_type": "markdown",
   "metadata": {},
   "source": [
    "Se emplea el método describe() de Pandas para obtener una descripción de las columnas del dataset. A continuación, se analizan medidas de tendencia central, dispersión y otras características relevantes."
   ]
  },
  {
   "cell_type": "code",
   "execution_count": 1852,
   "metadata": {},
   "outputs": [
    {
     "data": {
      "text/html": [
       "<div>\n",
       "<style scoped>\n",
       "    .dataframe tbody tr th:only-of-type {\n",
       "        vertical-align: middle;\n",
       "    }\n",
       "\n",
       "    .dataframe tbody tr th {\n",
       "        vertical-align: top;\n",
       "    }\n",
       "\n",
       "    .dataframe thead th {\n",
       "        text-align: right;\n",
       "    }\n",
       "</style>\n",
       "<table border=\"1\" class=\"dataframe\">\n",
       "  <thead>\n",
       "    <tr style=\"text-align: right;\">\n",
       "      <th></th>\n",
       "      <th>objid</th>\n",
       "      <th>ra</th>\n",
       "      <th>dec</th>\n",
       "      <th>u</th>\n",
       "      <th>g</th>\n",
       "      <th>r</th>\n",
       "      <th>i</th>\n",
       "      <th>z</th>\n",
       "      <th>run</th>\n",
       "      <th>camcol</th>\n",
       "      <th>field</th>\n",
       "      <th>score</th>\n",
       "      <th>clean</th>\n",
       "      <th>redshift</th>\n",
       "      <th>mjd</th>\n",
       "      <th>rowv</th>\n",
       "      <th>colv</th>\n",
       "    </tr>\n",
       "  </thead>\n",
       "  <tbody>\n",
       "    <tr>\n",
       "      <th>count</th>\n",
       "      <td>4.000000e+03</td>\n",
       "      <td>4000.000000</td>\n",
       "      <td>4000.000000</td>\n",
       "      <td>4000.000000</td>\n",
       "      <td>4000.000000</td>\n",
       "      <td>4000.000000</td>\n",
       "      <td>4000.000000</td>\n",
       "      <td>4000.000000</td>\n",
       "      <td>4000.000000</td>\n",
       "      <td>4000.00000</td>\n",
       "      <td>4000.000000</td>\n",
       "      <td>4000.000000</td>\n",
       "      <td>4000.000000</td>\n",
       "      <td>4000.000000</td>\n",
       "      <td>4000.000000</td>\n",
       "      <td>4000.000000</td>\n",
       "      <td>4000.000000</td>\n",
       "    </tr>\n",
       "    <tr>\n",
       "      <th>mean</th>\n",
       "      <td>1.237649e+18</td>\n",
       "      <td>185.523295</td>\n",
       "      <td>0.248959</td>\n",
       "      <td>18.609049</td>\n",
       "      <td>17.363397</td>\n",
       "      <td>16.839856</td>\n",
       "      <td>16.597712</td>\n",
       "      <td>16.439392</td>\n",
       "      <td>743.829000</td>\n",
       "      <td>3.37625</td>\n",
       "      <td>419.602000</td>\n",
       "      <td>0.851765</td>\n",
       "      <td>0.895500</td>\n",
       "      <td>0.134015</td>\n",
       "      <td>52957.124750</td>\n",
       "      <td>0.000218</td>\n",
       "      <td>-0.000090</td>\n",
       "    </tr>\n",
       "    <tr>\n",
       "      <th>std</th>\n",
       "      <td>4.244222e+11</td>\n",
       "      <td>41.689446</td>\n",
       "      <td>2.001075</td>\n",
       "      <td>0.839431</td>\n",
       "      <td>0.950964</td>\n",
       "      <td>1.055343</td>\n",
       "      <td>1.141252</td>\n",
       "      <td>1.190502</td>\n",
       "      <td>98.865936</td>\n",
       "      <td>1.69909</td>\n",
       "      <td>167.162063</td>\n",
       "      <td>0.071311</td>\n",
       "      <td>0.305946</td>\n",
       "      <td>0.379742</td>\n",
       "      <td>1601.148131</td>\n",
       "      <td>0.008794</td>\n",
       "      <td>0.007457</td>\n",
       "    </tr>\n",
       "    <tr>\n",
       "      <th>min</th>\n",
       "      <td>1.237646e+18</td>\n",
       "      <td>10.469743</td>\n",
       "      <td>-1.252763</td>\n",
       "      <td>13.551780</td>\n",
       "      <td>12.974870</td>\n",
       "      <td>12.362850</td>\n",
       "      <td>12.010790</td>\n",
       "      <td>11.799530</td>\n",
       "      <td>211.000000</td>\n",
       "      <td>1.00000</td>\n",
       "      <td>19.000000</td>\n",
       "      <td>0.301912</td>\n",
       "      <td>0.000000</td>\n",
       "      <td>-0.003322</td>\n",
       "      <td>51608.000000</td>\n",
       "      <td>-0.264516</td>\n",
       "      <td>-0.168807</td>\n",
       "    </tr>\n",
       "    <tr>\n",
       "      <th>25%</th>\n",
       "      <td>1.237649e+18</td>\n",
       "      <td>162.474666</td>\n",
       "      <td>-0.631824</td>\n",
       "      <td>18.170375</td>\n",
       "      <td>16.796110</td>\n",
       "      <td>16.190785</td>\n",
       "      <td>15.870782</td>\n",
       "      <td>15.628205</td>\n",
       "      <td>752.000000</td>\n",
       "      <td>2.00000</td>\n",
       "      <td>311.000000</td>\n",
       "      <td>0.836866</td>\n",
       "      <td>1.000000</td>\n",
       "      <td>0.000106</td>\n",
       "      <td>51821.000000</td>\n",
       "      <td>-0.001212</td>\n",
       "      <td>-0.001609</td>\n",
       "    </tr>\n",
       "    <tr>\n",
       "      <th>50%</th>\n",
       "      <td>1.237649e+18</td>\n",
       "      <td>195.815451</td>\n",
       "      <td>0.053336</td>\n",
       "      <td>18.843745</td>\n",
       "      <td>17.472525</td>\n",
       "      <td>16.850835</td>\n",
       "      <td>16.571195</td>\n",
       "      <td>16.402665</td>\n",
       "      <td>756.000000</td>\n",
       "      <td>3.00000</td>\n",
       "      <td>434.000000</td>\n",
       "      <td>0.860675</td>\n",
       "      <td>1.000000</td>\n",
       "      <td>0.032038</td>\n",
       "      <td>51986.000000</td>\n",
       "      <td>0.000322</td>\n",
       "      <td>0.000125</td>\n",
       "    </tr>\n",
       "    <tr>\n",
       "      <th>75%</th>\n",
       "      <td>1.237649e+18</td>\n",
       "      <td>214.348425</td>\n",
       "      <td>0.593396</td>\n",
       "      <td>19.261563</td>\n",
       "      <td>17.997818</td>\n",
       "      <td>17.506640</td>\n",
       "      <td>17.258833</td>\n",
       "      <td>17.147037</td>\n",
       "      <td>756.000000</td>\n",
       "      <td>5.00000</td>\n",
       "      <td>527.000000</td>\n",
       "      <td>0.879834</td>\n",
       "      <td>1.000000</td>\n",
       "      <td>0.086479</td>\n",
       "      <td>54468.000000</td>\n",
       "      <td>0.001698</td>\n",
       "      <td>0.001672</td>\n",
       "    </tr>\n",
       "    <tr>\n",
       "      <th>max</th>\n",
       "      <td>1.237650e+18</td>\n",
       "      <td>249.758313</td>\n",
       "      <td>13.854010</td>\n",
       "      <td>19.599750</td>\n",
       "      <td>22.497450</td>\n",
       "      <td>22.265960</td>\n",
       "      <td>28.179630</td>\n",
       "      <td>20.847690</td>\n",
       "      <td>1035.000000</td>\n",
       "      <td>6.00000</td>\n",
       "      <td>812.000000</td>\n",
       "      <td>0.961145</td>\n",
       "      <td>1.000000</td>\n",
       "      <td>4.192597</td>\n",
       "      <td>58932.000000</td>\n",
       "      <td>0.181871</td>\n",
       "      <td>0.128814</td>\n",
       "    </tr>\n",
       "  </tbody>\n",
       "</table>\n",
       "</div>"
      ],
      "text/plain": [
       "              objid           ra          dec            u            g  \\\n",
       "count  4.000000e+03  4000.000000  4000.000000  4000.000000  4000.000000   \n",
       "mean   1.237649e+18   185.523295     0.248959    18.609049    17.363397   \n",
       "std    4.244222e+11    41.689446     2.001075     0.839431     0.950964   \n",
       "min    1.237646e+18    10.469743    -1.252763    13.551780    12.974870   \n",
       "25%    1.237649e+18   162.474666    -0.631824    18.170375    16.796110   \n",
       "50%    1.237649e+18   195.815451     0.053336    18.843745    17.472525   \n",
       "75%    1.237649e+18   214.348425     0.593396    19.261563    17.997818   \n",
       "max    1.237650e+18   249.758313    13.854010    19.599750    22.497450   \n",
       "\n",
       "                 r            i            z          run      camcol  \\\n",
       "count  4000.000000  4000.000000  4000.000000  4000.000000  4000.00000   \n",
       "mean     16.839856    16.597712    16.439392   743.829000     3.37625   \n",
       "std       1.055343     1.141252     1.190502    98.865936     1.69909   \n",
       "min      12.362850    12.010790    11.799530   211.000000     1.00000   \n",
       "25%      16.190785    15.870782    15.628205   752.000000     2.00000   \n",
       "50%      16.850835    16.571195    16.402665   756.000000     3.00000   \n",
       "75%      17.506640    17.258833    17.147037   756.000000     5.00000   \n",
       "max      22.265960    28.179630    20.847690  1035.000000     6.00000   \n",
       "\n",
       "             field        score        clean     redshift           mjd  \\\n",
       "count  4000.000000  4000.000000  4000.000000  4000.000000   4000.000000   \n",
       "mean    419.602000     0.851765     0.895500     0.134015  52957.124750   \n",
       "std     167.162063     0.071311     0.305946     0.379742   1601.148131   \n",
       "min      19.000000     0.301912     0.000000    -0.003322  51608.000000   \n",
       "25%     311.000000     0.836866     1.000000     0.000106  51821.000000   \n",
       "50%     434.000000     0.860675     1.000000     0.032038  51986.000000   \n",
       "75%     527.000000     0.879834     1.000000     0.086479  54468.000000   \n",
       "max     812.000000     0.961145     1.000000     4.192597  58932.000000   \n",
       "\n",
       "              rowv         colv  \n",
       "count  4000.000000  4000.000000  \n",
       "mean      0.000218    -0.000090  \n",
       "std       0.008794     0.007457  \n",
       "min      -0.264516    -0.168807  \n",
       "25%      -0.001212    -0.001609  \n",
       "50%       0.000322     0.000125  \n",
       "75%       0.001698     0.001672  \n",
       "max       0.181871     0.128814  "
      ]
     },
     "execution_count": 1852,
     "metadata": {},
     "output_type": "execute_result"
    }
   ],
   "source": [
    "data.describe()"
   ]
  },
  {
   "cell_type": "markdown",
   "metadata": {},
   "source": [
    "## 2.1 Exploración de Datos"
   ]
  },
  {
   "cell_type": "markdown",
   "metadata": {},
   "source": [
    "Para realizar la exploración de datos, se optó por el uso de la librería Pandas Profiling. Primero, se instala y se importa el reporte."
   ]
  },
  {
   "cell_type": "code",
   "execution_count": 1853,
   "metadata": {},
   "outputs": [
    {
     "data": {
      "text/plain": [
       "' import pandas as pd\\nfrom ydata_profiling import ProfileReport\\n\\n# Generar el informe de exploración\\nprofile = ProfileReport(data, explorative=True)\\nreport_file = \"data_report.html\"\\nprofile.to_file(report_file)\\n\\nimport webbrowser\\nwebbrowser.open(report_file)\\n\\nprint(f\"El informe ha sido guardado en {report_file}.\") '"
      ]
     },
     "execution_count": 1853,
     "metadata": {},
     "output_type": "execute_result"
    }
   ],
   "source": [
    "\"\"\" import pandas as pd\n",
    "from ydata_profiling import ProfileReport\n",
    "\n",
    "# Generar el informe de exploración\n",
    "profile = ProfileReport(data, explorative=True)\n",
    "report_file = \"data_report.html\"\n",
    "profile.to_file(report_file)\n",
    "\n",
    "import webbrowser\n",
    "webbrowser.open(report_file)\n",
    "\n",
    "print(f\"El informe ha sido guardado en {report_file}.\") \"\"\""
   ]
  },
  {
   "cell_type": "markdown",
   "metadata": {},
   "source": [
    "## 2.2 Verificación calidad de datos"
   ]
  },
  {
   "cell_type": "markdown",
   "metadata": {},
   "source": [
    "A partir de los datos obtenidos podemos observar que se encontraron duplicados, correlaciones altas y desbalance de clases, a continuacion vamos a explicar y detallar cada uno de estos reporte para poder abordar los datos de la mejor manera.\n",
    "\n",
    "Se detectaron 17 filas duplicadas, lo que representa el 0.4% del dataset. Para esto, se procedera a revisar estos registros y considerar su eliminación o consolidación, dependiendo de la naturaleza de los datos.\n",
    "\n",
    "Se identificaron múltiples variables con alta correlación entre sí, lo que puede indicar redundancia en los datos y posibles problemas de colinealidad en modelos futuros. Se analizarán estas correlaciones y se evaluará su conservacion dependiendo de la importancia que tenga para realizar el calculo del redshift."
   ]
  },
  {
   "cell_type": "markdown",
   "metadata": {},
   "source": [
    "## 3. Limpieza de Datos \n",
    "Este proceso de limpieza se relizará en 4 pasos Completitud, Duplicidad, Consistencia y Estadarización."
   ]
  },
  {
   "cell_type": "markdown",
   "metadata": {},
   "source": [
    "**3.1 Completitud** \n",
    "\n",
    "Es importante identificar si existen filas con valores vacíos y determinar si las variables presentan un porcentaje significativo de datos faltantes."
   ]
  },
  {
   "cell_type": "code",
   "execution_count": 1854,
   "metadata": {},
   "outputs": [
    {
     "data": {
      "text/plain": [
       "objid       0\n",
       "ra          0\n",
       "dec         0\n",
       "u           0\n",
       "g           0\n",
       "r           0\n",
       "i           0\n",
       "z           0\n",
       "run         0\n",
       "camcol      0\n",
       "field       0\n",
       "score       0\n",
       "clean       0\n",
       "class       0\n",
       "redshift    0\n",
       "mjd         0\n",
       "rowv        0\n",
       "colv        0\n",
       "dtype: int64"
      ]
     },
     "execution_count": 1854,
     "metadata": {},
     "output_type": "execute_result"
    }
   ],
   "source": [
    "#Completitud \n",
    "data.isnull().sum()    "
   ]
  },
  {
   "cell_type": "markdown",
   "metadata": {},
   "source": [
    "Se toma la decisión de no eliminar ninguna variable bajo este criterio, ya que ninguna presenta un nivel de significancía importante."
   ]
  },
  {
   "cell_type": "markdown",
   "metadata": {},
   "source": [
    "**3.2 Duplicidad**\n",
    "\n",
    "Se buscarán registros duplicados y se eliminan."
   ]
  },
  {
   "cell_type": "code",
   "execution_count": 1855,
   "metadata": {},
   "outputs": [
    {
     "data": {
      "text/plain": [
       "np.int64(17)"
      ]
     },
     "execution_count": 1855,
     "metadata": {},
     "output_type": "execute_result"
    }
   ],
   "source": [
    "#Filas duplicadas\n",
    "data.duplicated().sum()"
   ]
  },
  {
   "cell_type": "markdown",
   "metadata": {},
   "source": [
    "Observamos que existen 17 registros duplicados"
   ]
  },
  {
   "cell_type": "code",
   "execution_count": 1856,
   "metadata": {},
   "outputs": [
    {
     "name": "stdout",
     "output_type": "stream",
     "text": [
      "Number of duplicates:  0\n"
     ]
    }
   ],
   "source": [
    "data = data.drop_duplicates()\n",
    "data=data.dropna()\n",
    "duplicates = data.duplicated()\n",
    "num_duplicates = duplicates.sum()\n",
    "print(\"Number of duplicates: \", num_duplicates)"
   ]
  },
  {
   "cell_type": "markdown",
   "metadata": {},
   "source": [
    "Como se observa, al momento de generar los elemenos duplicado esos se reducen a 0."
   ]
  },
  {
   "cell_type": "markdown",
   "metadata": {},
   "source": [
    "**3.3 Consistencia**\n",
    "\n",
    "Para este caso analizamos las restricciones en ciertas variables y evaluamos la mejor desición a tomar para cada caso en especifico."
   ]
  },
  {
   "cell_type": "code",
   "execution_count": 1857,
   "metadata": {},
   "outputs": [
    {
     "name": "stdout",
     "output_type": "stream",
     "text": [
      "Redshift negativos: 646\n",
      "Score fuera de rango: 0\n",
      "Valores únicos en 'clean': [1 0]\n"
     ]
    },
    {
     "data": {
      "text/plain": [
       "class\n",
       "GALAXY    1847\n",
       "STAR      1625\n",
       "QSO        291\n",
       "S          175\n",
       "G           44\n",
       "QUASAR       1\n",
       "Name: count, dtype: int64"
      ]
     },
     "execution_count": 1857,
     "metadata": {},
     "output_type": "execute_result"
    }
   ],
   "source": [
    "#Verificación de Valores Fuera de Rango\n",
    "\n",
    "#Redshift es una distancia, no puede ser negativa\n",
    "print(\"Redshift negativos:\", (data[\"redshift\"] < 0).sum())\n",
    "#El score debe estar entre 0 y 1\n",
    "print(\"Score fuera de rango:\", ((data[\"score\"] < 0) | (data[\"score\"] > 1)).sum())\n",
    "#clean solo puede tener dos valores 1 y 0 (Es confiable o no)\n",
    "print(\"Valores únicos en 'clean':\", data[\"clean\"].unique())\n",
    "#Indicando la cantidad de tipos de cuerpos celestes\n",
    "data[\"class\"].value_counts()"
   ]
  },
  {
   "cell_type": "markdown",
   "metadata": {},
   "source": [
    "Como observamos encontramos 648 registros con la variable redshift negativa, sin score fuera de rango y valores dispersos únicos en clean. Para esto procederemos a modificar los datos de manera objetiva."
   ]
  },
  {
   "cell_type": "code",
   "execution_count": 1858,
   "metadata": {},
   "outputs": [
    {
     "name": "stdout",
     "output_type": "stream",
     "text": [
      "Redshift negativos: 0\n",
      "Score fuera de rango: 0\n",
      "Valores únicos en 'clean': [1]\n"
     ]
    }
   ],
   "source": [
    "# Eliminación de redshift negativo \n",
    "data.drop(data[data[\"redshift\"] < 0].index, inplace =True)\n",
    "#Eliminación mediciones no confiables\n",
    "data.drop(data[data[\"clean\"] == 0].index, inplace =True)\n",
    "\n",
    "#Corrección de valores atipicos de class\n",
    "data.loc[data[\"class\"] == \"G\", \"class\"] = \"GALAXY\"\n",
    "data.loc[data[\"class\"] == \"S\", \"class\"] = \"STAR\"\n",
    "data.loc[data[\"class\"] == \"QUASAR\", \"class\"] = \"QSO\"\n",
    "\n",
    "\n",
    "\n",
    "print(\"Redshift negativos:\", (data[\"redshift\"] < 0).sum())\n",
    "print(\"Score fuera de rango:\", ((data[\"score\"] < 0) | (data[\"score\"] > 1)).sum())\n",
    "print(\"Valores únicos en 'clean':\", data[\"clean\"].unique())"
   ]
  },
  {
   "cell_type": "markdown",
   "metadata": {},
   "source": [
    "**3.4 Estandarización**\n",
    "\n",
    "Seaborn se utiliza junto con Matplotlib para visualizar el conjunto de datos y detectar valores atípicos (outliers). Para ello, se emplea un diagrama de cajas, el cual representa la media, los cuartiles y destaca los valores atípicos de manera clara."
   ]
  },
  {
   "cell_type": "code",
   "execution_count": 1859,
   "metadata": {},
   "outputs": [
    {
     "name": "stdout",
     "output_type": "stream",
     "text": [
      ">> Se visualizan los datos en el siguiente grafico: \n"
     ]
    },
    {
     "data": {
      "image/png": "[encoded data removed]",
      "text/plain": [
       "<Figure size 5000x3000 with 1 Axes>"
      ]
     },
     "metadata": {},
     "output_type": "display_data"
    }
   ],
   "source": [
    "fig = plt.figure(figsize=(50, 30))\n",
    "ax = sns.boxplot(data=data, orient=\"v\")\n",
    "print(\">> Se visualizan los datos en el siguiente grafico: \")\n",
    "plt.show()"
   ]
  },
  {
   "cell_type": "markdown",
   "metadata": {},
   "source": [
    "Como observamos, los datos se encuentran bastante consistentes a excepcion de la variable \"objid\" la cual tiene sentido debido al tipo de dato que maneja."
   ]
  },
  {
   "cell_type": "markdown",
   "metadata": {},
   "source": [
    "## 4. Análisis de datos"
   ]
  },
  {
   "cell_type": "markdown",
   "metadata": {},
   "source": [
    "4.1 Datos Categoricos"
   ]
  },
  {
   "cell_type": "code",
   "execution_count": 1860,
   "metadata": {},
   "outputs": [
    {
     "data": {
      "text/plain": [
       "clean\n",
       "1    2950\n",
       "Name: count, dtype: int64"
      ]
     },
     "execution_count": 1860,
     "metadata": {},
     "output_type": "execute_result"
    }
   ],
   "source": [
    "#indica cantidad de variables confiables (1) o no (0)\n",
    "data[\"clean\"].value_counts()"
   ]
  },
  {
   "cell_type": "code",
   "execution_count": 1861,
   "metadata": {},
   "outputs": [
    {
     "data": {
      "text/plain": [
       "class\n",
       "GALAXY    1548\n",
       "STAR      1122\n",
       "QSO        280\n",
       "Name: count, dtype: int64"
      ]
     },
     "execution_count": 1861,
     "metadata": {},
     "output_type": "execute_result"
    }
   ],
   "source": [
    "#Indicando la cantidad de tipos de cuerpos celestes\n",
    "data[\"class\"].value_counts()"
   ]
  },
  {
   "cell_type": "markdown",
   "metadata": {},
   "source": [
    "4.2 Correlación de datos y Visualización"
   ]
  },
  {
   "cell_type": "code",
   "execution_count": 1862,
   "metadata": {},
   "outputs": [
    {
     "data": {
      "image/png": "[encoded data removed]",
      "text/plain": [
       "<Figure size 1200x1000 with 2 Axes>"
      ]
     },
     "metadata": {},
     "output_type": "display_data"
    }
   ],
   "source": [
    "features = [\"redshift\", \"ra\",\"colv\",\"i\",\"rowv\",\"dec\",\"score\",\"camcol\",\"field\",\"r\",\"z\",\"g\",\"run\",\"u\",'mjd']\n",
    "\n",
    "# SE QUITO CLASS, JUSTIFICAR\n",
    "\n",
    "# Verifica si las columnas existen en el DataFrame\n",
    "missing_features = [f for f in features if f not in data.columns]\n",
    "if missing_features:\n",
    "    print(f\"Advertencia: Faltan las siguientes columnas en 'data': {missing_features}\")\n",
    "\n",
    "# Generar la matriz de correlación\n",
    "corr_matrix = data[features].corr()\n",
    "\n",
    "# Crear el mapa de calor\n",
    "plt.figure(figsize=(12, 10))\n",
    "sns.heatmap(corr_matrix, cmap=\"Blues\", vmin=0, vmax=1, annot=True, fmt=\".2f\", linewidths=0.5)\n",
    "\n",
    "plt.title(\"Matriz de correlación\")\n",
    "plt.show()"
   ]
  },
  {
   "cell_type": "code",
   "execution_count": 1863,
   "metadata": {},
   "outputs": [
    {
     "data": {
      "image/png": "[encoded data removed]",
      "text/plain": [
       "<Figure size 1200x800 with 4 Axes>"
      ]
     },
     "metadata": {},
     "output_type": "display_data"
    }
   ],
   "source": [
    "# Visualización de distribución de variables importantes\n",
    "plt.figure(figsize=(12, 8))\n",
    "for i, col in enumerate([\"redshift\", \"score\", \"rowv\", \"colv\"]):\n",
    "    plt.subplot(2, 2, i+1)\n",
    "    sns.histplot(data[col], bins=30, kde=True)\n",
    "    plt.title(f\"Distribución de {col}\")\n",
    "plt.tight_layout()\n",
    "plt.show()\n"
   ]
  },
  {
   "cell_type": "code",
   "execution_count": 1864,
   "metadata": {},
   "outputs": [
    {
     "data": {
      "text/html": [
       "<div>\n",
       "<style scoped>\n",
       "    .dataframe tbody tr th:only-of-type {\n",
       "        vertical-align: middle;\n",
       "    }\n",
       "\n",
       "    .dataframe tbody tr th {\n",
       "        vertical-align: top;\n",
       "    }\n",
       "\n",
       "    .dataframe thead th {\n",
       "        text-align: right;\n",
       "    }\n",
       "</style>\n",
       "<table border=\"1\" class=\"dataframe\">\n",
       "  <thead>\n",
       "    <tr style=\"text-align: right;\">\n",
       "      <th></th>\n",
       "      <th>redshift</th>\n",
       "      <th>score</th>\n",
       "      <th>ra</th>\n",
       "      <th>dec</th>\n",
       "    </tr>\n",
       "  </thead>\n",
       "  <tbody>\n",
       "    <tr>\n",
       "      <th>count</th>\n",
       "      <td>0.0</td>\n",
       "      <td>0.0</td>\n",
       "      <td>0.0</td>\n",
       "      <td>0.0</td>\n",
       "    </tr>\n",
       "    <tr>\n",
       "      <th>mean</th>\n",
       "      <td>NaN</td>\n",
       "      <td>NaN</td>\n",
       "      <td>NaN</td>\n",
       "      <td>NaN</td>\n",
       "    </tr>\n",
       "    <tr>\n",
       "      <th>std</th>\n",
       "      <td>NaN</td>\n",
       "      <td>NaN</td>\n",
       "      <td>NaN</td>\n",
       "      <td>NaN</td>\n",
       "    </tr>\n",
       "    <tr>\n",
       "      <th>min</th>\n",
       "      <td>NaN</td>\n",
       "      <td>NaN</td>\n",
       "      <td>NaN</td>\n",
       "      <td>NaN</td>\n",
       "    </tr>\n",
       "    <tr>\n",
       "      <th>25%</th>\n",
       "      <td>NaN</td>\n",
       "      <td>NaN</td>\n",
       "      <td>NaN</td>\n",
       "      <td>NaN</td>\n",
       "    </tr>\n",
       "    <tr>\n",
       "      <th>50%</th>\n",
       "      <td>NaN</td>\n",
       "      <td>NaN</td>\n",
       "      <td>NaN</td>\n",
       "      <td>NaN</td>\n",
       "    </tr>\n",
       "    <tr>\n",
       "      <th>75%</th>\n",
       "      <td>NaN</td>\n",
       "      <td>NaN</td>\n",
       "      <td>NaN</td>\n",
       "      <td>NaN</td>\n",
       "    </tr>\n",
       "    <tr>\n",
       "      <th>max</th>\n",
       "      <td>NaN</td>\n",
       "      <td>NaN</td>\n",
       "      <td>NaN</td>\n",
       "      <td>NaN</td>\n",
       "    </tr>\n",
       "  </tbody>\n",
       "</table>\n",
       "</div>"
      ],
      "text/plain": [
       "       redshift  score   ra  dec\n",
       "count       0.0    0.0  0.0  0.0\n",
       "mean        NaN    NaN  NaN  NaN\n",
       "std         NaN    NaN  NaN  NaN\n",
       "min         NaN    NaN  NaN  NaN\n",
       "25%         NaN    NaN  NaN  NaN\n",
       "50%         NaN    NaN  NaN  NaN\n",
       "75%         NaN    NaN  NaN  NaN\n",
       "max         NaN    NaN  NaN  NaN"
      ]
     },
     "execution_count": 1864,
     "metadata": {},
     "output_type": "execute_result"
    }
   ],
   "source": [
    "#ver variables relevantes cuando no es confiable \n",
    "data_filtrado = data[data[\"clean\"] == 0]\n",
    "a= data_filtrado[[\"redshift\",\"score\",\"ra\",\"dec\"]]\n",
    "a.describe()"
   ]
  },
  {
   "cell_type": "code",
   "execution_count": 1865,
   "metadata": {},
   "outputs": [
    {
     "data": {
      "text/html": [
       "<div>\n",
       "<style scoped>\n",
       "    .dataframe tbody tr th:only-of-type {\n",
       "        vertical-align: middle;\n",
       "    }\n",
       "\n",
       "    .dataframe tbody tr th {\n",
       "        vertical-align: top;\n",
       "    }\n",
       "\n",
       "    .dataframe thead th {\n",
       "        text-align: right;\n",
       "    }\n",
       "</style>\n",
       "<table border=\"1\" class=\"dataframe\">\n",
       "  <thead>\n",
       "    <tr style=\"text-align: right;\">\n",
       "      <th></th>\n",
       "      <th>redshift</th>\n",
       "      <th>ra</th>\n",
       "      <th>colv</th>\n",
       "      <th>i</th>\n",
       "      <th>rowv</th>\n",
       "      <th>dec</th>\n",
       "      <th>score</th>\n",
       "      <th>camcol</th>\n",
       "      <th>field</th>\n",
       "      <th>r</th>\n",
       "      <th>z</th>\n",
       "      <th>g</th>\n",
       "      <th>run</th>\n",
       "      <th>u</th>\n",
       "      <th>mjd</th>\n",
       "    </tr>\n",
       "  </thead>\n",
       "  <tbody>\n",
       "    <tr>\n",
       "      <th>count</th>\n",
       "      <td>2950.000000</td>\n",
       "      <td>2950.000000</td>\n",
       "      <td>2950.000000</td>\n",
       "      <td>2950.000000</td>\n",
       "      <td>2950.000000</td>\n",
       "      <td>2950.000000</td>\n",
       "      <td>2950.000000</td>\n",
       "      <td>2950.000000</td>\n",
       "      <td>2950.000000</td>\n",
       "      <td>2950.000000</td>\n",
       "      <td>2950.000000</td>\n",
       "      <td>2950.000000</td>\n",
       "      <td>2950.000000</td>\n",
       "      <td>2950.000000</td>\n",
       "      <td>2950.000000</td>\n",
       "    </tr>\n",
       "    <tr>\n",
       "      <th>mean</th>\n",
       "      <td>0.167385</td>\n",
       "      <td>183.682748</td>\n",
       "      <td>-0.000040</td>\n",
       "      <td>16.600726</td>\n",
       "      <td>0.000203</td>\n",
       "      <td>0.191911</td>\n",
       "      <td>0.854912</td>\n",
       "      <td>3.342712</td>\n",
       "      <td>411.323729</td>\n",
       "      <td>16.863261</td>\n",
       "      <td>16.434732</td>\n",
       "      <td>17.405990</td>\n",
       "      <td>741.915932</td>\n",
       "      <td>18.659604</td>\n",
       "      <td>52867.229153</td>\n",
       "    </tr>\n",
       "    <tr>\n",
       "      <th>std</th>\n",
       "      <td>0.426854</td>\n",
       "      <td>40.330982</td>\n",
       "      <td>0.004933</td>\n",
       "      <td>1.112108</td>\n",
       "      <td>0.006935</td>\n",
       "      <td>1.858646</td>\n",
       "      <td>0.058140</td>\n",
       "      <td>1.698794</td>\n",
       "      <td>166.108851</td>\n",
       "      <td>1.045488</td>\n",
       "      <td>1.184986</td>\n",
       "      <td>0.931180</td>\n",
       "      <td>101.015386</td>\n",
       "      <td>0.804319</td>\n",
       "      <td>1556.902264</td>\n",
       "    </tr>\n",
       "    <tr>\n",
       "      <th>min</th>\n",
       "      <td>0.000000</td>\n",
       "      <td>10.469743</td>\n",
       "      <td>-0.103396</td>\n",
       "      <td>12.010790</td>\n",
       "      <td>-0.264516</td>\n",
       "      <td>-1.252763</td>\n",
       "      <td>0.301912</td>\n",
       "      <td>1.000000</td>\n",
       "      <td>19.000000</td>\n",
       "      <td>12.362850</td>\n",
       "      <td>11.799530</td>\n",
       "      <td>12.974870</td>\n",
       "      <td>211.000000</td>\n",
       "      <td>14.271480</td>\n",
       "      <td>51608.000000</td>\n",
       "    </tr>\n",
       "    <tr>\n",
       "      <th>25%</th>\n",
       "      <td>0.000271</td>\n",
       "      <td>161.628596</td>\n",
       "      <td>-0.001605</td>\n",
       "      <td>15.873965</td>\n",
       "      <td>-0.001202</td>\n",
       "      <td>-0.648158</td>\n",
       "      <td>0.837283</td>\n",
       "      <td>2.000000</td>\n",
       "      <td>307.000000</td>\n",
       "      <td>16.209782</td>\n",
       "      <td>15.613565</td>\n",
       "      <td>16.874327</td>\n",
       "      <td>752.000000</td>\n",
       "      <td>18.264512</td>\n",
       "      <td>51821.000000</td>\n",
       "    </tr>\n",
       "    <tr>\n",
       "      <th>50%</th>\n",
       "      <td>0.052522</td>\n",
       "      <td>192.786291</td>\n",
       "      <td>0.000146</td>\n",
       "      <td>16.561920</td>\n",
       "      <td>0.000308</td>\n",
       "      <td>0.013618</td>\n",
       "      <td>0.860631</td>\n",
       "      <td>3.000000</td>\n",
       "      <td>419.500000</td>\n",
       "      <td>16.858325</td>\n",
       "      <td>16.393540</td>\n",
       "      <td>17.501230</td>\n",
       "      <td>756.000000</td>\n",
       "      <td>18.889870</td>\n",
       "      <td>51984.000000</td>\n",
       "    </tr>\n",
       "    <tr>\n",
       "      <th>75%</th>\n",
       "      <td>0.095670</td>\n",
       "      <td>211.186747</td>\n",
       "      <td>0.001645</td>\n",
       "      <td>17.266295</td>\n",
       "      <td>0.001687</td>\n",
       "      <td>0.585553</td>\n",
       "      <td>0.879875</td>\n",
       "      <td>5.000000</td>\n",
       "      <td>519.000000</td>\n",
       "      <td>17.522635</td>\n",
       "      <td>17.151240</td>\n",
       "      <td>18.013785</td>\n",
       "      <td>756.000000</td>\n",
       "      <td>19.276780</td>\n",
       "      <td>54208.000000</td>\n",
       "    </tr>\n",
       "    <tr>\n",
       "      <th>max</th>\n",
       "      <td>4.192597</td>\n",
       "      <td>249.723574</td>\n",
       "      <td>0.046058</td>\n",
       "      <td>20.598250</td>\n",
       "      <td>0.086376</td>\n",
       "      <td>13.812148</td>\n",
       "      <td>0.961145</td>\n",
       "      <td>6.000000</td>\n",
       "      <td>812.000000</td>\n",
       "      <td>20.118660</td>\n",
       "      <td>20.747790</td>\n",
       "      <td>20.204270</td>\n",
       "      <td>1035.000000</td>\n",
       "      <td>19.599750</td>\n",
       "      <td>58932.000000</td>\n",
       "    </tr>\n",
       "  </tbody>\n",
       "</table>\n",
       "</div>"
      ],
      "text/plain": [
       "          redshift           ra         colv            i         rowv  \\\n",
       "count  2950.000000  2950.000000  2950.000000  2950.000000  2950.000000   \n",
       "mean      0.167385   183.682748    -0.000040    16.600726     0.000203   \n",
       "std       0.426854    40.330982     0.004933     1.112108     0.006935   \n",
       "min       0.000000    10.469743    -0.103396    12.010790    -0.264516   \n",
       "25%       0.000271   161.628596    -0.001605    15.873965    -0.001202   \n",
       "50%       0.052522   192.786291     0.000146    16.561920     0.000308   \n",
       "75%       0.095670   211.186747     0.001645    17.266295     0.001687   \n",
       "max       4.192597   249.723574     0.046058    20.598250     0.086376   \n",
       "\n",
       "               dec        score       camcol        field            r  \\\n",
       "count  2950.000000  2950.000000  2950.000000  2950.000000  2950.000000   \n",
       "mean      0.191911     0.854912     3.342712   411.323729    16.863261   \n",
       "std       1.858646     0.058140     1.698794   166.108851     1.045488   \n",
       "min      -1.252763     0.301912     1.000000    19.000000    12.362850   \n",
       "25%      -0.648158     0.837283     2.000000   307.000000    16.209782   \n",
       "50%       0.013618     0.860631     3.000000   419.500000    16.858325   \n",
       "75%       0.585553     0.879875     5.000000   519.000000    17.522635   \n",
       "max      13.812148     0.961145     6.000000   812.000000    20.118660   \n",
       "\n",
       "                 z            g          run            u           mjd  \n",
       "count  2950.000000  2950.000000  2950.000000  2950.000000   2950.000000  \n",
       "mean     16.434732    17.405990   741.915932    18.659604  52867.229153  \n",
       "std       1.184986     0.931180   101.015386     0.804319   1556.902264  \n",
       "min      11.799530    12.974870   211.000000    14.271480  51608.000000  \n",
       "25%      15.613565    16.874327   752.000000    18.264512  51821.000000  \n",
       "50%      16.393540    17.501230   756.000000    18.889870  51984.000000  \n",
       "75%      17.151240    18.013785   756.000000    19.276780  54208.000000  \n",
       "max      20.747790    20.204270  1035.000000    19.599750  58932.000000  "
      ]
     },
     "execution_count": 1865,
     "metadata": {},
     "output_type": "execute_result"
    }
   ],
   "source": [
    "#ver variables relevantes cuando es confiable \n",
    "data_filtrado = data[data[\"clean\"] == 1]\n",
    "a= data_filtrado[[\"redshift\", \"ra\",\"colv\",\"i\",\"rowv\",\"dec\",\"score\",\"camcol\",\"field\",\"r\",\"z\",\"g\",\"run\",\"u\",'mjd']]\n",
    "a.describe()"
   ]
  },
  {
   "cell_type": "markdown",
   "metadata": {},
   "source": [
    "# 5. Modelo de regresión lineal\n",
    "\n",
    "#### 5.1 El primer paso para crear el modelo es dividir los datos en dos grupos: un conjunto de entrenamiento y un conjunto de prueba. Para lograr esto, dividimos aleatoriamente el conjunto de datos procesados en un 80% para entrenamiento y un 20% para prueba. Es importante tener en cuenta que la columna objetivo (redshift) se separó de los datos de entrenamiento y prueba, dejando solo los features anteriormente escogidos en estos conjuntos de datos"
   ]
  },
  {
   "cell_type": "code",
   "execution_count": 1866,
   "metadata": {},
   "outputs": [
    {
     "data": {
      "text/plain": [
       "((590, 8), (590,))"
      ]
     },
     "execution_count": 1866,
     "metadata": {},
     "output_type": "execute_result"
    }
   ],
   "source": [
    "# Separamos el conjunto de datos etiquetado en dos partes: entrenamiento y prueba\n",
    "features2 =[\"ra\", \"dec\", \"run\", \"camcol\", \"field\", \"mjd\", \"colv\", \"rowv\"]\n",
    "X_train, X_test, y_train, y_test = train_test_split(a[features2], a['redshift'], test_size = 0.2, random_state = 1)\n",
    "\n",
    "# Visualizamos las dimensiones de los conjuntos de datos\n",
    "X_train.shape, y_train.shape\n",
    "X_test.shape, y_test.shape"
   ]
  },
  {
   "cell_type": "markdown",
   "metadata": {},
   "source": [
    "Entrenamiento del primer modelo. Se hace uso de sklearn para entrenar el modelo de regresión lineal visto en el curso. Además se sacan las predicciones del modelo sobre el conjunto de entrenamiento (y_pred)"
   ]
  },
  {
   "cell_type": "code",
   "execution_count": 1867,
   "metadata": {},
   "outputs": [],
   "source": [
    "regression = LinearRegression()\n",
    "regression.fit(X_train, y_train)\n",
    "y_pred = regression.predict(X_train)"
   ]
  },
  {
   "cell_type": "markdown",
   "metadata": {},
   "source": [
    "### 5.2 Coeficientes\n",
    "\n",
    "##### A partir de los coeficientes se entiende el impacto de las diferentes variables sobre el redshift "
   ]
  },
  {
   "cell_type": "code",
   "execution_count": 1868,
   "metadata": {},
   "outputs": [
    {
     "data": {
      "text/html": [
       "<div>\n",
       "<style scoped>\n",
       "    .dataframe tbody tr th:only-of-type {\n",
       "        vertical-align: middle;\n",
       "    }\n",
       "\n",
       "    .dataframe tbody tr th {\n",
       "        vertical-align: top;\n",
       "    }\n",
       "\n",
       "    .dataframe thead th {\n",
       "        text-align: right;\n",
       "    }\n",
       "</style>\n",
       "<table border=\"1\" class=\"dataframe\">\n",
       "  <thead>\n",
       "    <tr style=\"text-align: right;\">\n",
       "      <th></th>\n",
       "      <th>columns</th>\n",
       "      <th>coef</th>\n",
       "    </tr>\n",
       "  </thead>\n",
       "  <tbody>\n",
       "    <tr>\n",
       "      <th>0</th>\n",
       "      <td>ra</td>\n",
       "      <td>0.001484</td>\n",
       "    </tr>\n",
       "    <tr>\n",
       "      <th>1</th>\n",
       "      <td>dec</td>\n",
       "      <td>0.022736</td>\n",
       "    </tr>\n",
       "    <tr>\n",
       "      <th>2</th>\n",
       "      <td>run</td>\n",
       "      <td>0.000051</td>\n",
       "    </tr>\n",
       "    <tr>\n",
       "      <th>3</th>\n",
       "      <td>camcol</td>\n",
       "      <td>-0.009778</td>\n",
       "    </tr>\n",
       "    <tr>\n",
       "      <th>4</th>\n",
       "      <td>field</td>\n",
       "      <td>-0.000083</td>\n",
       "    </tr>\n",
       "    <tr>\n",
       "      <th>5</th>\n",
       "      <td>mjd</td>\n",
       "      <td>-0.000018</td>\n",
       "    </tr>\n",
       "    <tr>\n",
       "      <th>6</th>\n",
       "      <td>colv</td>\n",
       "      <td>5.441862</td>\n",
       "    </tr>\n",
       "    <tr>\n",
       "      <th>7</th>\n",
       "      <td>rowv</td>\n",
       "      <td>0.930306</td>\n",
       "    </tr>\n",
       "  </tbody>\n",
       "</table>\n",
       "</div>"
      ],
      "text/plain": [
       "  columns      coef\n",
       "0      ra  0.001484\n",
       "1     dec  0.022736\n",
       "2     run  0.000051\n",
       "3  camcol -0.009778\n",
       "4   field -0.000083\n",
       "5     mjd -0.000018\n",
       "6    colv  5.441862\n",
       "7    rowv  0.930306"
      ]
     },
     "execution_count": 1868,
     "metadata": {},
     "output_type": "execute_result"
    }
   ],
   "source": [
    "pd.DataFrame({'columns': features2, 'coef': regression.coef_})"
   ]
  },
  {
   "cell_type": "markdown",
   "metadata": {},
   "source": [
    "El análisis de los coeficientes del modelo de regresión revela que los atributos con valores absolutos más altos (INSERTAR ATRIBUTOS) son los que tienen mayor impacto en el resultado de la regresión. Específicamente, los atributos con coeficientes positivos contribuyen a aumentar el valor de la regresión, mientras que aquellos con coeficientes negativos lo disminuyen.\""
   ]
  },
  {
   "cell_type": "code",
   "execution_count": 1869,
   "metadata": {},
   "outputs": [
    {
     "name": "stdout",
     "output_type": "stream",
     "text": [
      "El intercepto del modelo es:  0.8520599625202584\n"
     ]
    },
    {
     "data": {
      "image/png": "[encoded data removed]",
      "text/plain": [
       "<Figure size 2000x400 with 8 Axes>"
      ]
     },
     "metadata": {},
     "output_type": "display_data"
    }
   ],
   "source": [
    "# Se obtiene el intercepto de la regresión\n",
    "\n",
    "print(\"El intercepto del modelo es: \", regression.intercept_)\n",
    "f, axs = plt.subplots(1, len(features2), sharey=True, figsize=(20, 4))\n",
    "\n",
    "for i in range(len(features2)):\n",
    "    col = features2[i]\n",
    "    x = X_train[col].astype(float)\n",
    "    m = regression.coef_[i]\n",
    "    b = regression.intercept_\n",
    "\n",
    "    axs[i].plot(x, y_train, \"o\", alpha=0.1)\n",
    "    axs[i].plot(x, x * m + b)\n",
    "    axs[i].set_title(col)\n"
   ]
  },
  {
   "cell_type": "markdown",
   "metadata": {},
   "source": [
    "### 5.3 Validación y métricas del modelo"
   ]
  },
  {
   "cell_type": "markdown",
   "metadata": {},
   "source": [
    "Para validar el modelo se calcula:\n",
    "- El error mínimo cuadrado RMSE porque nos da la diferencia entre el estimador y lo que estamos estimando\n",
    "- El error mínimo absoluto (MAE) porque nos da el tamaño promedio de los errores en nuestro conjunto de predicciones\n",
    "- El coeficiente de determinación (R^2) porque nos indica qué tan bien el modelo nos está prediciendo las variable de resultado\n",
    "#"
   ]
  },
  {
   "cell_type": "code",
   "execution_count": 1870,
   "metadata": {},
   "outputs": [
    {
     "name": "stdout",
     "output_type": "stream",
     "text": [
      "MAE for train data: 0.21542786432139677\n",
      "MAE for test data: 0.2172535710920946\n",
      "RMSE for train data: 0.41853418253234226\n",
      "RMSE for test data: 0.4412571464115172\n",
      "R² for train dara: 0.02\n",
      "R² for test data: -0.00\n"
     ]
    }
   ],
   "source": [
    "print('MAE for train data:', mean_absolute_error(y_train, regression.predict(X_train)))\n",
    "print('MAE for test data:', mean_absolute_error(y_test, regression.predict(X_test)))\n",
    "\n",
    "print('RMSE for train data:', np.sqrt(mean_squared_error(y_train, regression.predict(X_train))))\n",
    "print('RMSE for test data:', np.sqrt(mean_squared_error(y_test, regression.predict(X_test))))\n",
    "\n",
    "print('R² for train dara: %.2f' % r2_score(y_train, y_pred))\n",
    "print('R² for test data: %.2f' % r2_score(y_test, regression.predict(X_test)))"
   ]
  },
  {
   "cell_type": "markdown",
   "metadata": {},
   "source": [
    "Comenzaremos analizando el supuesto de linealidad, el cual establece que la relación entre las variables predictoras y la variable objetivo debe ser de naturaleza lineal. Para verificar este criterio, representamos gráficamente los valores predichos por el modelo frente a los residuos. Si el supuesto se cumple, se espera que los puntos se distribuyan de manera aleatoria alrededor del valor cero en el gráfico de residuos frente a predicciones."
   ]
  },
  {
   "cell_type": "code",
   "execution_count": null,
   "metadata": {},
   "outputs": [
    {
     "data": {
      "image/png": "[encoded data removed]",
      "text/plain": [
       "<Figure size 640x480 with 1 Axes>"
      ]
     },
     "metadata": {},
     "output_type": "display_data"
    }
   ],
   "source": [
    "valores_ajustados = regression.predict(data[features2])\n",
    "\n",
    "residuos = data[\"redshift\"] - valores_ajustados\n",
    "\n",
    "plt.scatter(valores_ajustados, residuos)\n",
    "plt.xlabel('Valores ajustados')\n",
    "plt.ylabel('Residuos')\n",
    "plt.title('Verificación de linealidad')\n",
    "plt.show()"
   ]
  },
  {
   "cell_type": "markdown",
   "metadata": {},
   "source": [
    "\n",
    "A continuación, evaluamos la normalidad de los residuos, un supuesto que establece que los errores del modelo deben seguir una distribución normal. Para comprobarlo, aplicamos la prueba de Shapiro-Wilk, que nos permite determinar si los residuos presentan una distribución aproximadamente normal."
   ]
  },
  {
   "cell_type": "code",
   "execution_count": null,
   "metadata": {},
   "outputs": [
    {
     "name": "stdout",
     "output_type": "stream",
     "text": [
      "Estadística de Shapiro-Wilk: 0.4438962961407922\n",
      "Valor p: 4.9926454273312706e-70\n"
     ]
    }
   ],
   "source": [
    "shapiro_test = stats.shapiro(residuos)\n",
    "print(\"Estadística de Shapiro-Wilk:\", shapiro_test.statistic)\n",
    "print(\"Valor p:\", shapiro_test.pvalue)"
   ]
  },
  {
   "cell_type": "markdown",
   "metadata": {},
   "source": [
    "Continuamos con la evaluación de la homocedasticidad, un supuesto que indica que la varianza de los residuos debe mantenerse constante en todos los niveles de las variables predictoras. Para verificarlo, representamos gráficamente los residuos en función de los valores predichos. Si el supuesto se cumple, se espera una distribución uniforme de los puntos alrededor de cero, sin patrones evidentes de variabilidad."
   ]
  },
  {
   "cell_type": "code",
   "execution_count": null,
   "metadata": {},
   "outputs": [
    {
     "data": {
      "image/png": "[encoded data removed]",
      "text/plain": [
       "<Figure size 640x480 with 1 Axes>"
      ]
     },
     "metadata": {},
     "output_type": "display_data"
    }
   ],
   "source": [
    "plt.scatter(valores_ajustados, residuos)\n",
    "plt.xlabel('Valores ajustados')\n",
    "plt.ylabel('Residuos')\n",
    "plt.title('Verificación de homocedasticidad')\n",
    "plt.show()"
   ]
  },
  {
   "cell_type": "markdown",
   "metadata": {},
   "source": [
    "Por último, analizamos la independencia de los errores, un supuesto que establece que los residuos no deben estar correlacionados entre sí. Para verificarlo, aplicamos la prueba de Durbin-Watson, donde un valor cercano a 2 indica que los errores son independientes, mientras que desviaciones significativas de este valor pueden sugerir la presencia de autocorrelación."
   ]
  },
  {
   "cell_type": "code",
   "execution_count": null,
   "metadata": {},
   "outputs": [
    {
     "name": "stdout",
     "output_type": "stream",
     "text": [
      "Valor del test de Durbin-Watson: 1.9714806462843866\n"
     ]
    }
   ],
   "source": [
    "dw_test = durbin_watson(residuos)\n",
    "print(\"Valor del test de Durbin-Watson:\", dw_test)"
   ]
  },
  {
   "cell_type": "markdown",
   "metadata": {},
   "source": [
    "5.4 Validación de los Supuestos Y Métricas\n",
    "\n",
    "a. Evaluación del Error (MAE y RMSE)\n",
    "\n",
    "El MAE de 0.22 significa que, en promedio, el modelo se equivoca en 0.22 unidades de redshift.\n",
    "El RMSE de 0.42-0.44 indica que algunos errores pueden ser mayores, lo que sugiere presencia de outliers o alta variabilidad en los datos.\n",
    "Es decir: El error en sí no es extremadamente alto, pero si el rango de redshift es pequeño, podría ser significativo.\n",
    "\n",
    "b. Evaluación del R^2\n",
    "\n",
    "R² = 0.02 en entrenamiento significa que el modelo solo explica el 2% de la variabilidad en los datos.\n",
    "R² ≈ 0.00 en prueba indica que el modelo no tiene capacidad predictiva, y su desempeño es casi equivalente a hacer una predicción aleatoria.\n",
    "Sin embargo estos resultados resultan extraños ya que las variables seleccionadas son las adecuadas y no prsentan problemas de multicolinealidad. Por otro lado la construcción del modelo se realizó sin errores. \n",
    "\n",
    "c. Validación Supuesto de Linealidad:\n",
    "Un R² tan bajo indica que la relación no es lineal o que faltan variables clave en el modelo.\n",
    "\n",
    "d. Validación supuesto de Normalidad de los Residuos:\n",
    "Prueba de Shapiro-Wilk: Si el p-valor < 0.05, los residuos NO son normales.\n",
    "QQ-Plot: Si los puntos no siguen la línea diagonal, hay problemas de normalidad. significa que el modelo puede estar subestimando o sobreestimando ciertos valores de redshift, lo que puede afectar la calidad de la inferencia estadística.\n",
    "\n",
    "e. Validación supuesto de Homocedasticidad:\n",
    "Prueba de Breusch-Pagan: Si el p-valor < 0.05, los errores NO tienen varianza constante (hay heterocedasticidad). Si hay heterocedasticidad, el modelo es menos confiable en ciertos valores de redshift, afectando la precisión de la predicción.\n",
    "\n",
    "f. Validación del supuesto de Independencia de los Errores\n",
    "Prueba de Durbin-Watson: Si 1.5 < DW < 2.5, los residuos son independientes.\n",
    "Si DW < 1.5 o DW > 2.5, hay autocorrelación en los residuos, lo que significa que los errores están relacionados y el modelo no es confiable. Si hay autocorrelación, los errores dependen entre sí, lo que indica que puede faltar una variable importante en el modelo.\n",
    "\n",
    "g. Validación del supuesto de No Multicolinealidad\n",
    "Si VIF > 10, hay colinealidad severa.\n",
    "Si VIF < 5, no hay problemas de colinealidad.\n",
    "No se encontraron problemas de multicolinealidad en el modelo, lo que indica que las variables seleccionadas no están redundantes entre sí.\n",
    "\n",
    "\n"
   ]
  },
  {
   "cell_type": "markdown",
   "metadata": {},
   "source": [
    "# 6. PIPELINE"
   ]
  },
  {
   "cell_type": "markdown",
   "metadata": {},
   "source": [
    "Se está crea un pipeline para preprocesar datos numéricos y entrenar el modelo de regresión lineal. Primero, se imputan los valores faltantes con la media y se escalan los datos usando StandardScaler. Luego, estas transformaciones de preprocesamiento se aplican a columnas numéricas mediante un ColumnTransformer. Finalmente, el pipeline integra estas etapas y entrena un modelo de regresión lineal sobre los datos procesados."
   ]
  },
  {
   "cell_type": "code",
   "execution_count": 1871,
   "metadata": {},
   "outputs": [],
   "source": [
    "from sklearn.impute import SimpleImputer\n",
    "from sklearn.preprocessing import OneHotEncoder\n",
    "\n",
    "numeric_features = [\"ra\", \"dec\", \"run\", \"camcol\", \"field\", \"mjd\", \"colv\", \"rowv\"]\n",
    "\n",
    "numeric_transformer = Pipeline(steps=[\n",
    "    ('imputer', SimpleImputer(strategy='mean')),\n",
    "    ('scaler', StandardScaler())\n",
    "])\n",
    "\n",
    "\n",
    "preprocessor = ColumnTransformer(\n",
    "    transformers=[\n",
    "        ('numerico', numeric_transformer, numeric_features)\n",
    "    ])\n",
    "    \n",
    "\n",
    "pipeline = Pipeline(\n",
    "    [\n",
    "        (\"preprocessor\", preprocessor),\n",
    "        (\"scaler\", StandardScaler()),\n",
    "        (\"model\", LinearRegression())\n",
    "    ]\n",
    ")"
   ]
  },
  {
   "cell_type": "markdown",
   "metadata": {},
   "source": [
    "Como la transformacion numerica se puede hacer con diferentes criterios, usamos GridSearchCV para realizar la selección de los mejores hiperparámetros para el modelo"
   ]
  },
  {
   "cell_type": "code",
   "execution_count": 1872,
   "metadata": {},
   "outputs": [],
   "source": [
    "from sklearn.model_selection import GridSearchCV, KFold\n",
    "from sklearn.preprocessing import MinMaxScaler\n",
    "\n",
    "\n",
    "param_grid = {\n",
    "    # Paso de imputación\n",
    "    'preprocessor__numerico__imputer__strategy': ['mean', 'median'],\n",
    "    # Escaladores Numéricos\n",
    "    'preprocessor__numerico__scaler': [StandardScaler(), MinMaxScaler()]\n",
    "}\n",
    "\n",
    "kfold = KFold(n_splits=5, shuffle=True, random_state=0)\n",
    "grid = GridSearchCV(pipeline, param_grid, cv=kfold, n_jobs=-1)"
   ]
  },
  {
   "cell_type": "code",
   "execution_count": 1873,
   "metadata": {},
   "outputs": [
    {
     "data": {
      "text/html": [
       "<style>#sk-container-id-38 {\n",
       "  /* Definition of color scheme common for light and dark mode */\n",
       "  --sklearn-color-text: #000;\n",
       "  --sklearn-color-text-muted: #666;\n",
       "  --sklearn-color-line: gray;\n",
       "  /* Definition of color scheme for unfitted estimators */\n",
       "  --sklearn-color-unfitted-level-0: #fff5e6;\n",
       "  --sklearn-color-unfitted-level-1: #f6e4d2;\n",
       "  --sklearn-color-unfitted-level-2: #ffe0b3;\n",
       "  --sklearn-color-unfitted-level-3: chocolate;\n",
       "  /* Definition of color scheme for fitted estimators */\n",
       "  --sklearn-color-fitted-level-0: #f0f8ff;\n",
       "  --sklearn-color-fitted-level-1: #d4ebff;\n",
       "  --sklearn-color-fitted-level-2: #b3dbfd;\n",
       "  --sklearn-color-fitted-level-3: cornflowerblue;\n",
       "\n",
       "  /* Specific color for light theme */\n",
       "  --sklearn-color-text-on-default-background: var(--sg-text-color, var(--theme-code-foreground, var(--jp-content-font-color1, black)));\n",
       "  --sklearn-color-background: var(--sg-background-color, var(--theme-background, var(--jp-layout-color0, white)));\n",
       "  --sklearn-color-border-box: var(--sg-text-color, var(--theme-code-foreground, var(--jp-content-font-color1, black)));\n",
       "  --sklearn-color-icon: #696969;\n",
       "\n",
       "  @media (prefers-color-scheme: dark) {\n",
       "    /* Redefinition of color scheme for dark theme */\n",
       "    --sklearn-color-text-on-default-background: var(--sg-text-color, var(--theme-code-foreground, var(--jp-content-font-color1, white)));\n",
       "    --sklearn-color-background: var(--sg-background-color, var(--theme-background, var(--jp-layout-color0, #111)));\n",
       "    --sklearn-color-border-box: var(--sg-text-color, var(--theme-code-foreground, var(--jp-content-font-color1, white)));\n",
       "    --sklearn-color-icon: #878787;\n",
       "  }\n",
       "}\n",
       "\n",
       "#sk-container-id-38 {\n",
       "  color: var(--sklearn-color-text);\n",
       "}\n",
       "\n",
       "#sk-container-id-38 pre {\n",
       "  padding: 0;\n",
       "}\n",
       "\n",
       "#sk-container-id-38 input.sk-hidden--visually {\n",
       "  border: 0;\n",
       "  clip: rect(1px 1px 1px 1px);\n",
       "  clip: rect(1px, 1px, 1px, 1px);\n",
       "  height: 1px;\n",
       "  margin: -1px;\n",
       "  overflow: hidden;\n",
       "  padding: 0;\n",
       "  position: absolute;\n",
       "  width: 1px;\n",
       "}\n",
       "\n",
       "#sk-container-id-38 div.sk-dashed-wrapped {\n",
       "  border: 1px dashed var(--sklearn-color-line);\n",
       "  margin: 0 0.4em 0.5em 0.4em;\n",
       "  box-sizing: border-box;\n",
       "  padding-bottom: 0.4em;\n",
       "  background-color: var(--sklearn-color-background);\n",
       "}\n",
       "\n",
       "#sk-container-id-38 div.sk-container {\n",
       "  /* jupyter's `normalize.less` sets `[hidden] { display: none; }`\n",
       "     but bootstrap.min.css set `[hidden] { display: none !important; }`\n",
       "     so we also need the `!important` here to be able to override the\n",
       "     default hidden behavior on the sphinx rendered scikit-learn.org.\n",
       "     See: https://github.com/scikit-learn/scikit-learn/issues/21755 */\n",
       "  display: inline-block !important;\n",
       "  position: relative;\n",
       "}\n",
       "\n",
       "#sk-container-id-38 div.sk-text-repr-fallback {\n",
       "  display: none;\n",
       "}\n",
       "\n",
       "div.sk-parallel-item,\n",
       "div.sk-serial,\n",
       "div.sk-item {\n",
       "  /* draw centered vertical line to link estimators */\n",
       "  background-image: linear-gradient(var(--sklearn-color-text-on-default-background), var(--sklearn-color-text-on-default-background));\n",
       "  background-size: 2px 100%;\n",
       "  background-repeat: no-repeat;\n",
       "  background-position: center center;\n",
       "}\n",
       "\n",
       "/* Parallel-specific style estimator block */\n",
       "\n",
       "#sk-container-id-38 div.sk-parallel-item::after {\n",
       "  content: \"\";\n",
       "  width: 100%;\n",
       "  border-bottom: 2px solid var(--sklearn-color-text-on-default-background);\n",
       "  flex-grow: 1;\n",
       "}\n",
       "\n",
       "#sk-container-id-38 div.sk-parallel {\n",
       "  display: flex;\n",
       "  align-items: stretch;\n",
       "  justify-content: center;\n",
       "  background-color: var(--sklearn-color-background);\n",
       "  position: relative;\n",
       "}\n",
       "\n",
       "#sk-container-id-38 div.sk-parallel-item {\n",
       "  display: flex;\n",
       "  flex-direction: column;\n",
       "}\n",
       "\n",
       "#sk-container-id-38 div.sk-parallel-item:first-child::after {\n",
       "  align-self: flex-end;\n",
       "  width: 50%;\n",
       "}\n",
       "\n",
       "#sk-container-id-38 div.sk-parallel-item:last-child::after {\n",
       "  align-self: flex-start;\n",
       "  width: 50%;\n",
       "}\n",
       "\n",
       "#sk-container-id-38 div.sk-parallel-item:only-child::after {\n",
       "  width: 0;\n",
       "}\n",
       "\n",
       "/* Serial-specific style estimator block */\n",
       "\n",
       "#sk-container-id-38 div.sk-serial {\n",
       "  display: flex;\n",
       "  flex-direction: column;\n",
       "  align-items: center;\n",
       "  background-color: var(--sklearn-color-background);\n",
       "  padding-right: 1em;\n",
       "  padding-left: 1em;\n",
       "}\n",
       "\n",
       "\n",
       "/* Toggleable style: style used for estimator/Pipeline/ColumnTransformer box that is\n",
       "clickable and can be expanded/collapsed.\n",
       "- Pipeline and ColumnTransformer use this feature and define the default style\n",
       "- Estimators will overwrite some part of the style using the `sk-estimator` class\n",
       "*/\n",
       "\n",
       "/* Pipeline and ColumnTransformer style (default) */\n",
       "\n",
       "#sk-container-id-38 div.sk-toggleable {\n",
       "  /* Default theme specific background. It is overwritten whether we have a\n",
       "  specific estimator or a Pipeline/ColumnTransformer */\n",
       "  background-color: var(--sklearn-color-background);\n",
       "}\n",
       "\n",
       "/* Toggleable label */\n",
       "#sk-container-id-38 label.sk-toggleable__label {\n",
       "  cursor: pointer;\n",
       "  display: flex;\n",
       "  width: 100%;\n",
       "  margin-bottom: 0;\n",
       "  padding: 0.5em;\n",
       "  box-sizing: border-box;\n",
       "  text-align: center;\n",
       "  align-items: start;\n",
       "  justify-content: space-between;\n",
       "  gap: 0.5em;\n",
       "}\n",
       "\n",
       "#sk-container-id-38 label.sk-toggleable__label .caption {\n",
       "  font-size: 0.6rem;\n",
       "  font-weight: lighter;\n",
       "  color: var(--sklearn-color-text-muted);\n",
       "}\n",
       "\n",
       "#sk-container-id-38 label.sk-toggleable__label-arrow:before {\n",
       "  /* Arrow on the left of the label */\n",
       "  content: \"▸\";\n",
       "  float: left;\n",
       "  margin-right: 0.25em;\n",
       "  color: var(--sklearn-color-icon);\n",
       "}\n",
       "\n",
       "#sk-container-id-38 label.sk-toggleable__label-arrow:hover:before {\n",
       "  color: var(--sklearn-color-text);\n",
       "}\n",
       "\n",
       "/* Toggleable content - dropdown */\n",
       "\n",
       "#sk-container-id-38 div.sk-toggleable__content {\n",
       "  max-height: 0;\n",
       "  max-width: 0;\n",
       "  overflow: hidden;\n",
       "  text-align: left;\n",
       "  /* unfitted */\n",
       "  background-color: var(--sklearn-color-unfitted-level-0);\n",
       "}\n",
       "\n",
       "#sk-container-id-38 div.sk-toggleable__content.fitted {\n",
       "  /* fitted */\n",
       "  background-color: var(--sklearn-color-fitted-level-0);\n",
       "}\n",
       "\n",
       "#sk-container-id-38 div.sk-toggleable__content pre {\n",
       "  margin: 0.2em;\n",
       "  border-radius: 0.25em;\n",
       "  color: var(--sklearn-color-text);\n",
       "  /* unfitted */\n",
       "  background-color: var(--sklearn-color-unfitted-level-0);\n",
       "}\n",
       "\n",
       "#sk-container-id-38 div.sk-toggleable__content.fitted pre {\n",
       "  /* unfitted */\n",
       "  background-color: var(--sklearn-color-fitted-level-0);\n",
       "}\n",
       "\n",
       "#sk-container-id-38 input.sk-toggleable__control:checked~div.sk-toggleable__content {\n",
       "  /* Expand drop-down */\n",
       "  max-height: 200px;\n",
       "  max-width: 100%;\n",
       "  overflow: auto;\n",
       "}\n",
       "\n",
       "#sk-container-id-38 input.sk-toggleable__control:checked~label.sk-toggleable__label-arrow:before {\n",
       "  content: \"▾\";\n",
       "}\n",
       "\n",
       "/* Pipeline/ColumnTransformer-specific style */\n",
       "\n",
       "#sk-container-id-38 div.sk-label input.sk-toggleable__control:checked~label.sk-toggleable__label {\n",
       "  color: var(--sklearn-color-text);\n",
       "  background-color: var(--sklearn-color-unfitted-level-2);\n",
       "}\n",
       "\n",
       "#sk-container-id-38 div.sk-label.fitted input.sk-toggleable__control:checked~label.sk-toggleable__label {\n",
       "  background-color: var(--sklearn-color-fitted-level-2);\n",
       "}\n",
       "\n",
       "/* Estimator-specific style */\n",
       "\n",
       "/* Colorize estimator box */\n",
       "#sk-container-id-38 div.sk-estimator input.sk-toggleable__control:checked~label.sk-toggleable__label {\n",
       "  /* unfitted */\n",
       "  background-color: var(--sklearn-color-unfitted-level-2);\n",
       "}\n",
       "\n",
       "#sk-container-id-38 div.sk-estimator.fitted input.sk-toggleable__control:checked~label.sk-toggleable__label {\n",
       "  /* fitted */\n",
       "  background-color: var(--sklearn-color-fitted-level-2);\n",
       "}\n",
       "\n",
       "#sk-container-id-38 div.sk-label label.sk-toggleable__label,\n",
       "#sk-container-id-38 div.sk-label label {\n",
       "  /* The background is the default theme color */\n",
       "  color: var(--sklearn-color-text-on-default-background);\n",
       "}\n",
       "\n",
       "/* On hover, darken the color of the background */\n",
       "#sk-container-id-38 div.sk-label:hover label.sk-toggleable__label {\n",
       "  color: var(--sklearn-color-text);\n",
       "  background-color: var(--sklearn-color-unfitted-level-2);\n",
       "}\n",
       "\n",
       "/* Label box, darken color on hover, fitted */\n",
       "#sk-container-id-38 div.sk-label.fitted:hover label.sk-toggleable__label.fitted {\n",
       "  color: var(--sklearn-color-text);\n",
       "  background-color: var(--sklearn-color-fitted-level-2);\n",
       "}\n",
       "\n",
       "/* Estimator label */\n",
       "\n",
       "#sk-container-id-38 div.sk-label label {\n",
       "  font-family: monospace;\n",
       "  font-weight: bold;\n",
       "  display: inline-block;\n",
       "  line-height: 1.2em;\n",
       "}\n",
       "\n",
       "#sk-container-id-38 div.sk-label-container {\n",
       "  text-align: center;\n",
       "}\n",
       "\n",
       "/* Estimator-specific */\n",
       "#sk-container-id-38 div.sk-estimator {\n",
       "  font-family: monospace;\n",
       "  border: 1px dotted var(--sklearn-color-border-box);\n",
       "  border-radius: 0.25em;\n",
       "  box-sizing: border-box;\n",
       "  margin-bottom: 0.5em;\n",
       "  /* unfitted */\n",
       "  background-color: var(--sklearn-color-unfitted-level-0);\n",
       "}\n",
       "\n",
       "#sk-container-id-38 div.sk-estimator.fitted {\n",
       "  /* fitted */\n",
       "  background-color: var(--sklearn-color-fitted-level-0);\n",
       "}\n",
       "\n",
       "/* on hover */\n",
       "#sk-container-id-38 div.sk-estimator:hover {\n",
       "  /* unfitted */\n",
       "  background-color: var(--sklearn-color-unfitted-level-2);\n",
       "}\n",
       "\n",
       "#sk-container-id-38 div.sk-estimator.fitted:hover {\n",
       "  /* fitted */\n",
       "  background-color: var(--sklearn-color-fitted-level-2);\n",
       "}\n",
       "\n",
       "/* Specification for estimator info (e.g. \"i\" and \"?\") */\n",
       "\n",
       "/* Common style for \"i\" and \"?\" */\n",
       "\n",
       ".sk-estimator-doc-link,\n",
       "a:link.sk-estimator-doc-link,\n",
       "a:visited.sk-estimator-doc-link {\n",
       "  float: right;\n",
       "  font-size: smaller;\n",
       "  line-height: 1em;\n",
       "  font-family: monospace;\n",
       "  background-color: var(--sklearn-color-background);\n",
       "  border-radius: 1em;\n",
       "  height: 1em;\n",
       "  width: 1em;\n",
       "  text-decoration: none !important;\n",
       "  margin-left: 0.5em;\n",
       "  text-align: center;\n",
       "  /* unfitted */\n",
       "  border: var(--sklearn-color-unfitted-level-1) 1pt solid;\n",
       "  color: var(--sklearn-color-unfitted-level-1);\n",
       "}\n",
       "\n",
       ".sk-estimator-doc-link.fitted,\n",
       "a:link.sk-estimator-doc-link.fitted,\n",
       "a:visited.sk-estimator-doc-link.fitted {\n",
       "  /* fitted */\n",
       "  border: var(--sklearn-color-fitted-level-1) 1pt solid;\n",
       "  color: var(--sklearn-color-fitted-level-1);\n",
       "}\n",
       "\n",
       "/* On hover */\n",
       "div.sk-estimator:hover .sk-estimator-doc-link:hover,\n",
       ".sk-estimator-doc-link:hover,\n",
       "div.sk-label-container:hover .sk-estimator-doc-link:hover,\n",
       ".sk-estimator-doc-link:hover {\n",
       "  /* unfitted */\n",
       "  background-color: var(--sklearn-color-unfitted-level-3);\n",
       "  color: var(--sklearn-color-background);\n",
       "  text-decoration: none;\n",
       "}\n",
       "\n",
       "div.sk-estimator.fitted:hover .sk-estimator-doc-link.fitted:hover,\n",
       ".sk-estimator-doc-link.fitted:hover,\n",
       "div.sk-label-container:hover .sk-estimator-doc-link.fitted:hover,\n",
       ".sk-estimator-doc-link.fitted:hover {\n",
       "  /* fitted */\n",
       "  background-color: var(--sklearn-color-fitted-level-3);\n",
       "  color: var(--sklearn-color-background);\n",
       "  text-decoration: none;\n",
       "}\n",
       "\n",
       "/* Span, style for the box shown on hovering the info icon */\n",
       ".sk-estimator-doc-link span {\n",
       "  display: none;\n",
       "  z-index: 9999;\n",
       "  position: relative;\n",
       "  font-weight: normal;\n",
       "  right: .2ex;\n",
       "  padding: .5ex;\n",
       "  margin: .5ex;\n",
       "  width: min-content;\n",
       "  min-width: 20ex;\n",
       "  max-width: 50ex;\n",
       "  color: var(--sklearn-color-text);\n",
       "  box-shadow: 2pt 2pt 4pt #999;\n",
       "  /* unfitted */\n",
       "  background: var(--sklearn-color-unfitted-level-0);\n",
       "  border: .5pt solid var(--sklearn-color-unfitted-level-3);\n",
       "}\n",
       "\n",
       ".sk-estimator-doc-link.fitted span {\n",
       "  /* fitted */\n",
       "  background: var(--sklearn-color-fitted-level-0);\n",
       "  border: var(--sklearn-color-fitted-level-3);\n",
       "}\n",
       "\n",
       ".sk-estimator-doc-link:hover span {\n",
       "  display: block;\n",
       "}\n",
       "\n",
       "/* \"?\"-specific style due to the `<a>` HTML tag */\n",
       "\n",
       "#sk-container-id-38 a.estimator_doc_link {\n",
       "  float: right;\n",
       "  font-size: 1rem;\n",
       "  line-height: 1em;\n",
       "  font-family: monospace;\n",
       "  background-color: var(--sklearn-color-background);\n",
       "  border-radius: 1rem;\n",
       "  height: 1rem;\n",
       "  width: 1rem;\n",
       "  text-decoration: none;\n",
       "  /* unfitted */\n",
       "  color: var(--sklearn-color-unfitted-level-1);\n",
       "  border: var(--sklearn-color-unfitted-level-1) 1pt solid;\n",
       "}\n",
       "\n",
       "#sk-container-id-38 a.estimator_doc_link.fitted {\n",
       "  /* fitted */\n",
       "  border: var(--sklearn-color-fitted-level-1) 1pt solid;\n",
       "  color: var(--sklearn-color-fitted-level-1);\n",
       "}\n",
       "\n",
       "/* On hover */\n",
       "#sk-container-id-38 a.estimator_doc_link:hover {\n",
       "  /* unfitted */\n",
       "  background-color: var(--sklearn-color-unfitted-level-3);\n",
       "  color: var(--sklearn-color-background);\n",
       "  text-decoration: none;\n",
       "}\n",
       "\n",
       "#sk-container-id-38 a.estimator_doc_link.fitted:hover {\n",
       "  /* fitted */\n",
       "  background-color: var(--sklearn-color-fitted-level-3);\n",
       "}\n",
       "</style><div id=\"sk-container-id-38\" class=\"sk-top-container\"><div class=\"sk-text-repr-fallback\"><pre>Pipeline(steps=[(&#x27;preprocessor&#x27;,\n",
       "                 ColumnTransformer(transformers=[(&#x27;numerico&#x27;,\n",
       "                                                  Pipeline(steps=[(&#x27;imputer&#x27;,\n",
       "                                                                   SimpleImputer()),\n",
       "                                                                  (&#x27;scaler&#x27;,\n",
       "                                                                   StandardScaler())]),\n",
       "                                                  [&#x27;ra&#x27;, &#x27;dec&#x27;, &#x27;run&#x27;, &#x27;camcol&#x27;,\n",
       "                                                   &#x27;field&#x27;, &#x27;mjd&#x27;, &#x27;colv&#x27;,\n",
       "                                                   &#x27;rowv&#x27;])])),\n",
       "                (&#x27;scaler&#x27;, StandardScaler()), (&#x27;model&#x27;, LinearRegression())])</pre><b>In a Jupyter environment, please rerun this cell to show the HTML representation or trust the notebook. <br />On GitHub, the HTML representation is unable to render, please try loading this page with nbviewer.org.</b></div><div class=\"sk-container\" hidden><div class=\"sk-item sk-dashed-wrapped\"><div class=\"sk-label-container\"><div class=\"sk-label fitted sk-toggleable\"><input class=\"sk-toggleable__control sk-hidden--visually\" id=\"sk-estimator-id-228\" type=\"checkbox\" ><label for=\"sk-estimator-id-228\" class=\"sk-toggleable__label fitted sk-toggleable__label-arrow\"><div><div>Pipeline</div></div><div><a class=\"sk-estimator-doc-link fitted\" rel=\"noreferrer\" target=\"_blank\" href=\"https://scikit-learn.org/1.6/modules/generated/sklearn.pipeline.Pipeline.html\">?<span>Documentation for Pipeline</span></a><span class=\"sk-estimator-doc-link fitted\">i<span>Fitted</span></span></div></label><div class=\"sk-toggleable__content fitted\"><pre>Pipeline(steps=[(&#x27;preprocessor&#x27;,\n",
       "                 ColumnTransformer(transformers=[(&#x27;numerico&#x27;,\n",
       "                                                  Pipeline(steps=[(&#x27;imputer&#x27;,\n",
       "                                                                   SimpleImputer()),\n",
       "                                                                  (&#x27;scaler&#x27;,\n",
       "                                                                   StandardScaler())]),\n",
       "                                                  [&#x27;ra&#x27;, &#x27;dec&#x27;, &#x27;run&#x27;, &#x27;camcol&#x27;,\n",
       "                                                   &#x27;field&#x27;, &#x27;mjd&#x27;, &#x27;colv&#x27;,\n",
       "                                                   &#x27;rowv&#x27;])])),\n",
       "                (&#x27;scaler&#x27;, StandardScaler()), (&#x27;model&#x27;, LinearRegression())])</pre></div> </div></div><div class=\"sk-serial\"><div class=\"sk-item sk-dashed-wrapped\"><div class=\"sk-label-container\"><div class=\"sk-label fitted sk-toggleable\"><input class=\"sk-toggleable__control sk-hidden--visually\" id=\"sk-estimator-id-229\" type=\"checkbox\" ><label for=\"sk-estimator-id-229\" class=\"sk-toggleable__label fitted sk-toggleable__label-arrow\"><div><div>preprocessor: ColumnTransformer</div></div><div><a class=\"sk-estimator-doc-link fitted\" rel=\"noreferrer\" target=\"_blank\" href=\"https://scikit-learn.org/1.6/modules/generated/sklearn.compose.ColumnTransformer.html\">?<span>Documentation for preprocessor: ColumnTransformer</span></a></div></label><div class=\"sk-toggleable__content fitted\"><pre>ColumnTransformer(transformers=[(&#x27;numerico&#x27;,\n",
       "                                 Pipeline(steps=[(&#x27;imputer&#x27;, SimpleImputer()),\n",
       "                                                 (&#x27;scaler&#x27;, StandardScaler())]),\n",
       "                                 [&#x27;ra&#x27;, &#x27;dec&#x27;, &#x27;run&#x27;, &#x27;camcol&#x27;, &#x27;field&#x27;, &#x27;mjd&#x27;,\n",
       "                                  &#x27;colv&#x27;, &#x27;rowv&#x27;])])</pre></div> </div></div><div class=\"sk-parallel\"><div class=\"sk-parallel-item\"><div class=\"sk-item\"><div class=\"sk-label-container\"><div class=\"sk-label fitted sk-toggleable\"><input class=\"sk-toggleable__control sk-hidden--visually\" id=\"sk-estimator-id-230\" type=\"checkbox\" ><label for=\"sk-estimator-id-230\" class=\"sk-toggleable__label fitted sk-toggleable__label-arrow\"><div><div>numerico</div></div></label><div class=\"sk-toggleable__content fitted\"><pre>[&#x27;ra&#x27;, &#x27;dec&#x27;, &#x27;run&#x27;, &#x27;camcol&#x27;, &#x27;field&#x27;, &#x27;mjd&#x27;, &#x27;colv&#x27;, &#x27;rowv&#x27;]</pre></div> </div></div><div class=\"sk-serial\"><div class=\"sk-item\"><div class=\"sk-serial\"><div class=\"sk-item\"><div class=\"sk-estimator fitted sk-toggleable\"><input class=\"sk-toggleable__control sk-hidden--visually\" id=\"sk-estimator-id-231\" type=\"checkbox\" ><label for=\"sk-estimator-id-231\" class=\"sk-toggleable__label fitted sk-toggleable__label-arrow\"><div><div>SimpleImputer</div></div><div><a class=\"sk-estimator-doc-link fitted\" rel=\"noreferrer\" target=\"_blank\" href=\"https://scikit-learn.org/1.6/modules/generated/sklearn.impute.SimpleImputer.html\">?<span>Documentation for SimpleImputer</span></a></div></label><div class=\"sk-toggleable__content fitted\"><pre>SimpleImputer()</pre></div> </div></div><div class=\"sk-item\"><div class=\"sk-estimator fitted sk-toggleable\"><input class=\"sk-toggleable__control sk-hidden--visually\" id=\"sk-estimator-id-232\" type=\"checkbox\" ><label for=\"sk-estimator-id-232\" class=\"sk-toggleable__label fitted sk-toggleable__label-arrow\"><div><div>StandardScaler</div></div><div><a class=\"sk-estimator-doc-link fitted\" rel=\"noreferrer\" target=\"_blank\" href=\"https://scikit-learn.org/1.6/modules/generated/sklearn.preprocessing.StandardScaler.html\">?<span>Documentation for StandardScaler</span></a></div></label><div class=\"sk-toggleable__content fitted\"><pre>StandardScaler()</pre></div> </div></div></div></div></div></div></div></div></div><div class=\"sk-item\"><div class=\"sk-estimator fitted sk-toggleable\"><input class=\"sk-toggleable__control sk-hidden--visually\" id=\"sk-estimator-id-233\" type=\"checkbox\" ><label for=\"sk-estimator-id-233\" class=\"sk-toggleable__label fitted sk-toggleable__label-arrow\"><div><div>StandardScaler</div></div><div><a class=\"sk-estimator-doc-link fitted\" rel=\"noreferrer\" target=\"_blank\" href=\"https://scikit-learn.org/1.6/modules/generated/sklearn.preprocessing.StandardScaler.html\">?<span>Documentation for StandardScaler</span></a></div></label><div class=\"sk-toggleable__content fitted\"><pre>StandardScaler()</pre></div> </div></div><div class=\"sk-item\"><div class=\"sk-estimator fitted sk-toggleable\"><input class=\"sk-toggleable__control sk-hidden--visually\" id=\"sk-estimator-id-234\" type=\"checkbox\" ><label for=\"sk-estimator-id-234\" class=\"sk-toggleable__label fitted sk-toggleable__label-arrow\"><div><div>LinearRegression</div></div><div><a class=\"sk-estimator-doc-link fitted\" rel=\"noreferrer\" target=\"_blank\" href=\"https://scikit-learn.org/1.6/modules/generated/sklearn.linear_model.LinearRegression.html\">?<span>Documentation for LinearRegression</span></a></div></label><div class=\"sk-toggleable__content fitted\"><pre>LinearRegression()</pre></div> </div></div></div></div></div></div>"
      ],
      "text/plain": [
       "Pipeline(steps=[('preprocessor',\n",
       "                 ColumnTransformer(transformers=[('numerico',\n",
       "                                                  Pipeline(steps=[('imputer',\n",
       "                                                                   SimpleImputer()),\n",
       "                                                                  ('scaler',\n",
       "                                                                   StandardScaler())]),\n",
       "                                                  ['ra', 'dec', 'run', 'camcol',\n",
       "                                                   'field', 'mjd', 'colv',\n",
       "                                                   'rowv'])])),\n",
       "                ('scaler', StandardScaler()), ('model', LinearRegression())])"
      ]
     },
     "execution_count": 1873,
     "metadata": {},
     "output_type": "execute_result"
    }
   ],
   "source": [
    "pipeline.fit(X_train, y_train)"
   ]
  },
  {
   "cell_type": "code",
   "execution_count": 1874,
   "metadata": {},
   "outputs": [
    {
     "data": {
      "text/plain": [
       "np.float64(0.16828530168934497)"
      ]
     },
     "execution_count": 1874,
     "metadata": {},
     "output_type": "execute_result"
    }
   ],
   "source": [
    "pipeline['model'].intercept_"
   ]
  },
  {
   "cell_type": "code",
   "execution_count": 1875,
   "metadata": {},
   "outputs": [
    {
     "data": {
      "text/html": [
       "<div>\n",
       "<style scoped>\n",
       "    .dataframe tbody tr th:only-of-type {\n",
       "        vertical-align: middle;\n",
       "    }\n",
       "\n",
       "    .dataframe tbody tr th {\n",
       "        vertical-align: top;\n",
       "    }\n",
       "\n",
       "    .dataframe thead th {\n",
       "        text-align: right;\n",
       "    }\n",
       "</style>\n",
       "<table border=\"1\" class=\"dataframe\">\n",
       "  <thead>\n",
       "    <tr style=\"text-align: right;\">\n",
       "      <th></th>\n",
       "      <th>columns</th>\n",
       "      <th>coef</th>\n",
       "    </tr>\n",
       "  </thead>\n",
       "  <tbody>\n",
       "    <tr>\n",
       "      <th>0</th>\n",
       "      <td>2</td>\n",
       "      <td>0.059883</td>\n",
       "    </tr>\n",
       "    <tr>\n",
       "      <th>1</th>\n",
       "      <td>2</td>\n",
       "      <td>0.042549</td>\n",
       "    </tr>\n",
       "    <tr>\n",
       "      <th>2</th>\n",
       "      <td>2</td>\n",
       "      <td>0.005084</td>\n",
       "    </tr>\n",
       "    <tr>\n",
       "      <th>3</th>\n",
       "      <td>2</td>\n",
       "      <td>-0.016639</td>\n",
       "    </tr>\n",
       "    <tr>\n",
       "      <th>4</th>\n",
       "      <td>2</td>\n",
       "      <td>-0.013749</td>\n",
       "    </tr>\n",
       "    <tr>\n",
       "      <th>5</th>\n",
       "      <td>2</td>\n",
       "      <td>-0.027390</td>\n",
       "    </tr>\n",
       "    <tr>\n",
       "      <th>6</th>\n",
       "      <td>2</td>\n",
       "      <td>0.027136</td>\n",
       "    </tr>\n",
       "    <tr>\n",
       "      <th>7</th>\n",
       "      <td>2</td>\n",
       "      <td>0.006775</td>\n",
       "    </tr>\n",
       "  </tbody>\n",
       "</table>\n",
       "</div>"
      ],
      "text/plain": [
       "   columns      coef\n",
       "0        2  0.059883\n",
       "1        2  0.042549\n",
       "2        2  0.005084\n",
       "3        2 -0.016639\n",
       "4        2 -0.013749\n",
       "5        2 -0.027390\n",
       "6        2  0.027136\n",
       "7        2  0.006775"
      ]
     },
     "execution_count": 1875,
     "metadata": {},
     "output_type": "execute_result"
    }
   ],
   "source": [
    "pd.DataFrame({'columns': 2, 'coef': pipeline['model'].coef_})"
   ]
  },
  {
   "cell_type": "code",
   "execution_count": 1876,
   "metadata": {},
   "outputs": [
    {
     "name": "stdout",
     "output_type": "stream",
     "text": [
      "MAE:\n",
      "Train: 0.21542786432139677\n",
      "Test: 0.21725357109209426\n",
      "\n",
      "RMSE:\n",
      "Train: 0.41853418253234226\n",
      "Test: 0.4412571464115168\n",
      "\n",
      "R²: -0.0016248603109390025\n"
     ]
    }
   ],
   "source": [
    "print(\"MAE:\")\n",
    "print(\"Train:\", mean_absolute_error(y_train, pipeline.predict(X_train)))\n",
    "print(\"Test:\", mean_absolute_error(y_test, pipeline.predict(X_test)))\n",
    "print(\"\\nRMSE:\")\n",
    "print(\"Train:\", np.sqrt(mean_squared_error(y_train, pipeline.predict(X_train))))\n",
    "print(\"Test:\", np.sqrt(mean_squared_error(y_test, pipeline.predict(X_test))))\n",
    "print(\"\\nR²:\", r2_score(y_test, pipeline.predict(X_test)))"
   ]
  },
  {
   "cell_type": "code",
   "execution_count": 1877,
   "metadata": {},
   "outputs": [
    {
     "name": "stdout",
     "output_type": "stream",
     "text": [
      "Mejores parámetros: {'preprocessor__numerico__imputer__strategy': 'mean', 'preprocessor__numerico__scaler': StandardScaler()}\n"
     ]
    }
   ],
   "source": [
    "grid.fit(X_train, y_train) \n",
    "\n",
    "print(\"Mejores parámetros: {}\".format(grid.best_params_))\n",
    "mejor_pipeline = grid.best_estimator_"
   ]
  },
  {
   "cell_type": "markdown",
   "metadata": {},
   "source": [
    "### 6.2 Escogencia del mejor modelo\n",
    "\n",
    "####  Para escoger el mejor modelo, entrenamos un mejor_pipeline y lo evaluamos en el conjunto de entrenamiento y en el conjunto de prueba "
   ]
  },
  {
   "cell_type": "code",
   "execution_count": 1878,
   "metadata": {},
   "outputs": [
    {
     "name": "stdout",
     "output_type": "stream",
     "text": [
      "Training MSE: 0.42\n",
      "Training MAE: 0.22\n",
      "Training R²: 0.02\n"
     ]
    }
   ],
   "source": [
    "# Predicciones en entrenamiento\n",
    "train_predictions = mejor_pipeline.predict(X_train)\n",
    "\n",
    "# Evaluación en entrenamiento\n",
    "train_mse = np.sqrt(mean_squared_error(y_train, pipeline.predict(X_train)))\n",
    "train_mae = mean_absolute_error(y_train, train_predictions)\n",
    "train_r2 = r2_score(y_train, train_predictions)\n",
    "\n",
    "print(f\"Training MSE: {train_mse:.2f}\")\n",
    "print(f\"Training MAE: {train_mae:.2f}\")\n",
    "print(f\"Training R²: {train_r2:.2f}\")"
   ]
  },
  {
   "cell_type": "code",
   "execution_count": 1879,
   "metadata": {},
   "outputs": [
    {
     "name": "stdout",
     "output_type": "stream",
     "text": [
      "Test MSE: 0.44\n",
      "Test MAE: 0.22\n",
      "Test R²: -0.00\n"
     ]
    }
   ],
   "source": [
    "# Predicciones en prueba\n",
    "\n",
    "test_predictions = mejor_pipeline.predict(X_test)\n",
    "\n",
    "# Evaluación en prueba\n",
    "test_mse = np.sqrt(mean_squared_error(y_test, pipeline.predict(X_test)))\n",
    "test_mae = mean_absolute_error(y_test, test_predictions)\n",
    "test_r2 = r2_score(y_test, test_predictions)\n",
    "\n",
    "print(f\"Test MSE: {test_mse:.2f}\")\n",
    "print(f\"Test MAE: {test_mae:.2f}\")\n",
    "print(f\"Test R²: {test_r2:.2f}\")"
   ]
  },
  {
   "cell_type": "markdown",
   "metadata": {},
   "source": [
    "Análisis: Los resultados muestran consistencia entre ambos conjuntos, sugiriendo buena generalización del modelo. Sin embargo, los valores de las métricas no son óptimos, indicando margen de mejora en la precisión predictiva. A pesar de esto, la consistencia entre los resultados es un aspecto positivo que sugiere que con los ajustes adecuados el modelo es confiable en su desempeño en diferentes conjuntos de datos. Adicionalmete, las métricas si mejoran ligeramente entre el modelo inicial y el mejor modelo"
   ]
  },
  {
   "cell_type": "markdown",
   "metadata": {},
   "source": [
    "# 7. Exportación del modelo\n",
    "\n",
    "##### Se exporta el modelo usando joblib para que posteriormente pueda ser usado en otro set de datos"
   ]
  },
  {
   "cell_type": "code",
   "execution_count": 1880,
   "metadata": {},
   "outputs": [],
   "source": [
    "filename = \"modelo.joblib\""
   ]
  },
  {
   "cell_type": "code",
   "execution_count": 1881,
   "metadata": {},
   "outputs": [
    {
     "data": {
      "text/plain": [
       "['modelo.joblib']"
      ]
     },
     "execution_count": 1881,
     "metadata": {},
     "output_type": "execute_result"
    }
   ],
   "source": [
    "from joblib import dump, load\n",
    "\n",
    "\n",
    "dump(mejor_pipeline, filename)"
   ]
  },
  {
   "cell_type": "code",
   "execution_count": 1882,
   "metadata": {},
   "outputs": [],
   "source": [
    "pipeline_loaded = load(filename)"
   ]
  },
  {
   "cell_type": "markdown",
   "metadata": {},
   "source": [
    "# 8. Predicción variable objetivo"
   ]
  },
  {
   "cell_type": "markdown",
   "metadata": {},
   "source": [
    "Como ultimo paso, se ingresan los datos del archivo de validación para ser etiquetados por el pipeline con el mejor modelo"
   ]
  },
  {
   "cell_type": "code",
   "execution_count": 1883,
   "metadata": {},
   "outputs": [
    {
     "data": {
      "text/html": [
       "<div>\n",
       "<style scoped>\n",
       "    .dataframe tbody tr th:only-of-type {\n",
       "        vertical-align: middle;\n",
       "    }\n",
       "\n",
       "    .dataframe tbody tr th {\n",
       "        vertical-align: top;\n",
       "    }\n",
       "\n",
       "    .dataframe thead th {\n",
       "        text-align: right;\n",
       "    }\n",
       "</style>\n",
       "<table border=\"1\" class=\"dataframe\">\n",
       "  <thead>\n",
       "    <tr style=\"text-align: right;\">\n",
       "      <th></th>\n",
       "      <th>ra</th>\n",
       "      <th>colv</th>\n",
       "      <th>i</th>\n",
       "      <th>rowv</th>\n",
       "      <th>class</th>\n",
       "      <th>dec</th>\n",
       "      <th>score</th>\n",
       "      <th>camcol</th>\n",
       "      <th>field</th>\n",
       "      <th>clean</th>\n",
       "      <th>r</th>\n",
       "      <th>z</th>\n",
       "      <th>g</th>\n",
       "      <th>run</th>\n",
       "      <th>objid</th>\n",
       "      <th>u</th>\n",
       "      <th>mjd</th>\n",
       "    </tr>\n",
       "  </thead>\n",
       "  <tbody>\n",
       "    <tr>\n",
       "      <th>0</th>\n",
       "      <td>190.129408</td>\n",
       "      <td>0.000187</td>\n",
       "      <td>17.04507</td>\n",
       "      <td>0.000731</td>\n",
       "      <td>STAR</td>\n",
       "      <td>0.740488</td>\n",
       "      <td>0.822898</td>\n",
       "      <td>5</td>\n",
       "      <td>496</td>\n",
       "      <td>1</td>\n",
       "      <td>17.23757</td>\n",
       "      <td>16.98653</td>\n",
       "      <td>17.72796</td>\n",
       "      <td>756</td>\n",
       "      <td>1237648722308890798</td>\n",
       "      <td>18.84865</td>\n",
       "      <td>54567</td>\n",
       "    </tr>\n",
       "    <tr>\n",
       "      <th>1</th>\n",
       "      <td>126.739160</td>\n",
       "      <td>-0.001844</td>\n",
       "      <td>17.87246</td>\n",
       "      <td>-0.000979</td>\n",
       "      <td>STAR</td>\n",
       "      <td>-0.982894</td>\n",
       "      <td>0.868712</td>\n",
       "      <td>1</td>\n",
       "      <td>73</td>\n",
       "      <td>1</td>\n",
       "      <td>17.96179</td>\n",
       "      <td>17.83893</td>\n",
       "      <td>18.27308</td>\n",
       "      <td>756</td>\n",
       "      <td>1237648720133685722</td>\n",
       "      <td>19.34957</td>\n",
       "      <td>53083</td>\n",
       "    </tr>\n",
       "    <tr>\n",
       "      <th>2</th>\n",
       "      <td>162.692083</td>\n",
       "      <td>-0.004810</td>\n",
       "      <td>16.20404</td>\n",
       "      <td>-0.004358</td>\n",
       "      <td>GALAXY</td>\n",
       "      <td>1.068587</td>\n",
       "      <td>0.830950</td>\n",
       "      <td>6</td>\n",
       "      <td>313</td>\n",
       "      <td>0</td>\n",
       "      <td>16.55942</td>\n",
       "      <td>15.94029</td>\n",
       "      <td>17.21567</td>\n",
       "      <td>756</td>\n",
       "      <td>1237648722833768573</td>\n",
       "      <td>18.64485</td>\n",
       "      <td>51909</td>\n",
       "    </tr>\n",
       "    <tr>\n",
       "      <th>3</th>\n",
       "      <td>190.181702</td>\n",
       "      <td>-0.012342</td>\n",
       "      <td>17.48020</td>\n",
       "      <td>-0.002584</td>\n",
       "      <td>GALAXY</td>\n",
       "      <td>0.797830</td>\n",
       "      <td>0.833386</td>\n",
       "      <td>5</td>\n",
       "      <td>497</td>\n",
       "      <td>0</td>\n",
       "      <td>17.69294</td>\n",
       "      <td>17.30092</td>\n",
       "      <td>18.12268</td>\n",
       "      <td>756</td>\n",
       "      <td>1237648722308956300</td>\n",
       "      <td>19.25978</td>\n",
       "      <td>51941</td>\n",
       "    </tr>\n",
       "    <tr>\n",
       "      <th>4</th>\n",
       "      <td>225.414989</td>\n",
       "      <td>-0.000250</td>\n",
       "      <td>17.81908</td>\n",
       "      <td>-0.000397</td>\n",
       "      <td>STAR</td>\n",
       "      <td>0.878768</td>\n",
       "      <td>0.881142</td>\n",
       "      <td>6</td>\n",
       "      <td>547</td>\n",
       "      <td>1</td>\n",
       "      <td>17.89974</td>\n",
       "      <td>17.79936</td>\n",
       "      <td>18.12826</td>\n",
       "      <td>752</td>\n",
       "      <td>1237648705669234734</td>\n",
       "      <td>19.39298</td>\n",
       "      <td>51990</td>\n",
       "    </tr>\n",
       "  </tbody>\n",
       "</table>\n",
       "</div>"
      ],
      "text/plain": [
       "           ra      colv         i      rowv   class       dec     score  \\\n",
       "0  190.129408  0.000187  17.04507  0.000731    STAR  0.740488  0.822898   \n",
       "1  126.739160 -0.001844  17.87246 -0.000979    STAR -0.982894  0.868712   \n",
       "2  162.692083 -0.004810  16.20404 -0.004358  GALAXY  1.068587  0.830950   \n",
       "3  190.181702 -0.012342  17.48020 -0.002584  GALAXY  0.797830  0.833386   \n",
       "4  225.414989 -0.000250  17.81908 -0.000397    STAR  0.878768  0.881142   \n",
       "\n",
       "   camcol  field  clean         r         z         g  run  \\\n",
       "0       5    496      1  17.23757  16.98653  17.72796  756   \n",
       "1       1     73      1  17.96179  17.83893  18.27308  756   \n",
       "2       6    313      0  16.55942  15.94029  17.21567  756   \n",
       "3       5    497      0  17.69294  17.30092  18.12268  756   \n",
       "4       6    547      1  17.89974  17.79936  18.12826  752   \n",
       "\n",
       "                 objid         u    mjd  \n",
       "0  1237648722308890798  18.84865  54567  \n",
       "1  1237648720133685722  19.34957  53083  \n",
       "2  1237648722833768573  18.64485  51909  \n",
       "3  1237648722308956300  19.25978  51941  \n",
       "4  1237648705669234734  19.39298  51990  "
      ]
     },
     "execution_count": 1883,
     "metadata": {},
     "output_type": "execute_result"
    }
   ],
   "source": [
    "v_data = pd.read_csv(\"./validation_data.csv\")\n",
    "v_data.head()"
   ]
  },
  {
   "cell_type": "code",
   "execution_count": 1884,
   "metadata": {},
   "outputs": [
    {
     "data": {
      "text/html": [
       "<div>\n",
       "<style scoped>\n",
       "    .dataframe tbody tr th:only-of-type {\n",
       "        vertical-align: middle;\n",
       "    }\n",
       "\n",
       "    .dataframe tbody tr th {\n",
       "        vertical-align: top;\n",
       "    }\n",
       "\n",
       "    .dataframe thead th {\n",
       "        text-align: right;\n",
       "    }\n",
       "</style>\n",
       "<table border=\"1\" class=\"dataframe\">\n",
       "  <thead>\n",
       "    <tr style=\"text-align: right;\">\n",
       "      <th></th>\n",
       "      <th>ra</th>\n",
       "      <th>dec</th>\n",
       "      <th>run</th>\n",
       "      <th>camcol</th>\n",
       "      <th>field</th>\n",
       "      <th>mjd</th>\n",
       "      <th>colv</th>\n",
       "      <th>rowv</th>\n",
       "    </tr>\n",
       "  </thead>\n",
       "  <tbody>\n",
       "    <tr>\n",
       "      <th>0</th>\n",
       "      <td>190.129408</td>\n",
       "      <td>0.740488</td>\n",
       "      <td>756</td>\n",
       "      <td>5</td>\n",
       "      <td>496</td>\n",
       "      <td>54567</td>\n",
       "      <td>0.000187</td>\n",
       "      <td>0.000731</td>\n",
       "    </tr>\n",
       "    <tr>\n",
       "      <th>1</th>\n",
       "      <td>126.739160</td>\n",
       "      <td>-0.982894</td>\n",
       "      <td>756</td>\n",
       "      <td>1</td>\n",
       "      <td>73</td>\n",
       "      <td>53083</td>\n",
       "      <td>-0.001844</td>\n",
       "      <td>-0.000979</td>\n",
       "    </tr>\n",
       "    <tr>\n",
       "      <th>2</th>\n",
       "      <td>162.692083</td>\n",
       "      <td>1.068587</td>\n",
       "      <td>756</td>\n",
       "      <td>6</td>\n",
       "      <td>313</td>\n",
       "      <td>51909</td>\n",
       "      <td>-0.004810</td>\n",
       "      <td>-0.004358</td>\n",
       "    </tr>\n",
       "    <tr>\n",
       "      <th>3</th>\n",
       "      <td>190.181702</td>\n",
       "      <td>0.797830</td>\n",
       "      <td>756</td>\n",
       "      <td>5</td>\n",
       "      <td>497</td>\n",
       "      <td>51941</td>\n",
       "      <td>-0.012342</td>\n",
       "      <td>-0.002584</td>\n",
       "    </tr>\n",
       "    <tr>\n",
       "      <th>4</th>\n",
       "      <td>225.414989</td>\n",
       "      <td>0.878768</td>\n",
       "      <td>752</td>\n",
       "      <td>6</td>\n",
       "      <td>547</td>\n",
       "      <td>51990</td>\n",
       "      <td>-0.000250</td>\n",
       "      <td>-0.000397</td>\n",
       "    </tr>\n",
       "  </tbody>\n",
       "</table>\n",
       "</div>"
      ],
      "text/plain": [
       "           ra       dec  run  camcol  field    mjd      colv      rowv\n",
       "0  190.129408  0.740488  756       5    496  54567  0.000187  0.000731\n",
       "1  126.739160 -0.982894  756       1     73  53083 -0.001844 -0.000979\n",
       "2  162.692083  1.068587  756       6    313  51909 -0.004810 -0.004358\n",
       "3  190.181702  0.797830  756       5    497  51941 -0.012342 -0.002584\n",
       "4  225.414989  0.878768  752       6    547  51990 -0.000250 -0.000397"
      ]
     },
     "execution_count": 1884,
     "metadata": {},
     "output_type": "execute_result"
    }
   ],
   "source": [
    "v_data.rename(columns={'KTAS_Experto': 'KTAS_experto'}, inplace=True)\n",
    "\n",
    "featuresv = features2.copy()\n",
    "\n",
    "validacion = v_data[featuresv]\n",
    "validacion.head()"
   ]
  },
  {
   "cell_type": "markdown",
   "metadata": {},
   "source": [
    "Se hacen ajustes a las etiquetas y el formato de los datos para hacer la exportación"
   ]
  },
  {
   "cell_type": "code",
   "execution_count": 1885,
   "metadata": {},
   "outputs": [
    {
     "name": "stdout",
     "output_type": "stream",
     "text": [
      "     redshift\n",
      "0    0.138889\n",
      "1    0.093216\n",
      "2    0.125911\n",
      "3    0.115230\n",
      "4    0.222205\n",
      "..        ...\n",
      "995  0.231361\n",
      "996  0.155417\n",
      "997  0.181759\n",
      "998  0.142726\n",
      "999  0.240426\n",
      "\n",
      "[1000 rows x 1 columns]\n"
     ]
    }
   ],
   "source": [
    "y_predicted = mejor_pipeline.predict(validacion)\n",
    "\n",
    "# Calcula el desempeño del modelo\n",
    "respuesta_df = pd.DataFrame({\"redshift\": y_predicted})\n",
    "print(respuesta_df)"
   ]
  },
  {
   "cell_type": "code",
   "execution_count": 1886,
   "metadata": {},
   "outputs": [
    {
     "data": {
      "text/html": [
       "<div>\n",
       "<style scoped>\n",
       "    .dataframe tbody tr th:only-of-type {\n",
       "        vertical-align: middle;\n",
       "    }\n",
       "\n",
       "    .dataframe tbody tr th {\n",
       "        vertical-align: top;\n",
       "    }\n",
       "\n",
       "    .dataframe thead th {\n",
       "        text-align: right;\n",
       "    }\n",
       "</style>\n",
       "<table border=\"1\" class=\"dataframe\">\n",
       "  <thead>\n",
       "    <tr style=\"text-align: right;\">\n",
       "      <th></th>\n",
       "      <th>ra</th>\n",
       "      <th>colv</th>\n",
       "      <th>i</th>\n",
       "      <th>rowv</th>\n",
       "      <th>class</th>\n",
       "      <th>dec</th>\n",
       "      <th>score</th>\n",
       "      <th>camcol</th>\n",
       "      <th>field</th>\n",
       "      <th>clean</th>\n",
       "      <th>r</th>\n",
       "      <th>z</th>\n",
       "      <th>g</th>\n",
       "      <th>run</th>\n",
       "      <th>objid</th>\n",
       "      <th>u</th>\n",
       "      <th>mjd</th>\n",
       "      <th>redshift</th>\n",
       "    </tr>\n",
       "  </thead>\n",
       "  <tbody>\n",
       "    <tr>\n",
       "      <th>0</th>\n",
       "      <td>190.129408</td>\n",
       "      <td>0.000187</td>\n",
       "      <td>17.04507</td>\n",
       "      <td>0.000731</td>\n",
       "      <td>STAR</td>\n",
       "      <td>0.740488</td>\n",
       "      <td>0.822898</td>\n",
       "      <td>5</td>\n",
       "      <td>496</td>\n",
       "      <td>1</td>\n",
       "      <td>17.23757</td>\n",
       "      <td>16.98653</td>\n",
       "      <td>17.72796</td>\n",
       "      <td>756</td>\n",
       "      <td>1237648722308890798</td>\n",
       "      <td>18.84865</td>\n",
       "      <td>54567</td>\n",
       "      <td>0.138889</td>\n",
       "    </tr>\n",
       "    <tr>\n",
       "      <th>1</th>\n",
       "      <td>126.739160</td>\n",
       "      <td>-0.001844</td>\n",
       "      <td>17.87246</td>\n",
       "      <td>-0.000979</td>\n",
       "      <td>STAR</td>\n",
       "      <td>-0.982894</td>\n",
       "      <td>0.868712</td>\n",
       "      <td>1</td>\n",
       "      <td>73</td>\n",
       "      <td>1</td>\n",
       "      <td>17.96179</td>\n",
       "      <td>17.83893</td>\n",
       "      <td>18.27308</td>\n",
       "      <td>756</td>\n",
       "      <td>1237648720133685722</td>\n",
       "      <td>19.34957</td>\n",
       "      <td>53083</td>\n",
       "      <td>0.093216</td>\n",
       "    </tr>\n",
       "    <tr>\n",
       "      <th>2</th>\n",
       "      <td>162.692083</td>\n",
       "      <td>-0.004810</td>\n",
       "      <td>16.20404</td>\n",
       "      <td>-0.004358</td>\n",
       "      <td>GALAXY</td>\n",
       "      <td>1.068587</td>\n",
       "      <td>0.830950</td>\n",
       "      <td>6</td>\n",
       "      <td>313</td>\n",
       "      <td>0</td>\n",
       "      <td>16.55942</td>\n",
       "      <td>15.94029</td>\n",
       "      <td>17.21567</td>\n",
       "      <td>756</td>\n",
       "      <td>1237648722833768573</td>\n",
       "      <td>18.64485</td>\n",
       "      <td>51909</td>\n",
       "      <td>0.125911</td>\n",
       "    </tr>\n",
       "    <tr>\n",
       "      <th>3</th>\n",
       "      <td>190.181702</td>\n",
       "      <td>-0.012342</td>\n",
       "      <td>17.48020</td>\n",
       "      <td>-0.002584</td>\n",
       "      <td>GALAXY</td>\n",
       "      <td>0.797830</td>\n",
       "      <td>0.833386</td>\n",
       "      <td>5</td>\n",
       "      <td>497</td>\n",
       "      <td>0</td>\n",
       "      <td>17.69294</td>\n",
       "      <td>17.30092</td>\n",
       "      <td>18.12268</td>\n",
       "      <td>756</td>\n",
       "      <td>1237648722308956300</td>\n",
       "      <td>19.25978</td>\n",
       "      <td>51941</td>\n",
       "      <td>0.115230</td>\n",
       "    </tr>\n",
       "    <tr>\n",
       "      <th>4</th>\n",
       "      <td>225.414989</td>\n",
       "      <td>-0.000250</td>\n",
       "      <td>17.81908</td>\n",
       "      <td>-0.000397</td>\n",
       "      <td>STAR</td>\n",
       "      <td>0.878768</td>\n",
       "      <td>0.881142</td>\n",
       "      <td>6</td>\n",
       "      <td>547</td>\n",
       "      <td>1</td>\n",
       "      <td>17.89974</td>\n",
       "      <td>17.79936</td>\n",
       "      <td>18.12826</td>\n",
       "      <td>752</td>\n",
       "      <td>1237648705669234734</td>\n",
       "      <td>19.39298</td>\n",
       "      <td>51990</td>\n",
       "      <td>0.222205</td>\n",
       "    </tr>\n",
       "    <tr>\n",
       "      <th>...</th>\n",
       "      <td>...</td>\n",
       "      <td>...</td>\n",
       "      <td>...</td>\n",
       "      <td>...</td>\n",
       "      <td>...</td>\n",
       "      <td>...</td>\n",
       "      <td>...</td>\n",
       "      <td>...</td>\n",
       "      <td>...</td>\n",
       "      <td>...</td>\n",
       "      <td>...</td>\n",
       "      <td>...</td>\n",
       "      <td>...</td>\n",
       "      <td>...</td>\n",
       "      <td>...</td>\n",
       "      <td>...</td>\n",
       "      <td>...</td>\n",
       "      <td>...</td>\n",
       "    </tr>\n",
       "    <tr>\n",
       "      <th>995</th>\n",
       "      <td>229.490772</td>\n",
       "      <td>-0.000204</td>\n",
       "      <td>15.64112</td>\n",
       "      <td>-0.001221</td>\n",
       "      <td>GALAXY</td>\n",
       "      <td>0.472690</td>\n",
       "      <td>0.888303</td>\n",
       "      <td>5</td>\n",
       "      <td>574</td>\n",
       "      <td>0</td>\n",
       "      <td>16.11520</td>\n",
       "      <td>15.25490</td>\n",
       "      <td>17.18633</td>\n",
       "      <td>752</td>\n",
       "      <td>1237648705134133336</td>\n",
       "      <td>19.24527</td>\n",
       "      <td>51689</td>\n",
       "      <td>0.231361</td>\n",
       "    </tr>\n",
       "    <tr>\n",
       "      <th>996</th>\n",
       "      <td>158.537832</td>\n",
       "      <td>0.000757</td>\n",
       "      <td>15.34729</td>\n",
       "      <td>-0.006414</td>\n",
       "      <td>GALAXY</td>\n",
       "      <td>-0.429801</td>\n",
       "      <td>0.874846</td>\n",
       "      <td>2</td>\n",
       "      <td>285</td>\n",
       "      <td>1</td>\n",
       "      <td>15.71882</td>\n",
       "      <td>15.12525</td>\n",
       "      <td>16.27511</td>\n",
       "      <td>756</td>\n",
       "      <td>1237648720684449988</td>\n",
       "      <td>17.42209</td>\n",
       "      <td>51913</td>\n",
       "      <td>0.155417</td>\n",
       "    </tr>\n",
       "    <tr>\n",
       "      <th>997</th>\n",
       "      <td>203.858357</td>\n",
       "      <td>-0.004926</td>\n",
       "      <td>16.54798</td>\n",
       "      <td>0.001629</td>\n",
       "      <td>GALAXY</td>\n",
       "      <td>0.132696</td>\n",
       "      <td>0.881403</td>\n",
       "      <td>4</td>\n",
       "      <td>403</td>\n",
       "      <td>0</td>\n",
       "      <td>16.80410</td>\n",
       "      <td>16.36221</td>\n",
       "      <td>17.24190</td>\n",
       "      <td>752</td>\n",
       "      <td>1237648704586055806</td>\n",
       "      <td>18.26813</td>\n",
       "      <td>51955</td>\n",
       "      <td>0.181759</td>\n",
       "    </tr>\n",
       "    <tr>\n",
       "      <th>998</th>\n",
       "      <td>199.700795</td>\n",
       "      <td>0.000579</td>\n",
       "      <td>17.74216</td>\n",
       "      <td>-0.001224</td>\n",
       "      <td>STAR</td>\n",
       "      <td>-0.904717</td>\n",
       "      <td>0.840030</td>\n",
       "      <td>1</td>\n",
       "      <td>560</td>\n",
       "      <td>1</td>\n",
       "      <td>17.60463</td>\n",
       "      <td>17.85685</td>\n",
       "      <td>17.36018</td>\n",
       "      <td>756</td>\n",
       "      <td>1237648720165601360</td>\n",
       "      <td>18.58085</td>\n",
       "      <td>54970</td>\n",
       "      <td>0.142726</td>\n",
       "    </tr>\n",
       "    <tr>\n",
       "      <th>999</th>\n",
       "      <td>199.892980</td>\n",
       "      <td>0.007052</td>\n",
       "      <td>16.39264</td>\n",
       "      <td>0.008080</td>\n",
       "      <td>GALAXY</td>\n",
       "      <td>-0.858515</td>\n",
       "      <td>0.824116</td>\n",
       "      <td>1</td>\n",
       "      <td>562</td>\n",
       "      <td>1</td>\n",
       "      <td>16.89483</td>\n",
       "      <td>16.08537</td>\n",
       "      <td>17.73285</td>\n",
       "      <td>756</td>\n",
       "      <td>1237648720165732450</td>\n",
       "      <td>19.18588</td>\n",
       "      <td>51984</td>\n",
       "      <td>0.240426</td>\n",
       "    </tr>\n",
       "  </tbody>\n",
       "</table>\n",
       "<p>1000 rows × 18 columns</p>\n",
       "</div>"
      ],
      "text/plain": [
       "             ra      colv         i      rowv   class       dec     score  \\\n",
       "0    190.129408  0.000187  17.04507  0.000731    STAR  0.740488  0.822898   \n",
       "1    126.739160 -0.001844  17.87246 -0.000979    STAR -0.982894  0.868712   \n",
       "2    162.692083 -0.004810  16.20404 -0.004358  GALAXY  1.068587  0.830950   \n",
       "3    190.181702 -0.012342  17.48020 -0.002584  GALAXY  0.797830  0.833386   \n",
       "4    225.414989 -0.000250  17.81908 -0.000397    STAR  0.878768  0.881142   \n",
       "..          ...       ...       ...       ...     ...       ...       ...   \n",
       "995  229.490772 -0.000204  15.64112 -0.001221  GALAXY  0.472690  0.888303   \n",
       "996  158.537832  0.000757  15.34729 -0.006414  GALAXY -0.429801  0.874846   \n",
       "997  203.858357 -0.004926  16.54798  0.001629  GALAXY  0.132696  0.881403   \n",
       "998  199.700795  0.000579  17.74216 -0.001224    STAR -0.904717  0.840030   \n",
       "999  199.892980  0.007052  16.39264  0.008080  GALAXY -0.858515  0.824116   \n",
       "\n",
       "     camcol  field  clean         r         z         g  run  \\\n",
       "0         5    496      1  17.23757  16.98653  17.72796  756   \n",
       "1         1     73      1  17.96179  17.83893  18.27308  756   \n",
       "2         6    313      0  16.55942  15.94029  17.21567  756   \n",
       "3         5    497      0  17.69294  17.30092  18.12268  756   \n",
       "4         6    547      1  17.89974  17.79936  18.12826  752   \n",
       "..      ...    ...    ...       ...       ...       ...  ...   \n",
       "995       5    574      0  16.11520  15.25490  17.18633  752   \n",
       "996       2    285      1  15.71882  15.12525  16.27511  756   \n",
       "997       4    403      0  16.80410  16.36221  17.24190  752   \n",
       "998       1    560      1  17.60463  17.85685  17.36018  756   \n",
       "999       1    562      1  16.89483  16.08537  17.73285  756   \n",
       "\n",
       "                   objid         u    mjd  redshift  \n",
       "0    1237648722308890798  18.84865  54567  0.138889  \n",
       "1    1237648720133685722  19.34957  53083  0.093216  \n",
       "2    1237648722833768573  18.64485  51909  0.125911  \n",
       "3    1237648722308956300  19.25978  51941  0.115230  \n",
       "4    1237648705669234734  19.39298  51990  0.222205  \n",
       "..                   ...       ...    ...       ...  \n",
       "995  1237648705134133336  19.24527  51689  0.231361  \n",
       "996  1237648720684449988  17.42209  51913  0.155417  \n",
       "997  1237648704586055806  18.26813  51955  0.181759  \n",
       "998  1237648720165601360  18.58085  54970  0.142726  \n",
       "999  1237648720165732450  19.18588  51984  0.240426  \n",
       "\n",
       "[1000 rows x 18 columns]"
      ]
     },
     "execution_count": 1886,
     "metadata": {},
     "output_type": "execute_result"
    }
   ],
   "source": [
    "data_final = pd.concat([v_data, respuesta_df], axis=1)\n",
    "data_final"
   ]
  },
  {
   "cell_type": "markdown",
   "metadata": {},
   "source": [
    "Se exportan las predicciones finales al formato csv"
   ]
  },
  {
   "cell_type": "code",
   "execution_count": 1887,
   "metadata": {},
   "outputs": [],
   "source": [
    "data_final.to_csv('predicciones.csv', index=False)"
   ]
  }
 ],
 "metadata": {
  "kernelspec": {
   "display_name": "Python 3 (ipykernel)",
   "language": "python",
   "name": "python3"
  },
  "language_info": {
   "codemirror_mode": {
    "name": "ipython",
    "version": 3
   },
   "file_extension": ".py",
   "mimetype": "text/x-python",
   "name": "python",
   "nbconvert_exporter": "python",
   "pygments_lexer": "ipython3",
   "version": "3.13.1"
  }
 },
 "nbformat": 4,
 "nbformat_minor": 4
}
